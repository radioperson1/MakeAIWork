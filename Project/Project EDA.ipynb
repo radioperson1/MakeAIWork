{
 "cells": [
  {
   "cell_type": "markdown",
   "id": "1176d920-dd5c-44f6-ba21-2cb4c934f71a",
   "metadata": {},
   "source": [
    "# **'Project 1 Healthcare': Exploratory Data Analisys**"
   ]
  },
  {
   "cell_type": "markdown",
   "id": "ec60e1ee-40f3-4bdb-afc3-a7186be66c94",
   "metadata": {
    "tags": []
   },
   "source": [
    "1.1 Importeer librairies <br>"
   ]
  },
  {
   "cell_type": "code",
   "execution_count": null,
   "id": "0cababc9-f321-4a9a-9341-583ca9984e6b",
   "metadata": {
    "tags": []
   },
   "outputs": [],
   "source": [
    "import sqlite3\n",
    "import pandas as pd \n",
    "import numpy as np\n",
    "import json\n",
    "import requests\n",
    "import seaborn as sns\n",
    "import matplotlib.pyplot as plt\n"
   ]
  },
  {
   "cell_type": "markdown",
   "id": "b1a56786-4d05-4378-be58-c2c894da2fd9",
   "metadata": {},
   "source": [
    "## Collection"
   ]
  },
  {
   "cell_type": "markdown",
   "id": "53b95b65-de2d-4a01-982a-c0bce3a13e3d",
   "metadata": {},
   "source": [
    "**Data ophalen met een SQLite query:**"
   ]
  },
  {
   "cell_type": "raw",
   "id": "8b217b52-7b89-4ce5-98fb-fe46e85c1a6e",
   "metadata": {
    "tags": []
   },
   "source": [
    "dbName = \"rest_server/medisch_centrum_randstad/db.sqlite3\"\n",
    "tableName = \"rest_api_netlify\"\n",
    "\n",
    "dbConnection = sqlite3.connect(dbName)\n",
    "# How to convert sqlite3 object to pd dataframe?\n",
    "dfFromDB = pd.read_sql_query(f\"SELECT * FROM {tableName}\", dbConnection)\n",
    "pd.set_option('display.max_columns', 10)\n",
    "\n",
    "dfFromDB.drop(['id'], axis=1)"
   ]
  },
  {
   "cell_type": "markdown",
   "id": "224db8ea-fbe5-4c0f-b7de-453b4f47238b",
   "metadata": {
    "tags": []
   },
   "source": [
    "**Rest API**"
   ]
  },
  {
   "cell_type": "raw",
   "id": "24e1861f-6650-4b9b-81b4-a78cff8fbca1",
   "metadata": {
    "tags": []
   },
   "source": [
    "\n",
    "url = \"http://localhost:8080/medish_centrum_randstad/api/netlify?page=1\"\n",
    "response = requests.get(url).json()\n",
    "df_fromAPI = pd.DataFrame(response['data'])\n"
   ]
  },
  {
   "cell_type": "markdown",
   "id": "0171d609-e489-433c-958b-cc24ba29d257",
   "metadata": {
    "tags": []
   },
   "source": [
    "**CSV bestand**"
   ]
  },
  {
   "cell_type": "code",
   "execution_count": null,
   "id": "01845baa-d74f-456c-bf05-d3d6e9f6ba0f",
   "metadata": {
    "tags": []
   },
   "outputs": [],
   "source": [
    "df = pd.read_csv('./data/data_dinsdag.csv')"
   ]
  },
  {
   "cell_type": "markdown",
   "id": "d5d0d601-9c8e-4849-b2a9-3ad458011682",
   "metadata": {},
   "source": [
    "1.2.1 Check if it worked"
   ]
  },
  {
   "cell_type": "code",
   "execution_count": null,
   "id": "717a8d75-60a1-4278-99a5-492e6dc79d88",
   "metadata": {
    "tags": []
   },
   "outputs": [],
   "source": [
    "df.head()"
   ]
  },
  {
   "cell_type": "code",
   "execution_count": null,
   "id": "6a87f1a6-5fce-4a17-bfba-604f09a80596",
   "metadata": {
    "tags": []
   },
   "outputs": [],
   "source": [
    "df.tail()"
   ]
  },
  {
   "cell_type": "markdown",
   "id": "d4e9eee6-089c-43c9-91b9-bc96206b8b05",
   "metadata": {
    "tags": []
   },
   "source": [
    "## **Preprocessing**"
   ]
  },
  {
   "cell_type": "markdown",
   "id": "93ca48df-f935-4757-809d-7360d4ad3cc3",
   "metadata": {},
   "source": [
    " **Inzichten preprocessing** <br>\n",
    "\n",
    "1. De dataset bevat 4096 rijen en 8 kolommen\n",
    "2. 2 kolommen hebben dtype float64, de overige 6 hebben dtype object\n",
    "3. De functies .head() en .tail() maken inzichtelijk dat de dataset gevuld is met uitsluitend numerieke waarden\n",
    "4. Via .info[Non-null Count] wordt duidelijk dat er geen 0 waarden in de rijen staan\n",
    "5. De functie .describe() geeft een relatief groot aantal NaN's terug\n",
    "\n",
    "**Conclusie**\n",
    "1. Er zijn cellen die onjuiste waarden bevatten, deze waarden zijn niet numeriek.\n",
    "\n",
    "**Vervolgstappen**\n",
    "1. Onderzoek hoeveel onjuiste waardes er zijn\n",
    "2. Onderzoek waar de onjuiste waardes zijn \n",
    "3. Bepaal wat je met de waardes gaat doen > Als het er minder dan 20 zijn verwijderen anders overleggen. <br>\n",
    "\n",
    "**Pseudocode**\n",
    "\n",
    "1. Itereer over kolommen heen\n",
    "2. Filter de onjuiste waarde\n",
    "3. Stop deze waarde in een lijst\n",
    "6. Verwijder"
   ]
  },
  {
   "cell_type": "code",
   "execution_count": null,
   "id": "09f4d586-12e4-4322-b473-a71d2be1de85",
   "metadata": {
    "tags": []
   },
   "outputs": [],
   "source": [
    "# 1.3\n",
    "# Eerst checken of er waarden zijn die missen. \n",
    "df.isna().sum()"
   ]
  },
  {
   "cell_type": "markdown",
   "id": "b542e5da-ae13-40ed-a9eb-d318cceaf500",
   "metadata": {},
   "source": [
    "1.3 Check if data contains errors / defaults"
   ]
  },
  {
   "cell_type": "code",
   "execution_count": null,
   "id": "413fe175-116f-4ada-bc5b-6a306ae63e04",
   "metadata": {
    "tags": []
   },
   "outputs": [],
   "source": [
    "# 1.3\n",
    "df.info() # 6 col have dtype object"
   ]
  },
  {
   "cell_type": "code",
   "execution_count": null,
   "id": "04d491f2-9506-4f9b-b3b3-a28fee1bac6d",
   "metadata": {},
   "outputs": [],
   "source": [
    "# Zoek uit wat voor niet numerieke data er in zit\n",
    "\n",
    "# Ik was de waarden oplopend sorteren zodat bovenaan de niet numerieke waarden komen te staan. Dit is geen mooie manier maar het eerste waar ik nu op kom.\n",
    "\n",
    "df.sort_values(by='length', ascending=False)\n",
    "\n",
    "# 11 x ? voor genetic; 3x  undefined voor length; 2 x ? mass; 1 x ? exercise; 2 x ? alcohol; 1 x ?\n",
    "\n"
   ]
  },
  {
   "cell_type": "code",
   "execution_count": null,
   "id": "d4e31f2b-1a92-4200-9340-c520c4069a3c",
   "metadata": {
    "tags": []
   },
   "outputs": [],
   "source": [
    "# Itereer over kolommen heen\n",
    "# Filter de onjuiste waarde\n",
    "# Verwijder\n",
    "\n",
    "for c in df.columns: # de loop\n",
    "    df[c] = pd.to_numeric(df[c], errors = 'coerce') # de code # to list\n",
    "    \n",
    "pd.isna(np.nan) # Check of niet numerieke waarde gewijzigd zijn naar NaN, als dat zo is True\n"
   ]
  },
  {
   "cell_type": "code",
   "execution_count": null,
   "id": "437a09d7-27d1-4302-ac76-5c2a164d9795",
   "metadata": {
    "tags": []
   },
   "outputs": [],
   "source": [
    "df.info() #dubbelcheck of alle kolommen nu een numeriek Dtype hebben"
   ]
  },
  {
   "cell_type": "code",
   "execution_count": null,
   "id": "718b0e91-0af2-4e87-a73a-3fa1d6bfae4c",
   "metadata": {
    "tags": []
   },
   "outputs": [],
   "source": [
    "df.isna().any(axis=1).sum() # er zijn precies 10 foutieve waarden, op een dataset van 4096 rijen kan het verwijderen van 10 rijen zonder dat dit impact heeft."
   ]
  },
  {
   "cell_type": "code",
   "execution_count": null,
   "id": "80bbf1d1-7302-4c81-8749-7b4aab539a31",
   "metadata": {
    "tags": []
   },
   "outputs": [],
   "source": [
    "a = df.isna() \n",
    "b = a.any()\n",
    "print(b)"
   ]
  },
  {
   "cell_type": "code",
   "execution_count": null,
   "id": "dc9c77f2-04e9-42f9-852a-a6b323ddc96e",
   "metadata": {
    "tags": []
   },
   "outputs": [],
   "source": [
    "a = df.isna().any(axis=1) #zichtbaar maken waar de gemiste waardes zijn\n",
    "df[a]"
   ]
  },
  {
   "cell_type": "code",
   "execution_count": null,
   "id": "ddf196a5-5610-4dec-862e-9211ef6bf0eb",
   "metadata": {
    "tags": []
   },
   "outputs": [],
   "source": [
    "df.isna().sum().sort_values(ascending=False) # Waar missen de meeste waarde?"
   ]
  },
  {
   "cell_type": "code",
   "execution_count": null,
   "id": "e6408c0a-8b80-4b45-a6c2-b3b5aa203ed3",
   "metadata": {
    "tags": []
   },
   "outputs": [],
   "source": [
    "missing_percentages = df.isna().sum().sort_values(ascending=False) / len(df)"
   ]
  },
  {
   "cell_type": "code",
   "execution_count": null,
   "id": "00ba38bf-b5b7-4417-9d83-7ecf98f0f446",
   "metadata": {
    "tags": []
   },
   "outputs": [],
   "source": [
    "missing_percentages.plot(kind='barh')"
   ]
  },
  {
   "cell_type": "code",
   "execution_count": null,
   "id": "5f090959-a923-4177-a84f-7d61a0d3920f",
   "metadata": {
    "tags": []
   },
   "outputs": [],
   "source": [
    "df= df.dropna() # verwijderen en checken of het gelukt is."
   ]
  },
  {
   "cell_type": "code",
   "execution_count": null,
   "id": "15d767d1-2de2-44fb-9a40-58a890b0cc2c",
   "metadata": {
    "tags": []
   },
   "outputs": [],
   "source": [
    "df.isna().sum()"
   ]
  },
  {
   "cell_type": "code",
   "execution_count": null,
   "id": "55930c7e-a59f-481d-9d0c-28fc3c4296c9",
   "metadata": {},
   "outputs": [],
   "source": [
    "# Verder exploreren."
   ]
  },
  {
   "cell_type": "code",
   "execution_count": null,
   "id": "e8c86e88-769a-40f1-bcec-fd32f8fe35b5",
   "metadata": {
    "tags": []
   },
   "outputs": [],
   "source": [
    "df.describe()\n",
    "\n",
    "# Lifespan van -1 als min\n"
   ]
  },
  {
   "cell_type": "markdown",
   "id": "17f85b26-21c7-45d9-80fa-7d8231cb0f5c",
   "metadata": {},
   "source": [
    "## **Data selection**"
   ]
  },
  {
   "cell_type": "markdown",
   "id": "3d80f395-98c7-4954-b033-ef80136330a7",
   "metadata": {},
   "source": [
    "**Inzichten dataselectie**\n",
    "\n",
    "1. "
   ]
  },
  {
   "cell_type": "code",
   "execution_count": null,
   "id": "5150150a-3808-45b3-9461-98d062455a31",
   "metadata": {
    "tags": []
   },
   "outputs": [],
   "source": [
    "sns.boxplot(x=df['lifespan'])"
   ]
  },
  {
   "cell_type": "code",
   "execution_count": null,
   "id": "74ba38ad-34b7-479f-8b18-e449b2a53c14",
   "metadata": {
    "tags": []
   },
   "outputs": [],
   "source": [
    "#We zien de outliers ook terug op de boxplot. Dit zegt ons echter niets over het aantal -1 waardes. Dit checken we dus:\n",
    "df.loc[df['lifespan'] < 0]"
   ]
  },
  {
   "cell_type": "code",
   "execution_count": null,
   "id": "e5774cad-134c-4ac2-a93e-2264fcff77f2",
   "metadata": {
    "tags": []
   },
   "outputs": [],
   "source": [
    "cols = [c for c in df.columns]\n",
    "\n",
    "fig, axes = plt.subplots(ncols=len(cols))\n",
    "\n",
    "for column, axis in zip(cols, axes):\n",
    "        sns.boxplot(data=df[column], ax=axis) \n",
    "        axis.set_title(column)\n",
    "        \n",
    "plt.tight_layout()\n",
    "plt.show()"
   ]
  },
  {
   "cell_type": "code",
   "execution_count": null,
   "id": "a55da3a0-40f5-4841-9ebe-dc3daf9a37c7",
   "metadata": {
    "tags": []
   },
   "outputs": [],
   "source": [
    "\n",
    "# Outliers verwijderen\n",
    "\n",
    "def remove_outliers(df,columns,n_std):\n",
    "    for col in columns:\n",
    "        print('Working on column: {}'.format(col))\n",
    "        \n",
    "        mean = df[col].mean()\n",
    "        sd = df[col].std()\n",
    "        \n",
    "        df = df[(df[col] <= mean+(n_std*sd))]\n",
    "        \n",
    "    return df\n",
    "\n",
    "remove_outliers(df,['lifespan'],6)"
   ]
  },
  {
   "cell_type": "code",
   "execution_count": null,
   "id": "6c639b8c-0c65-4e90-bf84-715031961b66",
   "metadata": {
    "tags": []
   },
   "outputs": [],
   "source": [
    "plt.figure(figsize=(10,5))\n",
    "c= df.corr()\n",
    "sns.heatmap(c,cmap=\"BrBG\",annot=True)\n",
    "#"
   ]
  },
  {
   "cell_type": "markdown",
   "id": "dcd725a9-659c-4dcd-9991-73493d86c9de",
   "metadata": {},
   "source": [
    "1. **Genetic en lifespan**: Zeer hoge correlatie. \n",
    "2. **Length en lifespan**: Zeer lage correlatie\n",
    "3. **Mass en lifespan**: Negatieve correlatie\n",
    "4. **Exercise en lifespan**: Lage correlatie\n",
    "5. **Smoking en lifespan**: Negatieve correlatie\n",
    "6. **Alcohol en lifespan**: Negatieve correlatie\n",
    "7. **Sugar en lifespan**: Negatieve correlatie\n",
    "\n",
    "Vervolgstappen <br>\n",
    "Ik ben benieuwd naar een model waarbij alleen wordt gekeken naar iemands lifestyle (exercise, smoking, alcohol, sugar) <br>\n",
    "Ik hoor in de klas dat er verdeelde meningen zijn over genetics, dus ik ga ook kijken naar een model waar genetics niet bij zitten <br>\n",
    "Ik ben ook benieuwd\n"
   ]
  },
  {
   "cell_type": "code",
   "execution_count": null,
   "id": "393dd903-d4fe-417c-b4ef-15694bff5446",
   "metadata": {
    "tags": []
   },
   "outputs": [],
   "source": [
    "df.hist(figsize=(20,10))"
   ]
  },
  {
   "cell_type": "code",
   "execution_count": null,
   "id": "110cc135-221f-4e6a-86d3-de53f6f90343",
   "metadata": {
    "tags": []
   },
   "outputs": [],
   "source": [
    "sns.pairplot(df)"
   ]
  },
  {
   "cell_type": "code",
   "execution_count": null,
   "id": "66c1daaa-b3f5-4cc5-a86d-c5709be05136",
   "metadata": {
    "tags": []
   },
   "outputs": [],
   "source": [
    "# Vragen\n",
    "# Welke bevolkingsgroep? grote mensen, veel roken, worden erg oud (gem 80)\n",
    "# Mogelijke clusters:\n",
    "# exercise (veel-weinig) (boolean)"
   ]
  },
  {
   "cell_type": "code",
   "execution_count": null,
   "id": "75418cda-8296-42e3-ab79-1fcf7c99b3a9",
   "metadata": {
    "tags": []
   },
   "outputs": [],
   "source": [
    "# dendogram clusters bmi"
   ]
  },
  {
   "cell_type": "markdown",
   "id": "1a54fa91-8f7a-4296-906f-5d76bcb48b95",
   "metadata": {},
   "source": [
    "## **Feature extraction**"
   ]
  },
  {
   "cell_type": "code",
   "execution_count": null,
   "id": "bfcaa0ac-084d-44ae-9651-c31c20368955",
   "metadata": {
    "tags": []
   },
   "outputs": [],
   "source": [
    "#We berekenen de bmi volgens de standaard formule:\n",
    "col_bmi = (df.mass/(df.length/100)**2)\n",
    "\n",
    "#We kijken naar de nieuwe kolom\n"
   ]
  },
  {
   "cell_type": "code",
   "execution_count": null,
   "id": "3df1ec56-9f45-4e71-82c8-4c4018535ef4",
   "metadata": {
    "tags": []
   },
   "outputs": [],
   "source": [
    "# Nieuw dataframe creeren door deze kolom toe te voegen aan de originele dataset en vervolgens op te slaan onder nieuwe variabele naam. Lengte en gewicht gaan eruit.\n",
    "\n",
    "#pseudo code\n",
    "# creeer een nieuwe variabele\n",
    "# verwijder de kolommen met een pd functie\n",
    "# voeg de nieuwe col toe met een pd functie\n",
    "\n",
    "\n",
    "df_bmi = df.drop(['length', 'mass'], axis=1)\n",
    "df_bmi['bmi'] = col_bmi\n",
    "\n",
    "df_bmi.head()\n",
    "\n",
    "#df_bmi = df.drop(['BMI cat'], axis=1)\n",
    "\n",
    "df_bmi.head()"
   ]
  },
  {
   "cell_type": "code",
   "execution_count": null,
   "id": "9e30e93f-0966-471a-a813-13e0019681bf",
   "metadata": {
    "tags": []
   },
   "outputs": [],
   "source": [
    "# Dataframe lifestyle"
   ]
  },
  {
   "cell_type": "code",
   "execution_count": null,
   "id": "ded3d17b-da17-4563-8ba7-9c0e81e3bee3",
   "metadata": {
    "tags": []
   },
   "outputs": [],
   "source": [
    "df_lifestyle = df.drop(['length', 'mass', 'genetic'], axis=1)"
   ]
  },
  {
   "cell_type": "code",
   "execution_count": null,
   "id": "6b86fa29-6631-4658-a09d-7ae556f1a286",
   "metadata": {},
   "outputs": [],
   "source": [
    "df_lifestyle = df[['exercise', 'smoking', 'alcohol', 'sugar', 'lifespan']]\n",
    "\n",
    "df_lifestyle.head()"
   ]
  },
  {
   "cell_type": "code",
   "execution_count": null,
   "id": "ab706756-e1d6-449e-9253-6c857f6d86f8",
   "metadata": {
    "tags": []
   },
   "outputs": [],
   "source": [
    "df_not_genetic = df.drop(['genetic'], axis = 1)\n",
    "df_ng = df_not_genetic\n",
    "\n",
    "df_ng.head()"
   ]
  },
  {
   "cell_type": "code",
   "execution_count": null,
   "id": "644925c5-0409-474d-a3a4-60359461553e",
   "metadata": {
    "tags": []
   },
   "outputs": [],
   "source": [
    "import sqlalchemy\n",
    "import sqlite3\n",
    "dbName = 'rest_server/medisch_centrum_randstad/db.sqlite3'\n",
    "tableName = 'rest_api_netlify'\n",
    "\n",
    "df.to_sql(tableName, dbName, sqlite3.Connection)\n",
    "# df_lifestyle.to_sql(tableName, sqlite3.Connection)\n",
    "# df_ng.to_sql(tableName, sqlite3.Connection)"
   ]
  },
  {
   "cell_type": "code",
   "execution_count": null,
   "id": "a2842da6-a01f-4bf3-a2f7-c63a45085ec2",
   "metadata": {
    "tags": []
   },
   "outputs": [],
   "source": [
    "# Nog interessant om te checken\n",
    "# nicotine gehalte in bloed op basis van gerookte sigaretten"
   ]
  }
 ],
 "metadata": {
  "kernelspec": {
   "display_name": "Python 3 (ipykernel)",
   "language": "python",
   "name": "python3"
  },
  "language_info": {
   "codemirror_mode": {
    "name": "ipython",
    "version": 3
   },
   "file_extension": ".py",
   "mimetype": "text/x-python",
   "name": "python",
   "nbconvert_exporter": "python",
   "pygments_lexer": "ipython3",
   "version": "3.11.1"
  }
 },
 "nbformat": 4,
 "nbformat_minor": 5
}
