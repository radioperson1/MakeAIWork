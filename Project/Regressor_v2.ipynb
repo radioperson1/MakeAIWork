{
 "cells": [
  {
   "cell_type": "code",
   "execution_count": 114,
   "id": "2848f4bf-e12e-4235-91df-f4cae0786618",
   "metadata": {
    "tags": []
   },
   "outputs": [],
   "source": [
    "#import libraries\n",
    "\n",
    "import sqlite3\n",
    "\n",
    "import pandas as pd\n",
    "import sklearn\n",
    "from sklearn.model_selection import train_test_split\n",
    "\n",
    "\n",
    "import pandas as pd\n",
    "import numpy as np\n",
    "import matplotlib.pyplot as plt\n",
    "import seaborn as sns\n",
    "from sklearn.model_selection import train_test_split\n",
    "from sklearn.linear_model import LinearRegression\n",
    "from sklearn.metrics import mean_squared_error, mean_absolute_error, r2_score\n",
    "from sklearn import preprocessing, linear_model"
   ]
  },
  {
   "cell_type": "code",
   "execution_count": 169,
   "id": "dcc56fa9-f38a-4891-84bf-6876fb5785c1",
   "metadata": {},
   "outputs": [
    {
     "name": "stdout",
     "output_type": "stream",
     "text": [
      "<class 'pandas.core.frame.DataFrame'>\n",
      "RangeIndex: 4084 entries, 0 to 4083\n",
      "Data columns (total 7 columns):\n",
      " #   Column    Non-Null Count  Dtype  \n",
      "---  ------    --------------  -----  \n",
      " 0   genetic   4084 non-null   float64\n",
      " 1   exercise  4084 non-null   float64\n",
      " 2   smoking   4084 non-null   float64\n",
      " 3   alcohol   4084 non-null   float64\n",
      " 4   lifespan  4084 non-null   float64\n",
      " 5   sugar     4084 non-null   float64\n",
      " 6   bmi       4084 non-null   float64\n",
      "dtypes: float64(7)\n",
      "memory usage: 223.5 KB\n"
     ]
    }
   ],
   "source": [
    "# data inlezen sql\n",
    "\n",
    "dbName = \"rest_server/db.sqlite3\"\n",
    "tableName = \"bmi\"\n",
    "\n",
    "dbConnection = sqlite3.connect(dbName)\n",
    "# How to convert sqlite3 object to pd dataframe?\n",
    "dfFromDB = pd.read_sql_query(f\"SELECT * FROM {tableName}\", dbConnection)\n",
    "pd.set_option('display.max_columns', 10)\n",
    "\n",
    "df = dfFromDB.drop(['id'], axis=1)\n",
    "\n",
    "df.head()\n",
    "df.info()"
   ]
  },
  {
   "cell_type": "code",
   "execution_count": 178,
   "id": "47dee0bc-d6f5-4c92-a7af-33aac0b1f08a",
   "metadata": {},
   "outputs": [],
   "source": [
    "# Verschillende dataframes benoemen die aangroepen kunnen worden\n",
    "# To understand the value of genetic, bmi and daily lifechoices\n",
    "# Default\n",
    "v1 = ['genetic','exercise','smoking','alcohol','sugar','bmi']\n",
    "\n",
    "# Default without genetic 'lifestyle'\n",
    "v2 = ['exercise','smoking','alcohol','sugar','bmi']\n",
    "\n",
    "# Default without bmi\n",
    "v3 = ['genetic','exercise','smoking','alcohol','sugar']\n",
    "\n",
    "# Only lifestyle (not genetic and bmi)\n",
    "v4 = ['exercise','smoking','alcohol','sugar']\n",
    "\n",
    "# Only genetic > negatieve intercept\n",
    "v5 = ['genetic']\n",
    "\n",
    "# Only BMI\n",
    "\n",
    "v6 = ['bmi']\n",
    "\n",
    "version_list = [v1,v2,v3,v4,v5]"
   ]
  },
  {
   "cell_type": "code",
   "execution_count": 164,
   "id": "f3c576d0-9374-4b8b-ad92-ddcfb6e69b05",
   "metadata": {
    "tags": []
   },
   "outputs": [
    {
     "data": {
      "text/plain": [
       "(6.693212594542584,\n",
       " 0.8749815106030503,\n",
       " [('genetic', 1.0009704513524607),\n",
       "  ('exercise', 0.7776985050881321),\n",
       "  ('smoking', -0.26863618220273244),\n",
       "  ('alcohol', -0.1975255196844301),\n",
       "  ('sugar', -0.05445870178572912),\n",
       "  ('bmi', -0.07155025866396975)],\n",
       " 0.9036393025342597,\n",
       " 1.3430756808759128)"
      ]
     },
     "execution_count": 164,
     "metadata": {},
     "output_type": "execute_result"
    }
   ],
   "source": [
    "def calculateModel(dataframe, version):\n",
    "    x = dataframe[version]\n",
    "    y = dataframe.loc[:, 'lifespan']\n",
    "    \n",
    "    x_train, x_test, y_train, y_test = train_test_split(x, y, test_size= 0.3, random_state = 42)\n",
    "    \n",
    "    model = LinearRegression()\n",
    "    model.fit(x_train,y_train)\n",
    "    predictions = model.predict(x_test)\n",
    "\n",
    "    ms_error =  mean_squared_error(y_test, predictions)\n",
    "    ma_error = mean_absolute_error(y_test, predictions)\n",
    "    \n",
    "    coefs = list(zip(x.columns, model.coef_))\n",
    "    \n",
    "    r2 = r2_score(y_test, predictions)\n",
    "\n",
    "    intercept = model.intercept_\n",
    "    \n",
    "    return ms_error, ma_error, coefs, r2, intercept\n",
    "\n",
    "calculateModel(df, v1)\n",
    "\n",
    "    "
   ]
  },
  {
   "cell_type": "raw",
   "id": "5e8fd434-0319-45f2-a410-85c057d1c8eb",
   "metadata": {},
   "source": [
    "v1 =\n",
    "\n",
    "genetic', 1.0009704513524607\n",
    "exercise', 0.7776985050881321\n",
    "smoking', -0.26863618220273244\n",
    "alcohol', -0.1975255196844301\n",
    "sugar', -0.05445870178572912\n",
    "bmi', -0.07155025866396975\n",
    " 0.9036393025342597\n",
    " 1.3430756808759128\n",
    "\n",
    " v2\n",
    " ([('exercise', 0.49171740313620765),\n",
    "  ('smoking', -0.2862432026706746),\n",
    "  ('alcohol', -0.23703852242430135),\n",
    "  ('sugar', -0.049935016559125835),\n",
    "  ('bmi', -0.061564754122596446)],\n",
    " 0.0762177936936973,\n",
    " 84.18647282372632)\n",
    " \n",
    " v3\n",
    " ([('genetic', 0.9999610989666141),\n",
    "  ('exercise', 0.7768856783092084),\n",
    "  ('smoking', -0.2694991868023121),\n",
    "  ('alcohol', -0.2041356663012175),\n",
    "  ('sugar', -0.05281457959418405)],\n",
    " 0.8955843718630913,\n",
    " -0.5353604919520762)\n",
    " \n",
    " v4\n",
    " \n",
    " ([('exercise', 0.49126608070442573),\n",
    "  ('smoking', -0.2869705926518016),\n",
    "  ('alcohol', -0.24269267396162464),\n",
    "  ('sugar', -0.04852407331946559)],\n",
    " 0.06963992667387653,\n",
    " 82.49807356676824)\n",
    " \n",
    " v5\n",
    " ([('genetic', 0.9989906806896744)], 0.8240516436535021, -2.041688836038972)\n",
    " \n",
    " v6\n",
    " ([('bmi', -0.06431786208995927)], 0.0035752928233984127, 81.77794319904149)"
   ]
  },
  {
   "cell_type": "code",
   "execution_count": 165,
   "id": "90a09dc1-2f21-476e-a5db-dcf7bd3630d2",
   "metadata": {
    "tags": []
   },
   "outputs": [],
   "source": [
    "gen_coef = 1.0009704513524607\n",
    "exe_coef = 0.7776985050881321\n",
    "smo_coef = -0.26863618220273244\n",
    "alc_coef = -0.1975255196844301\n",
    "sug_coef = -0.05445870178572912\n",
    "bmi_coef = -0.07155025866396975"
   ]
  },
  {
   "cell_type": "code",
   "execution_count": 177,
   "id": "3bbb68e0-0a6d-4ca0-9790-35e0e8b0bbc9",
   "metadata": {},
   "outputs": [
    {
     "data": {
      "text/plain": [
       "76.08610190378435"
      ]
     },
     "execution_count": 177,
     "metadata": {},
     "output_type": "execute_result"
    }
   ],
   "source": [
    "def determineLifespan(genetic, exercise, smoking, alcohol, sugar, bmi):\n",
    "    \n",
    "    genetic *= gen_coef\n",
    "    exercise *= exe_coef\n",
    "    smoking *= smo_coef\n",
    "    alcohol *= alc_coef\n",
    "    sugar *= sug_coef\n",
    "    bmi *= bmi_coef\n",
    "    b = 1.3430756808759128\n",
    "    lifespan = genetic + exercise + smoking + alcohol + sugar + bmi + b\n",
    "    \n",
    "    return lifespan\n",
    "\n",
    "determineLifespan(80, 0, 10, 1, 6.9, 29)"
   ]
  },
  {
   "cell_type": "code",
   "execution_count": 171,
   "id": "d5f79b79-d9fa-4d5a-94ad-0122a5454f3d",
   "metadata": {
    "tags": []
   },
   "outputs": [
    {
     "data": {
      "text/html": [
       "<div>\n",
       "<style scoped>\n",
       "    .dataframe tbody tr th:only-of-type {\n",
       "        vertical-align: middle;\n",
       "    }\n",
       "\n",
       "    .dataframe tbody tr th {\n",
       "        vertical-align: top;\n",
       "    }\n",
       "\n",
       "    .dataframe thead th {\n",
       "        text-align: right;\n",
       "    }\n",
       "</style>\n",
       "<table border=\"1\" class=\"dataframe\">\n",
       "  <thead>\n",
       "    <tr style=\"text-align: right;\">\n",
       "      <th></th>\n",
       "      <th>genetic</th>\n",
       "      <th>exercise</th>\n",
       "      <th>smoking</th>\n",
       "      <th>alcohol</th>\n",
       "      <th>lifespan</th>\n",
       "      <th>sugar</th>\n",
       "      <th>bmi</th>\n",
       "    </tr>\n",
       "  </thead>\n",
       "  <tbody>\n",
       "    <tr>\n",
       "      <th>0</th>\n",
       "      <td>73.9</td>\n",
       "      <td>0.9</td>\n",
       "      <td>0.0</td>\n",
       "      <td>2.4</td>\n",
       "      <td>73.1</td>\n",
       "      <td>6.9</td>\n",
       "      <td>29.130752</td>\n",
       "    </tr>\n",
       "    <tr>\n",
       "      <th>1</th>\n",
       "      <td>86.0</td>\n",
       "      <td>1.8</td>\n",
       "      <td>8.1</td>\n",
       "      <td>0.4</td>\n",
       "      <td>85.0</td>\n",
       "      <td>4.2</td>\n",
       "      <td>35.627366</td>\n",
       "    </tr>\n",
       "    <tr>\n",
       "      <th>2</th>\n",
       "      <td>83.3</td>\n",
       "      <td>1.1</td>\n",
       "      <td>0.8</td>\n",
       "      <td>4.6</td>\n",
       "      <td>81.6</td>\n",
       "      <td>7.5</td>\n",
       "      <td>35.963326</td>\n",
       "    </tr>\n",
       "    <tr>\n",
       "      <th>3</th>\n",
       "      <td>82.8</td>\n",
       "      <td>4.7</td>\n",
       "      <td>11.8</td>\n",
       "      <td>1.0</td>\n",
       "      <td>81.0</td>\n",
       "      <td>2.9</td>\n",
       "      <td>41.418798</td>\n",
       "    </tr>\n",
       "    <tr>\n",
       "      <th>4</th>\n",
       "      <td>78.7</td>\n",
       "      <td>1.5</td>\n",
       "      <td>8.3</td>\n",
       "      <td>4.9</td>\n",
       "      <td>75.0</td>\n",
       "      <td>5.5</td>\n",
       "      <td>22.598157</td>\n",
       "    </tr>\n",
       "  </tbody>\n",
       "</table>\n",
       "</div>"
      ],
      "text/plain": [
       "   genetic  exercise  smoking  alcohol  lifespan  sugar        bmi\n",
       "0     73.9       0.9      0.0      2.4      73.1    6.9  29.130752\n",
       "1     86.0       1.8      8.1      0.4      85.0    4.2  35.627366\n",
       "2     83.3       1.1      0.8      4.6      81.6    7.5  35.963326\n",
       "3     82.8       4.7     11.8      1.0      81.0    2.9  41.418798\n",
       "4     78.7       1.5      8.3      4.9      75.0    5.5  22.598157"
      ]
     },
     "execution_count": 171,
     "metadata": {},
     "output_type": "execute_result"
    }
   ],
   "source": [
    "df.head()"
   ]
  },
  {
   "cell_type": "code",
   "execution_count": null,
   "id": "bc288f73-47a8-460e-b9ae-a134e1c45f92",
   "metadata": {},
   "outputs": [],
   "source": []
  }
 ],
 "metadata": {
  "kernelspec": {
   "display_name": "Python 3 (ipykernel)",
   "language": "python",
   "name": "python3"
  },
  "language_info": {
   "codemirror_mode": {
    "name": "ipython",
    "version": 3
   },
   "file_extension": ".py",
   "mimetype": "text/x-python",
   "name": "python",
   "nbconvert_exporter": "python",
   "pygments_lexer": "ipython3",
   "version": "3.11.1"
  }
 },
 "nbformat": 4,
 "nbformat_minor": 5
}
