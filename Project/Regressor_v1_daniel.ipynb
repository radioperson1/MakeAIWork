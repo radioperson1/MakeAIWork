{
 "cells": [
  {
   "cell_type": "code",
   "execution_count": 7,
   "id": "c3c4f6ac",
   "metadata": {},
   "outputs": [],
   "source": [
    "import pandas as pd\n",
    "import json\n",
    "import sqlite3\n",
    "import numpy as np\n",
    "import math\n",
    "from sklearn.linear_model import LinearRegression\n",
    "from sklearn.model_selection import train_test_split\n",
    "from sklearn.metrics import mean_squared_error, mean_absolute_error, r2_score"
   ]
  },
  {
   "cell_type": "code",
   "execution_count": 9,
   "id": "8cb96c83",
   "metadata": {},
   "outputs": [],
   "source": [
    "#Get data table for training, this is the output of the pipeline, hence the name 'regression_table'\n",
    "dbName = \"../rest_server/medisch_centrum_randstad/data/db.sqlite3\"\n",
    "tableName = \"regression_table\"\n",
    "\n",
    "\n",
    "dbConnection = sqlite3.connect(dbName)\n",
    "\n",
    "#We doen een query en maken hier een pandas dataframe van\n",
    "df = pd.read_sql_query(f\"SELECT * FROM {tableName}\", dbConnection)\n",
    "\n",
    "#We sluiten de connectie\n",
    "dbConnection.close()"
   ]
  },
  {
   "cell_type": "code",
   "execution_count": 10,
   "id": "0f135a41",
   "metadata": {},
   "outputs": [],
   "source": [
    "#Selecting subset of complete dataframe containing only \"relevant\" variables:\n",
    "\n",
    "df_updated = df[['genetic', 'exercise', 'smoking', 'alcohol', 'sugar', 'BMI', 'lifespan']]"
   ]
  },
  {
   "cell_type": "code",
   "execution_count": 11,
   "id": "28fc81f3",
   "metadata": {},
   "outputs": [],
   "source": [
    "#Making variations of the dataframe for comparison of different models:\n",
    "\n",
    "#All parameters\n",
    "v1 = ['genetic', 'exercise', 'smoking', 'alcohol', 'sugar', 'BMI']\n",
    "\n",
    "#\n",
    "v2 = ['genetic', 'exercise', 'smoking', 'BMI']\n",
    "\n",
    "#\n",
    "v3 = ['genetic', 'smoking']\n",
    "\n",
    "#\n",
    "v4 = ['genetic', 'exercise', 'smoking']\n",
    "\n",
    "#\n",
    "v5 = ['genetic', 'exercise', 'smoking', 'alcohol', 'sugar']\n",
    "\n",
    "version_list = [v1,v2,v3,v4,v5]"
   ]
  },
  {
   "cell_type": "code",
   "execution_count": 3,
   "id": "2d69f3c5",
   "metadata": {
    "tags": []
   },
   "outputs": [
    {
     "ename": "NameError",
     "evalue": "name 'df_updated' is not defined",
     "output_type": "error",
     "traceback": [
      "\u001b[1;31m---------------------------------------------------------------------------\u001b[0m",
      "\u001b[1;31mNameError\u001b[0m                                 Traceback (most recent call last)",
      "Cell \u001b[1;32mIn[3], line 43\u001b[0m\n\u001b[0;32m     22\u001b[0m \u001b[38;5;66;03m#     print(f'Mean squared error: {model_m_sqe}')\u001b[39;00m\n\u001b[0;32m     23\u001b[0m \u001b[38;5;66;03m#     print(f'Mean absolute error: {model_m_abse}')\u001b[39;00m\n\u001b[0;32m     24\u001b[0m \u001b[38;5;66;03m#     print(f'R-squared value: {r2}', '\\n')\u001b[39;00m\n\u001b[1;32m   (...)\u001b[0m\n\u001b[0;32m     28\u001b[0m \u001b[38;5;66;03m#     print('\\n')\u001b[39;00m\n\u001b[0;32m     29\u001b[0m \u001b[38;5;66;03m#     print(f'Model intercept: {intercept}')\u001b[39;00m\n\u001b[0;32m     31\u001b[0m     \u001b[38;5;28;01mreturn\u001b[39;00m {\n\u001b[0;32m     32\u001b[0m             \u001b[38;5;124m'\u001b[39m\u001b[38;5;124mmodel version\u001b[39m\u001b[38;5;124m'\u001b[39m: \u001b[38;5;124m'\u001b[39m\u001b[38;5;124m, \u001b[39m\u001b[38;5;124m'\u001b[39m\u001b[38;5;241m.\u001b[39mjoin(version),\n\u001b[0;32m     33\u001b[0m             \u001b[38;5;124m'\u001b[39m\u001b[38;5;124mmean squared error\u001b[39m\u001b[38;5;124m'\u001b[39m: model_m_sqe,\n\u001b[1;32m   (...)\u001b[0m\n\u001b[0;32m     38\u001b[0m             \u001b[38;5;124m'\u001b[39m\u001b[38;5;124mintercept\u001b[39m\u001b[38;5;124m'\u001b[39m: intercept\n\u001b[0;32m     39\u001b[0m     }\n\u001b[1;32m---> 43\u001b[0m train_model(\u001b[43mdf_updated\u001b[49m, v1)\n",
      "\u001b[1;31mNameError\u001b[0m: name 'df_updated' is not defined"
     ]
    }
   ],
   "source": [
    "models = []\n",
    "\n",
    "def train_model(dataframe, version):\n",
    "    \n",
    "    x = dataframe[version]\n",
    "    y = dataframe.loc[:, 'lifespan']\n",
    "    \n",
    "    x_train, x_test, y_train, y_test = train_test_split(x, y, test_size = 0.3, random_state = 42)\n",
    "    \n",
    "    model = LinearRegression()\n",
    "    model.fit(x_train, y_train)\n",
    "    \n",
    "    predictions = model.predict(x_test)\n",
    "    \n",
    "    model_m_sqe = mean_squared_error(y_test, predictions)\n",
    "    model_m_abse = mean_absolute_error(y_test, predictions)\n",
    "    rmse = math.sqrt(model_m_sqe)\n",
    "    r2 = r2_score(y_test, predictions)\n",
    "    coefs = dict(list(zip(x.columns, model.coef_)))\n",
    "    intercept = model.intercept_\n",
    "    \n",
    "#     print(f'Mean squared error: {model_m_sqe}')\n",
    "#     print(f'Mean absolute error: {model_m_abse}')\n",
    "#     print(f'R-squared value: {r2}', '\\n')\n",
    "#     print(f'Model coefficients: ')\n",
    "#     for c in coefs:\n",
    "#         print(f'{c[0]}: {c[1]}')\n",
    "#     print('\\n')\n",
    "#     print(f'Model intercept: {intercept}')\n",
    "    \n",
    "    return {\n",
    "            'model version': ', '.join(version),\n",
    "            'mean squared error': model_m_sqe,\n",
    "            'mean absolute error': model_m_abse,\n",
    "            'r squared': r2,\n",
    "            'root mean squared error': rmse,\n",
    "            'coefficients': coefs,\n",
    "            'intercept': intercept\n",
    "    }\n",
    "\n",
    "\n",
    "    \n",
    "train_model(df_updated, v1)\n",
    "    \n",
    "    "
   ]
  },
  {
   "cell_type": "code",
   "execution_count": 13,
   "id": "2cf9f405",
   "metadata": {},
   "outputs": [],
   "source": [
    "#Train model for different datasets\n",
    "for v in version_list:\n",
    "    models.append(train_model(df_updated, v))\n",
    "    "
   ]
  },
  {
   "cell_type": "code",
   "execution_count": 18,
   "id": "5a3fbc4b",
   "metadata": {
    "scrolled": true
   },
   "outputs": [
    {
     "name": "stdout",
     "output_type": "stream",
     "text": [
      "Variables included in model: genetic, exercise, smoking, alcohol, sugar, BMI.\n",
      "Mean squared error of model: 1.1931064807713065.\n",
      "Mean absolute error of model: 0.8202634084892075.\n",
      "R-squared of model: 0.9808153218782916.\n",
      "Root mean squared error: 1.0922941365636394.\n",
      "Model coefficients: \n",
      "genetic 1.0022672389022234\n",
      "exercise 0.8159847848408843\n",
      "smoking -0.2633469007801697\n",
      "alcohol -0.2355445754523253\n",
      "sugar -0.07316098348665577\n",
      "BMI -0.07228858254692938\n",
      "Model intercept: 1.3563983509115047\n",
      "\n",
      "\n",
      "Variables included in model: genetic, exercise, smoking, BMI.\n",
      "Mean squared error of model: 1.339323152477292.\n",
      "Mean absolute error of model: 0.8891780780836559.\n",
      "R-squared of model: 0.9784642158974629.\n",
      "Root mean squared error: 1.157291299750107.\n",
      "Model coefficients: \n",
      "genetic 1.0023204859319785\n",
      "exercise 0.8205703404962188\n",
      "smoking -0.263031724915691\n",
      "BMI -0.07210406230756007\n",
      "Model intercept: 0.3182525390358535\n",
      "\n",
      "\n",
      "Variables included in model: genetic, smoking.\n",
      "Mean squared error of model: 2.633203189435365.\n",
      "Mean absolute error of model: 1.2630220744385878.\n",
      "R-squared of model: 0.9576591390353393.\n",
      "Root mean squared error: 1.6227147591105977.\n",
      "Model coefficients: \n",
      "genetic 0.9956761084901565\n",
      "smoking -0.26012620486881755\n",
      "Model intercept: 0.8123330693770043\n",
      "\n",
      "\n",
      "Variables included in model: genetic, exercise, smoking.\n",
      "Mean squared error of model: 1.8059692529649356.\n",
      "Mean absolute error of model: 1.0264418601752416.\n",
      "R-squared of model: 0.9709607320266701.\n",
      "Root mean squared error: 1.3438635544447717.\n",
      "Model coefficients: \n",
      "genetic 1.0019500960601206\n",
      "exercise 0.823086411843598\n",
      "smoking -0.2637072987844735\n",
      "Model intercept: -1.6457705703311092\n",
      "\n",
      "\n",
      "Variables included in model: genetic, exercise, smoking, alcohol, sugar.\n",
      "Mean squared error of model: 1.6481339053063107.\n",
      "Mean absolute error of model: 0.9549002986782787.\n",
      "R-squared of model: 0.9734986617000562.\n",
      "Root mean squared error: 1.2837966759990893.\n",
      "Model coefficients: \n",
      "genetic 1.0018780282525475\n",
      "exercise 0.8184868571277462\n",
      "smoking -0.264035632945375\n",
      "alcohol -0.23575819334704903\n",
      "sugar -0.07093751822697955\n",
      "Model intercept: -0.6249652258187837\n",
      "\n",
      "\n"
     ]
    }
   ],
   "source": [
    "#Printing all versions of our model\n",
    "for d in models:\n",
    "    print(f\"Variables included in model: {d['model version']}.\")\n",
    "    print(f\"Mean squared error of model: {d['mean squared error']}.\")\n",
    "    print(f\"Mean absolute error of model: {d['mean absolute error']}.\")\n",
    "    print(f\"R-squared of model: {d['r squared']}.\")\n",
    "    print(f\"Root mean squared error: {d['root mean squared error']}.\")\n",
    "    print(f\"Model coefficients: \")\n",
    "    for k, v in d['coefficients'].items():\n",
    "        print (k,v)\n",
    "    print(f\"Model intercept: {d['intercept']}\")\n",
    "    print(\"\\n\")"
   ]
  },
  {
   "cell_type": "code",
   "execution_count": 230,
   "id": "2ab3cb4d",
   "metadata": {},
   "outputs": [],
   "source": [
    "#modellen exporteren naar pickle bestand (?)"
   ]
  },
  {
   "cell_type": "code",
   "execution_count": null,
   "id": "a154bc2f",
   "metadata": {},
   "outputs": [],
   "source": []
  },
  {
   "cell_type": "code",
   "execution_count": 19,
   "id": "8f270a74",
   "metadata": {},
   "outputs": [
    {
     "name": "stdout",
     "output_type": "stream",
     "text": [
      "[{'model version': 'genetic, exercise, smoking, alcohol, sugar, BMI', 'mean squared error': 1.1931064807713065, 'mean absolute error': 0.8202634084892075, 'r squared': 0.9808153218782916, 'root mean squared error': 1.0922941365636394, 'coefficients': {'genetic': 1.0022672389022234, 'exercise': 0.8159847848408843, 'smoking': -0.2633469007801697, 'alcohol': -0.2355445754523253, 'sugar': -0.07316098348665577, 'BMI': -0.07228858254692938}, 'intercept': 1.3563983509115047}, {'model version': 'genetic, exercise, smoking, BMI', 'mean squared error': 1.339323152477292, 'mean absolute error': 0.8891780780836559, 'r squared': 0.9784642158974629, 'root mean squared error': 1.157291299750107, 'coefficients': {'genetic': 1.0023204859319785, 'exercise': 0.8205703404962188, 'smoking': -0.263031724915691, 'BMI': -0.07210406230756007}, 'intercept': 0.3182525390358535}, {'model version': 'genetic, smoking', 'mean squared error': 2.633203189435365, 'mean absolute error': 1.2630220744385878, 'r squared': 0.9576591390353393, 'root mean squared error': 1.6227147591105977, 'coefficients': {'genetic': 0.9956761084901565, 'smoking': -0.26012620486881755}, 'intercept': 0.8123330693770043}, {'model version': 'genetic, exercise, smoking', 'mean squared error': 1.8059692529649356, 'mean absolute error': 1.0264418601752416, 'r squared': 0.9709607320266701, 'root mean squared error': 1.3438635544447717, 'coefficients': {'genetic': 1.0019500960601206, 'exercise': 0.823086411843598, 'smoking': -0.2637072987844735}, 'intercept': -1.6457705703311092}, {'model version': 'genetic, exercise, smoking, alcohol, sugar', 'mean squared error': 1.6481339053063107, 'mean absolute error': 0.9549002986782787, 'r squared': 0.9734986617000562, 'root mean squared error': 1.2837966759990893, 'coefficients': {'genetic': 1.0018780282525475, 'exercise': 0.8184868571277462, 'smoking': -0.264035632945375, 'alcohol': -0.23575819334704903, 'sugar': -0.07093751822697955}, 'intercept': -0.6249652258187837}]\n"
     ]
    }
   ],
   "source": []
  },
  {
   "cell_type": "code",
   "execution_count": null,
   "id": "3fc54f0d",
   "metadata": {},
   "outputs": [],
   "source": []
  }
 ],
 "metadata": {
  "kernelspec": {
   "display_name": "Python 3 (ipykernel)",
   "language": "python",
   "name": "python3"
  },
  "language_info": {
   "codemirror_mode": {
    "name": "ipython",
    "version": 3
   },
   "file_extension": ".py",
   "mimetype": "text/x-python",
   "name": "python",
   "nbconvert_exporter": "python",
   "pygments_lexer": "ipython3",
   "version": "3.11.1"
  }
 },
 "nbformat": 4,
 "nbformat_minor": 5
}
