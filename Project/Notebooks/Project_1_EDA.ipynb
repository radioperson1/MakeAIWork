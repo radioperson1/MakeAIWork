{
 "cells": [
  {
   "cell_type": "code",
   "execution_count": null,
   "id": "f62aa7bd",
   "metadata": {},
   "outputs": [],
   "source": [
    "import json #Javascript Object \n",
    "import pandas as pd\n",
    "import requests\n",
    "import seaborn as sns"
   ]
  },
  {
   "cell_type": "code",
   "execution_count": null,
   "id": "1edbc053",
   "metadata": {
    "tags": []
   },
   "outputs": [],
   "source": [
    "# We doen een \"aanvraag\" bij de API. Deze url werkt alleen als de rest server gestart is. \n",
    "response = requests.get('http://localhost:8080/medish_centrum_randstad/api/netlify?page=1')"
   ]
  },
  {
   "cell_type": "code",
   "execution_count": null,
   "id": "496a624d",
   "metadata": {
    "scrolled": true
   },
   "outputs": [],
   "source": [
    "# Checken wat voor data/type we binnen hebben gekregen\n",
    "response.headers['content-type']"
   ]
  },
  {
   "cell_type": "code",
   "execution_count": null,
   "id": "f7f16471",
   "metadata": {},
   "outputs": [],
   "source": [
    "# Van de teruggekregen data maken we een pandas dataframe\n",
    "df = pd.read_json(response.text)\n",
    "df.head()"
   ]
  },
  {
   "cell_type": "code",
   "execution_count": null,
   "id": "87296ddb",
   "metadata": {},
   "outputs": [],
   "source": [
    "# wat we hier willen:\n",
    "\n",
    "    # De data is opgeslagen in de 'data' kolom. De vorm waarin dit is opgeslagen is een dictionary (voor elke rij)\n",
    "    # waarvan de keys de variabelen zijn, en de waardes de waardes voor elke 'patient'\n",
    "    \n",
    "    # Nu willen we dus elk dictionary verwerken tot een rij in het dataframe, zodat we een rij hebben voor elke patient\n",
    "    \n",
    "\n",
    "# Eerst heb ik alle dictionaries in een lijst gezet, om ze als het ware uit het \"oude\" dataframe te halen:\n",
    "\n",
    "data_list = df.data.values.tolist()\n",
    "    \n",
    "# Hier kunnen we inspecteren hoe het eerste item, i.e., de eerste rij, eruit ziet:\n",
    "print(data_list[0])\n",
    "    "
   ]
  },
  {
   "cell_type": "code",
   "execution_count": null,
   "id": "21fb9689",
   "metadata": {},
   "outputs": [],
   "source": [
    "# Nu is het zaak om de dictionaries uit de gemaakte lijst allemaal samen te voegen in een datatframe\n",
    "\n",
    "df_final = pd.DataFrame.from_dict(data_list)\n",
    "\n",
    "# We kunnen ons nieuwe dataframe even bekijken:\n",
    "\n",
    "print(df_final.head())\n",
    "print()\n",
    "print(df_final.tail())\n"
   ]
  },
  {
   "cell_type": "code",
   "execution_count": null,
   "id": "36b5b638",
   "metadata": {},
   "outputs": [],
   "source": [
    "# Wat opvalt is dat het dataframe lijkt te zijn geordend op de variabel 'genetic', \n",
    "# bij het eerst x aantal rijen zien we dit terug:\n",
    "\n",
    "df_final.head(30)"
   ]
  },
  {
   "cell_type": "code",
   "execution_count": null,
   "id": "3d496cf0",
   "metadata": {},
   "outputs": [],
   "source": [
    "# Om eventuele problemen met training/test subsets van de data te voorkomen, heb ik ervoor gekozen om de rijen\n",
    "# in willekeurige volgorde te zetten:\n",
    "\n",
    "df_final = df_final.sample(frac=1)"
   ]
  },
  {
   "cell_type": "code",
   "execution_count": null,
   "id": "2af70587",
   "metadata": {},
   "outputs": [],
   "source": [
    "# Checken hoe het er nu uitziet:\n",
    "\n",
    "print(df_final.head())\n",
    "print()\n",
    "print(df_final.tail())\n",
    "\n",
    "# De rijen zijn nu inderdaad in willekeurige volgorde gezet."
   ]
  },
  {
   "cell_type": "code",
   "execution_count": null,
   "id": "5be6f9f0",
   "metadata": {},
   "outputs": [],
   "source": [
    "# We hebben nu een werkbaar dataframe met al onze variabelen in de kolommen, en alle individuele patienten/datapunten\n",
    "# in de rijen. We kunnen deze nu evt. als een nieuwe csv file exporteren, zonder index:\n",
    "\n",
    "df_final.to_csv('data_clean.csv', index=False, sep=';')"
   ]
  },
  {
   "cell_type": "code",
   "execution_count": null,
   "id": "4c690022",
   "metadata": {},
   "outputs": [],
   "source": [
    "# Als een van de eerste stappen in de IDE kunnen we kijken naar wat voor soort variabelen we hebben,\n",
    "# van welk type deze variabelen zijn (categorisch of numeriek), en ook of er bijvoorbeeld waardes missen. \n",
    "\n",
    "# Eerst kijken we naar de datatypen van elke kolom\n",
    "print(df_final.dtypes)\n",
    "print(df_final.info())"
   ]
  },
  {
   "cell_type": "code",
   "execution_count": null,
   "id": "0536d6eb",
   "metadata": {},
   "outputs": [],
   "source": [
    "# We zijn dat we enkel met getallen (floats en ints) te maken hebben. Nu is de vraag: zijn dit allemaal numerieke waardes\n",
    "# op een schaal, of zijn er binnen de variabelen misschien categoriën?\n",
    "\n",
    "print(df_final.nunique())"
   ]
  },
  {
   "cell_type": "code",
   "execution_count": null,
   "id": "b5909236",
   "metadata": {},
   "outputs": [],
   "source": [
    "# De variabelen 'length', 'mass', 'smoking' en 'lifespan' hebben de meeste verschillende waardes. 'Sugar' en 'exercise'\n",
    "# lijken allebei te bestaan uit 5 verschillende waardes, variërend van 1 tot 5. Hier gaan we er even vanuit dat er geen \n",
    "# waardes tussen de hele getallen liggen, maar dit is wel iets om rekening mee te houden natuurlijk. "
   ]
  },
  {
   "cell_type": "code",
   "execution_count": null,
   "id": "c68fbb31",
   "metadata": {},
   "outputs": [],
   "source": [
    "# Voor de zekerheid bekijken we toch even of alle variabelen enkel hele getallen bevatten:\n",
    "\n",
    "for c in df_final:\n",
    "    print((df_final[c].fillna(-9999) % 1  == 0).all())"
   ]
  },
  {
   "cell_type": "code",
   "execution_count": null,
   "id": "77a042f7",
   "metadata": {
    "scrolled": true,
    "tags": []
   },
   "outputs": [],
   "source": [
    "# Aangezien alle variabelen dus hele getallen zijn kunnen we alles omzetten naar integers, voor de eenvoud:\n",
    "\n",
    "for c in df_final:\n",
    "    df_final[c] = df_final[c].fillna(0.0).astype(int)\n",
    "    \n",
    "print(df_final.dtypes)"
   ]
  },
  {
   "cell_type": "code",
   "execution_count": null,
   "id": "8c5f5e19",
   "metadata": {},
   "outputs": [],
   "source": [
    "# Een volgende stap is om eens te kijken naar wat van de variabelen, hoe zit het bijvoorbeeld met de gemiddelde\n",
    "# levensverwachting en suikerinname? \n",
    "\n",
    "df_final[['sugar', 'lifespan']].groupby(['sugar'], as_index=False).mean().sort_values(by='lifespan', ascending=False)"
   ]
  },
  {
   "cell_type": "code",
   "execution_count": null,
   "id": "a72c57fa",
   "metadata": {},
   "outputs": [],
   "source": [
    "# Hier zien we een duidelijke afname in levensverwachting naarmate 'sugar' een hogere waarde aanneemt. \n",
    "# Hetzelfde kunnen we doen voor 'exercise'\n",
    "\n",
    "df_final[['exercise', 'lifespan']].groupby(['exercise'], as_index=False).mean().sort_values(by='lifespan')"
   ]
  },
  {
   "cell_type": "code",
   "execution_count": null,
   "id": "d484c2f7",
   "metadata": {},
   "outputs": [],
   "source": [
    "# Wat niet zozeer interessant is voor ons toekomstige model, maar wel interessant: hoe is het gesteld met het bewegen\n",
    "# in deze dataset; "
   ]
  },
  {
   "cell_type": "code",
   "execution_count": null,
   "id": "5e2d396f",
   "metadata": {},
   "outputs": [],
   "source": [
    "df_final['exercise'].value_counts()"
   ]
  },
  {
   "cell_type": "code",
   "execution_count": null,
   "id": "41e6cfc4",
   "metadata": {},
   "outputs": [],
   "source": [
    "df_final.loc[df_final['exercise'] == 4]['sugar'].mean()"
   ]
  },
  {
   "cell_type": "code",
   "execution_count": null,
   "id": "56e2b1ca",
   "metadata": {},
   "outputs": [],
   "source": [
    "#We kunnen nu kijken naar eventuele onderlinge correlaties:\n",
    "print(df_final.corr())\n",
    "sns.heatmap(df_final.corr())"
   ]
  },
  {
   "cell_type": "code",
   "execution_count": null,
   "id": "9fb1d00d",
   "metadata": {},
   "outputs": [],
   "source": [
    "df_final.corr()['lifespan']"
   ]
  },
  {
   "cell_type": "code",
   "execution_count": null,
   "id": "ad3dfbda",
   "metadata": {},
   "outputs": [],
   "source": []
  }
 ],
 "metadata": {
  "kernelspec": {
   "display_name": "Python 3 (ipykernel)",
   "language": "python",
   "name": "python3"
  },
  "language_info": {
   "codemirror_mode": {
    "name": "ipython",
    "version": 3
   },
   "file_extension": ".py",
   "mimetype": "text/x-python",
   "name": "python",
   "nbconvert_exporter": "python",
   "pygments_lexer": "ipython3",
   "version": "3.11.1"
  }
 },
 "nbformat": 4,
 "nbformat_minor": 5
}
