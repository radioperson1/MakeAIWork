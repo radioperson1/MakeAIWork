{
 "cells": [
  {
   "cell_type": "markdown",
   "id": "349bf9e9",
   "metadata": {},
   "source": [
    "# Exploratory Data Analysis voor project \"Gezondheidszorg\""
   ]
  },
  {
   "cell_type": "markdown",
   "id": "849034f4",
   "metadata": {},
   "source": [
    "## Imports van de te gebruiken libraries"
   ]
  },
  {
   "cell_type": "code",
   "execution_count": 83,
   "id": "f64570d4",
   "metadata": {},
   "outputs": [],
   "source": [
    "import pandas as pd\n",
    "import json\n",
    "import requests\n",
    "import seaborn as sns\n",
    "import matplotlib.pyplot as plt\n",
    "import numpy as np\n",
    "import sqlite3"
   ]
  },
  {
   "cell_type": "markdown",
   "id": "76b8d24f",
   "metadata": {},
   "source": [
    "## Ophalen van de data"
   ]
  },
  {
   "cell_type": "markdown",
   "id": "02ac69a8",
   "metadata": {},
   "source": [
    "De data kan op verschillende manieren worden opgehaald, maar in dit geval is er gekozen voor de manier via de rest server API. Hiervoor moet de rest server worden opgestart via een bash-script dat we hebben gekregen. Tot op heden heb ik nog geen manier gevonden om dit in een notebook te doen. We gaan er dus vanuit dat de rest server opgestart is. Als dit niet zo is werkt het onderstaande blok code niet. "
   ]
  },
  {
   "cell_type": "markdown",
   "id": "7a19a239",
   "metadata": {},
   "source": [
    "### Data ophalen via rest API"
   ]
  },
  {
   "cell_type": "code",
   "execution_count": 4,
   "id": "40ff7f84",
   "metadata": {},
   "outputs": [],
   "source": [
    "#url van API\n",
    "url = \"http://localhost:8080/medish_centrum_randstad/api/netlify?page=1\"\n",
    "\n",
    "#We slaan de response op \n",
    "response = requests.get(url).json()\n",
    "\n",
    "#We slaan de response op als dataframe\n",
    "df_fromAPI = pd.DataFrame(response['data'])"
   ]
  },
  {
   "cell_type": "markdown",
   "id": "4b21cde5",
   "metadata": {},
   "source": [
    "### Data ophalen met een SQLite query:"
   ]
  },
  {
   "cell_type": "code",
   "execution_count": 92,
   "id": "359a3c0d",
   "metadata": {},
   "outputs": [
    {
     "data": {
      "text/html": [
       "<div>\n",
       "<style scoped>\n",
       "    .dataframe tbody tr th:only-of-type {\n",
       "        vertical-align: middle;\n",
       "    }\n",
       "\n",
       "    .dataframe tbody tr th {\n",
       "        vertical-align: top;\n",
       "    }\n",
       "\n",
       "    .dataframe thead th {\n",
       "        text-align: right;\n",
       "    }\n",
       "</style>\n",
       "<table border=\"1\" class=\"dataframe\">\n",
       "  <thead>\n",
       "    <tr style=\"text-align: right;\">\n",
       "      <th></th>\n",
       "      <th>genetic</th>\n",
       "      <th>length</th>\n",
       "      <th>mass</th>\n",
       "      <th>exercise</th>\n",
       "      <th>smoking</th>\n",
       "      <th>alcohol</th>\n",
       "      <th>lifespan</th>\n",
       "      <th>sugar</th>\n",
       "    </tr>\n",
       "  </thead>\n",
       "  <tbody>\n",
       "    <tr>\n",
       "      <th>0</th>\n",
       "      <td>73.9</td>\n",
       "      <td>185.0</td>\n",
       "      <td>99.7</td>\n",
       "      <td>0.9</td>\n",
       "      <td>0.0</td>\n",
       "      <td>2.4</td>\n",
       "      <td>73.1</td>\n",
       "      <td>6.9</td>\n",
       "    </tr>\n",
       "    <tr>\n",
       "      <th>1</th>\n",
       "      <td>86.0</td>\n",
       "      <td>172.0</td>\n",
       "      <td>105.4</td>\n",
       "      <td>1.8</td>\n",
       "      <td>8.1</td>\n",
       "      <td>0.4</td>\n",
       "      <td>85.0</td>\n",
       "      <td>4.2</td>\n",
       "    </tr>\n",
       "    <tr>\n",
       "      <th>2</th>\n",
       "      <td>83.3</td>\n",
       "      <td>176.0</td>\n",
       "      <td>111.4</td>\n",
       "      <td>1.1</td>\n",
       "      <td>0.8</td>\n",
       "      <td>4.6</td>\n",
       "      <td>81.6</td>\n",
       "      <td>7.5</td>\n",
       "    </tr>\n",
       "    <tr>\n",
       "      <th>3</th>\n",
       "      <td>82.8</td>\n",
       "      <td>164.0</td>\n",
       "      <td>111.4</td>\n",
       "      <td>4.7</td>\n",
       "      <td>11.8</td>\n",
       "      <td>1.0</td>\n",
       "      <td>81.0</td>\n",
       "      <td>2.9</td>\n",
       "    </tr>\n",
       "    <tr>\n",
       "      <th>4</th>\n",
       "      <td>78.7</td>\n",
       "      <td>178.0</td>\n",
       "      <td>71.6</td>\n",
       "      <td>1.5</td>\n",
       "      <td>8.3</td>\n",
       "      <td>4.9</td>\n",
       "      <td>75.0</td>\n",
       "      <td>5.5</td>\n",
       "    </tr>\n",
       "    <tr>\n",
       "      <th>...</th>\n",
       "      <td>...</td>\n",
       "      <td>...</td>\n",
       "      <td>...</td>\n",
       "      <td>...</td>\n",
       "      <td>...</td>\n",
       "      <td>...</td>\n",
       "      <td>...</td>\n",
       "      <td>...</td>\n",
       "    </tr>\n",
       "    <tr>\n",
       "      <th>4091</th>\n",
       "      <td>80.3</td>\n",
       "      <td>176.0</td>\n",
       "      <td>115.9</td>\n",
       "      <td>3.7</td>\n",
       "      <td>0.1</td>\n",
       "      <td>5.6</td>\n",
       "      <td>80.7</td>\n",
       "      <td>5.8</td>\n",
       "    </tr>\n",
       "    <tr>\n",
       "      <th>4092</th>\n",
       "      <td>75.3</td>\n",
       "      <td>162.0</td>\n",
       "      <td>129.6</td>\n",
       "      <td>3.6</td>\n",
       "      <td>6.2</td>\n",
       "      <td>5.6</td>\n",
       "      <td>71.1</td>\n",
       "      <td>7.6</td>\n",
       "    </tr>\n",
       "    <tr>\n",
       "      <th>4093</th>\n",
       "      <td>93.1</td>\n",
       "      <td>189.0</td>\n",
       "      <td>115.3</td>\n",
       "      <td>2.7</td>\n",
       "      <td>9.4</td>\n",
       "      <td>4.9</td>\n",
       "      <td>90.0</td>\n",
       "      <td>6.6</td>\n",
       "    </tr>\n",
       "    <tr>\n",
       "      <th>4094</th>\n",
       "      <td>77.9</td>\n",
       "      <td>170.0</td>\n",
       "      <td>90.8</td>\n",
       "      <td>2.3</td>\n",
       "      <td>13.2</td>\n",
       "      <td>0.8</td>\n",
       "      <td>75.9</td>\n",
       "      <td>6.2</td>\n",
       "    </tr>\n",
       "    <tr>\n",
       "      <th>4095</th>\n",
       "      <td>101.3</td>\n",
       "      <td>188.0</td>\n",
       "      <td>129.2</td>\n",
       "      <td>1.2</td>\n",
       "      <td>8.2</td>\n",
       "      <td>6.0</td>\n",
       "      <td>96.9</td>\n",
       "      <td>6.2</td>\n",
       "    </tr>\n",
       "  </tbody>\n",
       "</table>\n",
       "<p>4096 rows × 8 columns</p>\n",
       "</div>"
      ],
      "text/plain": [
       "      genetic  length   mass  exercise  smoking  alcohol  lifespan  sugar\n",
       "0        73.9   185.0   99.7       0.9      0.0      2.4      73.1    6.9\n",
       "1        86.0   172.0  105.4       1.8      8.1      0.4      85.0    4.2\n",
       "2        83.3   176.0  111.4       1.1      0.8      4.6      81.6    7.5\n",
       "3        82.8   164.0  111.4       4.7     11.8      1.0      81.0    2.9\n",
       "4        78.7   178.0   71.6       1.5      8.3      4.9      75.0    5.5\n",
       "...       ...     ...    ...       ...      ...      ...       ...    ...\n",
       "4091     80.3   176.0  115.9       3.7      0.1      5.6      80.7    5.8\n",
       "4092     75.3   162.0  129.6       3.6      6.2      5.6      71.1    7.6\n",
       "4093     93.1   189.0  115.3       2.7      9.4      4.9      90.0    6.6\n",
       "4094     77.9   170.0   90.8       2.3     13.2      0.8      75.9    6.2\n",
       "4095    101.3   188.0  129.2       1.2      8.2      6.0      96.9    6.2\n",
       "\n",
       "[4096 rows x 8 columns]"
      ]
     },
     "execution_count": 92,
     "metadata": {},
     "output_type": "execute_result"
    }
   ],
   "source": [
    "dbName = \"rest_server/medisch_centrum_randstad/db.sqlite3\"\n",
    "tableName = \"rest_api_netlify\"\n",
    "\n",
    "dbConnection = sqlite3.connect(dbName)\n",
    "\n",
    "dfFromDB = pd.read_sql_query(f\"SELECT * FROM {tableName}\", dbConnection)\n",
    "pd.set_option('display.max_columns', 10)\n",
    "\n",
    "dfFromDB.drop(['id'], axis=1)"
   ]
  },
  {
   "cell_type": "markdown",
   "id": "b5ca0c66",
   "metadata": {},
   "source": [
    "### Ophalen van data via .csv bestand"
   ]
  },
  {
   "cell_type": "markdown",
   "id": "33f8af39",
   "metadata": {},
   "source": [
    "Omdat de data op de rest server nog niet is geupdate gebruiken we in dit geval het .csv bestand van de nieuwe database"
   ]
  },
  {
   "cell_type": "code",
   "execution_count": 35,
   "id": "888d5152",
   "metadata": {},
   "outputs": [
    {
     "data": {
      "text/plain": [
       "(  genetic length   mass exercise  smoking alcohol sugar  lifespan\n",
       " 0    73.9    185   99.7      0.9      0.0     2.4   6.9      73.1\n",
       " 1    86.0    172  105.4      1.8      8.1     0.4   4.2      85.0\n",
       " 2    83.3    176  111.4      1.1      0.8     4.6   7.5      81.6\n",
       " 3    82.8    164  111.4      4.7     11.8     1.0   2.9      81.0\n",
       " 4    78.7    178   71.6      1.5      8.3     4.9   5.5      75.0,\n",
       " (4096, 8))"
      ]
     },
     "execution_count": 35,
     "metadata": {},
     "output_type": "execute_result"
    }
   ],
   "source": [
    "#Csv inladen, zodra de nieuwe data via de server kan worden opgehaald verander ik de onderstaande code\n",
    "df = pd.read_csv('data_new.csv')\n",
    "\n",
    "#We werpen een eerste blik op het datafram en bekijken de dimensies\n",
    "df.head(), df.shape"
   ]
  },
  {
   "cell_type": "markdown",
   "id": "94253b1a",
   "metadata": {},
   "source": [
    "## Bekijken van data/eerste stappen in verkennen van de data"
   ]
  },
  {
   "cell_type": "markdown",
   "id": "d61bf87b",
   "metadata": {},
   "source": [
    "In deze eerste stappen bekijken we wat er in ons dataframe voorkomt qua waardes en type data:"
   ]
  },
  {
   "cell_type": "code",
   "execution_count": 36,
   "id": "9e388694",
   "metadata": {
    "scrolled": true
   },
   "outputs": [
    {
     "data": {
      "text/plain": [
       "genetic     0\n",
       "length      0\n",
       "mass        0\n",
       "exercise    0\n",
       "smoking     0\n",
       "alcohol     0\n",
       "sugar       0\n",
       "lifespan    0\n",
       "dtype: int64"
      ]
     },
     "execution_count": 36,
     "metadata": {},
     "output_type": "execute_result"
    }
   ],
   "source": [
    "#Kijken of de data lege cellen bevat:\n",
    "df.isna().sum()"
   ]
  },
  {
   "cell_type": "markdown",
   "id": "66751433",
   "metadata": {},
   "source": [
    "We hebben geen lege cellen zoals hierboven te zien is.\n",
    "\n",
    "Zoals we te zien kregen bij .head() zouden alle kolommen van het dataframe allemaal floating point values moeten bevatten. Dit zou betekenen dat we met een \"simpele\" typecast alle waardes naar het type float kunnen omzetten. Dit geeft echter een error, waarin we lezen dat we o.a. cellen hebben waarin een '?' voorkomt. \n",
    "\n",
    "Dit brengt ons eigenlijk tot de vraag: zijn er cellen in het dataframe met waardes die __niet__ omgezet kunnen worden naar floats?"
   ]
  },
  {
   "cell_type": "code",
   "execution_count": 1,
   "id": "4c9b05e6",
   "metadata": {
    "scrolled": true,
    "tags": []
   },
   "outputs": [
    {
     "ename": "NameError",
     "evalue": "name 'df' is not defined",
     "output_type": "error",
     "traceback": [
      "\u001b[1;31m---------------------------------------------------------------------------\u001b[0m",
      "\u001b[1;31mNameError\u001b[0m                                 Traceback (most recent call last)",
      "Cell \u001b[1;32mIn[1], line 4\u001b[0m\n\u001b[0;32m      1\u001b[0m \u001b[38;5;66;03m#Een manier om alle niet numerieke cellen te verwijderen:\u001b[39;00m\n\u001b[0;32m      2\u001b[0m \n\u001b[0;32m      3\u001b[0m \u001b[38;5;66;03m#Eerst proberen we elke cel om te zetten naar een float, en maken we de cellen waarbij dit niet mogelijk is leeg/NaN:\u001b[39;00m\n\u001b[1;32m----> 4\u001b[0m \u001b[38;5;28;01mfor\u001b[39;00m c \u001b[38;5;129;01min\u001b[39;00m \u001b[43mdf\u001b[49m\u001b[38;5;241m.\u001b[39mcolumns:\n\u001b[0;32m      5\u001b[0m     df[c] \u001b[38;5;241m=\u001b[39m pd\u001b[38;5;241m.\u001b[39mto_numeric(df[c], errors\u001b[38;5;241m=\u001b[39m\u001b[38;5;124m'\u001b[39m\u001b[38;5;124mcoerce\u001b[39m\u001b[38;5;124m'\u001b[39m)\n\u001b[0;32m      7\u001b[0m \u001b[38;5;66;03m#We bekijken alle rijen met een NaN:\u001b[39;00m\n",
      "\u001b[1;31mNameError\u001b[0m: name 'df' is not defined"
     ]
    }
   ],
   "source": [
    "#Een manier om alle niet numerieke cellen te verwijderen:\n",
    "\n",
    "#Eerst proberen we elke cel om te zetten naar een float, en maken we de cellen waarbij dit niet mogelijk is leeg/NaN:\n",
    "for c in df.columns:\n",
    "    df[c] = pd.to_numeric(df[c], errors='coerce')\n",
    "\n",
    "#We bekijken alle rijen met een NaN:\n",
    "df[df.isna().any(axis=1)]"
   ]
  },
  {
   "cell_type": "code",
   "execution_count": 52,
   "id": "820a7b4c",
   "metadata": {},
   "outputs": [],
   "source": [
    "#Nu verwijderen we alle rijen die een NaN bevatten:\n",
    "\n",
    "df = df.dropna()"
   ]
  },
  {
   "cell_type": "code",
   "execution_count": 53,
   "id": "89ae96f6",
   "metadata": {
    "scrolled": true
   },
   "outputs": [
    {
     "name": "stdout",
     "output_type": "stream",
     "text": [
      "<class 'pandas.core.frame.DataFrame'>\n",
      "Int64Index: 4086 entries, 0 to 4095\n",
      "Data columns (total 8 columns):\n",
      " #   Column    Non-Null Count  Dtype  \n",
      "---  ------    --------------  -----  \n",
      " 0   genetic   4086 non-null   float64\n",
      " 1   length    4086 non-null   float64\n",
      " 2   mass      4086 non-null   float64\n",
      " 3   exercise  4086 non-null   float64\n",
      " 4   smoking   4086 non-null   float64\n",
      " 5   alcohol   4086 non-null   float64\n",
      " 6   sugar     4086 non-null   float64\n",
      " 7   lifespan  4086 non-null   float64\n",
      "dtypes: float64(8)\n",
      "memory usage: 287.3 KB\n"
     ]
    }
   ],
   "source": [
    "#Nu checken we nogmaals de datatypes van alle kolommen, en zien we dat we enkel met floats te maken hebben:\n",
    "df.info()"
   ]
  },
  {
   "cell_type": "markdown",
   "id": "04b14314",
   "metadata": {},
   "source": [
    "Een volgende stap kan zijn: het bekijken van het aantal 0 waardes per kolom (dus cellen die daadwerkelijke als waarde 0 hebben; het gaat hier niet om lege cellen). We weten immers dat er variabelen, zoals 'genetic', 'length', 'mass' en 'lifespan' zijn die nooit 0 kunnen zijn:"
   ]
  },
  {
   "cell_type": "code",
   "execution_count": 54,
   "id": "f162b9bb",
   "metadata": {},
   "outputs": [
    {
     "name": "stdout",
     "output_type": "stream",
     "text": [
      "genetic      0\n",
      "length       0\n",
      "mass         0\n",
      "exercise     0\n",
      "smoking     53\n",
      "alcohol     12\n",
      "sugar        0\n",
      "lifespan     0\n",
      "dtype: int64\n"
     ]
    }
   ],
   "source": [
    "print(df.isin([0]).sum(axis=0))"
   ]
  },
  {
   "cell_type": "markdown",
   "id": "074bb609",
   "metadata": {},
   "source": [
    "We zien dus dat we geen 0 waardes hebben binnen variabelen waarbij dit niet zou kunnen. Mooi. \n",
    "\n",
    "We kunnen nu wat descriptive statistics van ons dataframe ophalen. Dit is handig aangezien we zo vrij snel kunnen zien of er bijvoorbeeld vreemde uitersten in de data zitten:"
   ]
  },
  {
   "cell_type": "code",
   "execution_count": 55,
   "id": "4e01e47f",
   "metadata": {},
   "outputs": [
    {
     "data": {
      "text/html": [
       "<div>\n",
       "<style scoped>\n",
       "    .dataframe tbody tr th:only-of-type {\n",
       "        vertical-align: middle;\n",
       "    }\n",
       "\n",
       "    .dataframe tbody tr th {\n",
       "        vertical-align: top;\n",
       "    }\n",
       "\n",
       "    .dataframe thead th {\n",
       "        text-align: right;\n",
       "    }\n",
       "</style>\n",
       "<table border=\"1\" class=\"dataframe\">\n",
       "  <thead>\n",
       "    <tr style=\"text-align: right;\">\n",
       "      <th></th>\n",
       "      <th>genetic</th>\n",
       "      <th>length</th>\n",
       "      <th>mass</th>\n",
       "      <th>exercise</th>\n",
       "      <th>smoking</th>\n",
       "      <th>alcohol</th>\n",
       "      <th>sugar</th>\n",
       "      <th>lifespan</th>\n",
       "    </tr>\n",
       "  </thead>\n",
       "  <tbody>\n",
       "    <tr>\n",
       "      <th>count</th>\n",
       "      <td>4086.000000</td>\n",
       "      <td>4086.000000</td>\n",
       "      <td>4086.000000</td>\n",
       "      <td>4086.000000</td>\n",
       "      <td>4086.000000</td>\n",
       "      <td>4086.000000</td>\n",
       "      <td>4086.000000</td>\n",
       "      <td>4086.000000</td>\n",
       "    </tr>\n",
       "    <tr>\n",
       "      <th>mean</th>\n",
       "      <td>82.280127</td>\n",
       "      <td>183.879344</td>\n",
       "      <td>92.273837</td>\n",
       "      <td>2.403353</td>\n",
       "      <td>9.812677</td>\n",
       "      <td>2.266006</td>\n",
       "      <td>6.484973</td>\n",
       "      <td>80.137959</td>\n",
       "    </tr>\n",
       "    <tr>\n",
       "      <th>std</th>\n",
       "      <td>7.440070</td>\n",
       "      <td>12.627470</td>\n",
       "      <td>25.800771</td>\n",
       "      <td>1.170593</td>\n",
       "      <td>6.919057</td>\n",
       "      <td>1.801020</td>\n",
       "      <td>2.709868</td>\n",
       "      <td>8.041656</td>\n",
       "    </tr>\n",
       "    <tr>\n",
       "      <th>min</th>\n",
       "      <td>63.900000</td>\n",
       "      <td>154.000000</td>\n",
       "      <td>50.000000</td>\n",
       "      <td>0.100000</td>\n",
       "      <td>0.000000</td>\n",
       "      <td>0.000000</td>\n",
       "      <td>0.700000</td>\n",
       "      <td>-1.000000</td>\n",
       "    </tr>\n",
       "    <tr>\n",
       "      <th>25%</th>\n",
       "      <td>77.600000</td>\n",
       "      <td>175.000000</td>\n",
       "      <td>71.425000</td>\n",
       "      <td>1.500000</td>\n",
       "      <td>3.400000</td>\n",
       "      <td>0.600000</td>\n",
       "      <td>4.400000</td>\n",
       "      <td>75.000000</td>\n",
       "    </tr>\n",
       "    <tr>\n",
       "      <th>50%</th>\n",
       "      <td>81.800000</td>\n",
       "      <td>184.000000</td>\n",
       "      <td>89.500000</td>\n",
       "      <td>2.200000</td>\n",
       "      <td>9.500000</td>\n",
       "      <td>1.700000</td>\n",
       "      <td>6.300000</td>\n",
       "      <td>79.700000</td>\n",
       "    </tr>\n",
       "    <tr>\n",
       "      <th>75%</th>\n",
       "      <td>86.700000</td>\n",
       "      <td>193.000000</td>\n",
       "      <td>110.875000</td>\n",
       "      <td>3.200000</td>\n",
       "      <td>15.900000</td>\n",
       "      <td>4.000000</td>\n",
       "      <td>8.400000</td>\n",
       "      <td>85.200000</td>\n",
       "    </tr>\n",
       "    <tr>\n",
       "      <th>max</th>\n",
       "      <td>102.200000</td>\n",
       "      <td>214.000000</td>\n",
       "      <td>163.600000</td>\n",
       "      <td>5.500000</td>\n",
       "      <td>22.200000</td>\n",
       "      <td>6.000000</td>\n",
       "      <td>13.800000</td>\n",
       "      <td>105.100000</td>\n",
       "    </tr>\n",
       "  </tbody>\n",
       "</table>\n",
       "</div>"
      ],
      "text/plain": [
       "           genetic       length         mass     exercise      smoking  \\\n",
       "count  4086.000000  4086.000000  4086.000000  4086.000000  4086.000000   \n",
       "mean     82.280127   183.879344    92.273837     2.403353     9.812677   \n",
       "std       7.440070    12.627470    25.800771     1.170593     6.919057   \n",
       "min      63.900000   154.000000    50.000000     0.100000     0.000000   \n",
       "25%      77.600000   175.000000    71.425000     1.500000     3.400000   \n",
       "50%      81.800000   184.000000    89.500000     2.200000     9.500000   \n",
       "75%      86.700000   193.000000   110.875000     3.200000    15.900000   \n",
       "max     102.200000   214.000000   163.600000     5.500000    22.200000   \n",
       "\n",
       "           alcohol        sugar     lifespan  \n",
       "count  4086.000000  4086.000000  4086.000000  \n",
       "mean      2.266006     6.484973    80.137959  \n",
       "std       1.801020     2.709868     8.041656  \n",
       "min       0.000000     0.700000    -1.000000  \n",
       "25%       0.600000     4.400000    75.000000  \n",
       "50%       1.700000     6.300000    79.700000  \n",
       "75%       4.000000     8.400000    85.200000  \n",
       "max       6.000000    13.800000   105.100000  "
      ]
     },
     "execution_count": 55,
     "metadata": {},
     "output_type": "execute_result"
    }
   ],
   "source": [
    "df.describe()"
   ]
  },
  {
   "cell_type": "markdown",
   "id": "f4b2e843",
   "metadata": {},
   "source": [
    "## Spotten van afwijkende waardes/outliers"
   ]
  },
  {
   "cell_type": "markdown",
   "id": "df410cb2",
   "metadata": {},
   "source": [
    "Zoals we hierboven zien hebben we bij de kolom 'lifespan' een minimale waarde van -1. Dit is natuurlijk niet mogelijk.\n",
    "We kunnen de boxplot van 'lifespan' laten zien om te kijken of er verder nog gekke outliers zijn:"
   ]
  },
  {
   "cell_type": "code",
   "execution_count": 56,
   "id": "cf368e50",
   "metadata": {},
   "outputs": [
    {
     "data": {
      "text/plain": [
       "<AxesSubplot: xlabel='lifespan'>"
      ]
     },
     "execution_count": 56,
     "metadata": {},
     "output_type": "execute_result"
    },
    {
     "data": {
      "image/png": "[encoded data removed]",
      "text/plain": [
       "<Figure size 640x480 with 1 Axes>"
      ]
     },
     "metadata": {},
     "output_type": "display_data"
    }
   ],
   "source": [
    "sns.boxplot(x=df['lifespan'])"
   ]
  },
  {
   "cell_type": "code",
   "execution_count": 57,
   "id": "402aafa3",
   "metadata": {},
   "outputs": [
    {
     "data": {
      "text/html": [
       "<div>\n",
       "<style scoped>\n",
       "    .dataframe tbody tr th:only-of-type {\n",
       "        vertical-align: middle;\n",
       "    }\n",
       "\n",
       "    .dataframe tbody tr th {\n",
       "        vertical-align: top;\n",
       "    }\n",
       "\n",
       "    .dataframe thead th {\n",
       "        text-align: right;\n",
       "    }\n",
       "</style>\n",
       "<table border=\"1\" class=\"dataframe\">\n",
       "  <thead>\n",
       "    <tr style=\"text-align: right;\">\n",
       "      <th></th>\n",
       "      <th>genetic</th>\n",
       "      <th>length</th>\n",
       "      <th>mass</th>\n",
       "      <th>exercise</th>\n",
       "      <th>smoking</th>\n",
       "      <th>alcohol</th>\n",
       "      <th>sugar</th>\n",
       "      <th>lifespan</th>\n",
       "    </tr>\n",
       "  </thead>\n",
       "  <tbody>\n",
       "    <tr>\n",
       "      <th>889</th>\n",
       "      <td>88.1</td>\n",
       "      <td>156.0</td>\n",
       "      <td>112.9</td>\n",
       "      <td>0.7</td>\n",
       "      <td>19.5</td>\n",
       "      <td>0.9</td>\n",
       "      <td>3.0</td>\n",
       "      <td>-1.0</td>\n",
       "    </tr>\n",
       "    <tr>\n",
       "      <th>2300</th>\n",
       "      <td>82.6</td>\n",
       "      <td>188.0</td>\n",
       "      <td>63.1</td>\n",
       "      <td>3.6</td>\n",
       "      <td>15.0</td>\n",
       "      <td>0.2</td>\n",
       "      <td>1.0</td>\n",
       "      <td>-1.0</td>\n",
       "    </tr>\n",
       "  </tbody>\n",
       "</table>\n",
       "</div>"
      ],
      "text/plain": [
       "      genetic  length   mass  exercise  smoking  alcohol  sugar  lifespan\n",
       "889      88.1   156.0  112.9       0.7     19.5      0.9    3.0      -1.0\n",
       "2300     82.6   188.0   63.1       3.6     15.0      0.2    1.0      -1.0"
      ]
     },
     "execution_count": 57,
     "metadata": {},
     "output_type": "execute_result"
    }
   ],
   "source": [
    "#We zien de outliers ook terug op de boxplot. Dit zegt ons echter niets over het aantal -1 waardes. Dit checken we dus:\n",
    "df.loc[df['lifespan'] < 0]"
   ]
  },
  {
   "cell_type": "code",
   "execution_count": 59,
   "id": "e441744f",
   "metadata": {},
   "outputs": [],
   "source": [
    "#We hebben dus twee gevallen met een niet-kloppende lifespan. Deze verwijderen we:\n",
    "df.drop(df.loc[df['lifespan'] < 0].index, inplace=True)"
   ]
  },
  {
   "cell_type": "code",
   "execution_count": 60,
   "id": "07c64d90",
   "metadata": {},
   "outputs": [
    {
     "data": {
      "text/html": [
       "<div>\n",
       "<style scoped>\n",
       "    .dataframe tbody tr th:only-of-type {\n",
       "        vertical-align: middle;\n",
       "    }\n",
       "\n",
       "    .dataframe tbody tr th {\n",
       "        vertical-align: top;\n",
       "    }\n",
       "\n",
       "    .dataframe thead th {\n",
       "        text-align: right;\n",
       "    }\n",
       "</style>\n",
       "<table border=\"1\" class=\"dataframe\">\n",
       "  <thead>\n",
       "    <tr style=\"text-align: right;\">\n",
       "      <th></th>\n",
       "      <th>genetic</th>\n",
       "      <th>length</th>\n",
       "      <th>mass</th>\n",
       "      <th>exercise</th>\n",
       "      <th>smoking</th>\n",
       "      <th>alcohol</th>\n",
       "      <th>sugar</th>\n",
       "      <th>lifespan</th>\n",
       "    </tr>\n",
       "  </thead>\n",
       "  <tbody>\n",
       "  </tbody>\n",
       "</table>\n",
       "</div>"
      ],
      "text/plain": [
       "Empty DataFrame\n",
       "Columns: [genetic, length, mass, exercise, smoking, alcohol, sugar, lifespan]\n",
       "Index: []"
      ]
     },
     "execution_count": 60,
     "metadata": {},
     "output_type": "execute_result"
    }
   ],
   "source": [
    "#Nu zien we dat er geen -1 gevallen meer tussen zitten:\n",
    "df.loc[df['lifespan'] < 0]"
   ]
  },
  {
   "cell_type": "markdown",
   "id": "641e9fb9",
   "metadata": {},
   "source": [
    "Als volgende stap bekijken we ook alle boxplots van de andere variabelen."
   ]
  },
  {
   "cell_type": "code",
   "execution_count": 78,
   "id": "3a1a7758",
   "metadata": {},
   "outputs": [
    {
     "data": {
      "image/png": "[encoded data removed]",
      "text/plain": [
       "<Figure size 640x480 with 8 Axes>"
      ]
     },
     "metadata": {},
     "output_type": "display_data"
    }
   ],
   "source": [
    "cols = [c for c in df.columns]\n",
    "\n",
    "fig, axes = plt.subplots(ncols=len(cols))\n",
    "\n",
    "for column, axis in zip(cols, axes):\n",
    "        sns.boxplot(data=df[column], ax=axis) \n",
    "        axis.set_title(column)\n",
    "        \n",
    "plt.tight_layout()\n",
    "plt.show()"
   ]
  },
  {
   "cell_type": "markdown",
   "id": "e8ae765a",
   "metadata": {},
   "source": [
    "Hierboven zien we dat we alleen bij 'genetic' en 'lifespan' nog uitschieters hebben naar boven en beneden. De vraag is nu: zijn dit, zoals onze -1 bij 'lifespan', daadwerkelijk verkeerde datapunten, of zijn deze uitschieters \"gewoon\" onderdeel van de data. Er zijn immers mensen die een stuk jonger of ouder worden dan de meeste mensen. In dit geval is er besloten om deze uitschieters niet te verwijderen aangezien ze niet onwaarschijnlijk zijn, en het vrijwel zeker is dat dit echte datapunten zijn."
   ]
  },
  {
   "cell_type": "markdown",
   "id": "f5839ab0",
   "metadata": {},
   "source": [
    "## Feature extraction/engineering"
   ]
  },
  {
   "cell_type": "markdown",
   "id": "a41f9402",
   "metadata": {},
   "source": [
    "Nu we een redelijk schoon dataframe hebben zonder echte outliers, kunnen we kijken of we bepaalde features kunnen maken of bewerken. We beginnen met het aanmaken van een BMI kolom:"
   ]
  },
  {
   "cell_type": "code",
   "execution_count": 115,
   "id": "00d9b609",
   "metadata": {
    "scrolled": true
   },
   "outputs": [
    {
     "data": {
      "text/plain": [
       "count    4084.000000\n",
       "mean       27.682015\n",
       "std         8.711661\n",
       "min        11.320500\n",
       "25%        20.938542\n",
       "50%        26.476726\n",
       "75%        33.207260\n",
       "max        65.869494\n",
       "Name: BMI, dtype: float64"
      ]
     },
     "execution_count": 115,
     "metadata": {},
     "output_type": "execute_result"
    }
   ],
   "source": [
    "#We berekenen de bmi volgens de standaard formule:\n",
    "df['BMI'] = df['mass'] / ((df['length'])/100)**2\n",
    "\n",
    "#We kijken naar onze nieuwe variabel\n",
    "df['BMI'].describe()"
   ]
  },
  {
   "cell_type": "code",
   "execution_count": 132,
   "id": "360494c6",
   "metadata": {},
   "outputs": [],
   "source": [
    "labels = ['Underweight', 'Normal', 'Overweight', 'Obese']\n",
    "df['BMI cat'] = pd.cut(df['BMI'], bins=[0,18.5,25,30,70], labels=labels)"
   ]
  },
  {
   "cell_type": "code",
   "execution_count": 133,
   "id": "b5cd3698",
   "metadata": {},
   "outputs": [
    {
     "data": {
      "text/plain": [
       "Obese          1487\n",
       "Normal         1151\n",
       "Overweight      851\n",
       "Underweight     595\n",
       "Name: BMI cat, dtype: int64"
      ]
     },
     "execution_count": 133,
     "metadata": {},
     "output_type": "execute_result"
    }
   ],
   "source": [
    "df['BMI cat'].value_counts()"
   ]
  },
  {
   "cell_type": "code",
   "execution_count": 137,
   "id": "c37aa31c",
   "metadata": {},
   "outputs": [
    {
     "data": {
      "text/html": [
       "<div>\n",
       "<style scoped>\n",
       "    .dataframe tbody tr th:only-of-type {\n",
       "        vertical-align: middle;\n",
       "    }\n",
       "\n",
       "    .dataframe tbody tr th {\n",
       "        vertical-align: top;\n",
       "    }\n",
       "\n",
       "    .dataframe thead th {\n",
       "        text-align: right;\n",
       "    }\n",
       "</style>\n",
       "<table border=\"1\" class=\"dataframe\">\n",
       "  <thead>\n",
       "    <tr style=\"text-align: right;\">\n",
       "      <th></th>\n",
       "      <th>BMI cat</th>\n",
       "      <th>lifespan</th>\n",
       "    </tr>\n",
       "  </thead>\n",
       "  <tbody>\n",
       "    <tr>\n",
       "      <th>0</th>\n",
       "      <td>Underweight</td>\n",
       "      <td>80.133109</td>\n",
       "    </tr>\n",
       "    <tr>\n",
       "      <th>1</th>\n",
       "      <td>Normal</td>\n",
       "      <td>80.480365</td>\n",
       "    </tr>\n",
       "    <tr>\n",
       "      <th>2</th>\n",
       "      <td>Overweight</td>\n",
       "      <td>81.003408</td>\n",
       "    </tr>\n",
       "    <tr>\n",
       "      <th>3</th>\n",
       "      <td>Obese</td>\n",
       "      <td>79.488702</td>\n",
       "    </tr>\n",
       "  </tbody>\n",
       "</table>\n",
       "</div>"
      ],
      "text/plain": [
       "       BMI cat   lifespan\n",
       "0  Underweight  80.133109\n",
       "1       Normal  80.480365\n",
       "2   Overweight  81.003408\n",
       "3        Obese  79.488702"
      ]
     },
     "execution_count": 137,
     "metadata": {},
     "output_type": "execute_result"
    }
   ],
   "source": [
    "df[['BMI cat', 'lifespan']].groupby(['BMI cat'], as_index=False).mean().sort_values(by='BMI cat')"
   ]
  },
  {
   "cell_type": "code",
   "execution_count": null,
   "id": "0f350c1e",
   "metadata": {},
   "outputs": [],
   "source": []
  }
 ],
 "metadata": {
  "kernelspec": {
   "display_name": "Python 3 (ipykernel)",
   "language": "python",
   "name": "python3"
  },
  "language_info": {
   "codemirror_mode": {
    "name": "ipython",
    "version": 3
   },
   "file_extension": ".py",
   "mimetype": "text/x-python",
   "name": "python",
   "nbconvert_exporter": "python",
   "pygments_lexer": "ipython3",
   "version": "3.11.1"
  }
 },
 "nbformat": 4,
 "nbformat_minor": 5
}
