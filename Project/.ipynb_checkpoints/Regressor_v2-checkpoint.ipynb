{
 "cells": [
  {
   "cell_type": "code",
   "execution_count": 114,
   "id": "2848f4bf-e12e-4235-91df-f4cae0786618",
   "metadata": {
    "tags": []
   },
   "outputs": [],
   "source": [
    "#import libraries\n",
    "\n",
    "import sqlite3\n",
    "\n",
    "import pandas as pd\n",
    "import sklearn\n",
    "from sklearn.model_selection import train_test_split\n",
    "\n",
    "\n",
    "import pandas as pd\n",
    "import numpy as np\n",
    "import matplotlib.pyplot as plt\n",
    "import seaborn as sns\n",
    "from sklearn.model_selection import train_test_split\n",
    "from sklearn.linear_model import LinearRegression\n",
    "from sklearn.metrics import mean_squared_error, mean_absolute_error, r2_score\n",
    "from sklearn import preprocessing, linear_model"
   ]
  },
  {
   "cell_type": "code",
   "execution_count": 119,
   "id": "dcc56fa9-f38a-4891-84bf-6876fb5785c1",
   "metadata": {},
   "outputs": [
    {
     "data": {
      "text/html": [
       "<div>\n",
       "<style scoped>\n",
       "    .dataframe tbody tr th:only-of-type {\n",
       "        vertical-align: middle;\n",
       "    }\n",
       "\n",
       "    .dataframe tbody tr th {\n",
       "        vertical-align: top;\n",
       "    }\n",
       "\n",
       "    .dataframe thead th {\n",
       "        text-align: right;\n",
       "    }\n",
       "</style>\n",
       "<table border=\"1\" class=\"dataframe\">\n",
       "  <thead>\n",
       "    <tr style=\"text-align: right;\">\n",
       "      <th></th>\n",
       "      <th>genetic</th>\n",
       "      <th>exercise</th>\n",
       "      <th>smoking</th>\n",
       "      <th>alcohol</th>\n",
       "      <th>sugar</th>\n",
       "      <th>lifespan</th>\n",
       "      <th>bmi</th>\n",
       "    </tr>\n",
       "  </thead>\n",
       "  <tbody>\n",
       "    <tr>\n",
       "      <th>0</th>\n",
       "      <td>84.0</td>\n",
       "      <td>2.0</td>\n",
       "      <td>9.0</td>\n",
       "      <td>1.0</td>\n",
       "      <td>2</td>\n",
       "      <td>86</td>\n",
       "      <td>27.777778</td>\n",
       "    </tr>\n",
       "    <tr>\n",
       "      <th>1</th>\n",
       "      <td>84.0</td>\n",
       "      <td>3.0</td>\n",
       "      <td>2.0</td>\n",
       "      <td>7.0</td>\n",
       "      <td>3</td>\n",
       "      <td>100</td>\n",
       "      <td>18.983083</td>\n",
       "    </tr>\n",
       "    <tr>\n",
       "      <th>2</th>\n",
       "      <td>84.0</td>\n",
       "      <td>3.0</td>\n",
       "      <td>20.0</td>\n",
       "      <td>3.0</td>\n",
       "      <td>2</td>\n",
       "      <td>87</td>\n",
       "      <td>24.441802</td>\n",
       "    </tr>\n",
       "    <tr>\n",
       "      <th>3</th>\n",
       "      <td>84.0</td>\n",
       "      <td>2.0</td>\n",
       "      <td>6.0</td>\n",
       "      <td>5.0</td>\n",
       "      <td>3</td>\n",
       "      <td>91</td>\n",
       "      <td>22.305471</td>\n",
       "    </tr>\n",
       "    <tr>\n",
       "      <th>4</th>\n",
       "      <td>84.0</td>\n",
       "      <td>2.0</td>\n",
       "      <td>12.0</td>\n",
       "      <td>0.0</td>\n",
       "      <td>2</td>\n",
       "      <td>83</td>\n",
       "      <td>25.451114</td>\n",
       "    </tr>\n",
       "  </tbody>\n",
       "</table>\n",
       "</div>"
      ],
      "text/plain": [
       "   genetic  exercise  smoking  alcohol  sugar  lifespan        bmi\n",
       "0     84.0       2.0      9.0      1.0      2        86  27.777778\n",
       "1     84.0       3.0      2.0      7.0      3       100  18.983083\n",
       "2     84.0       3.0     20.0      3.0      2        87  24.441802\n",
       "3     84.0       2.0      6.0      5.0      3        91  22.305471\n",
       "4     84.0       2.0     12.0      0.0      2        83  25.451114"
      ]
     },
     "execution_count": 119,
     "metadata": {},
     "output_type": "execute_result"
    }
   ],
   "source": [
    "# data inlezen sql\n",
    "\n",
    "dbName = \"rest_server/medisch_centrum_randstad/db.sqlite3\"\n",
    "tableName = \"bmi\"\n",
    "\n",
    "dbConnection = sqlite3.connect(dbName)\n",
    "# How to convert sqlite3 object to pd dataframe?\n",
    "dfFromDB = pd.read_sql_query(f\"SELECT * FROM {tableName}\", dbConnection)\n",
    "pd.set_option('display.max_columns', 10)\n",
    "\n",
    "df = dfFromDB.drop(['id'], axis=1)\n",
    "\n",
    "df.head()"
   ]
  },
  {
   "cell_type": "code",
   "execution_count": 134,
   "id": "17ea53b1-85ee-4306-87f9-83011df80a5c",
   "metadata": {
    "tags": []
   },
   "outputs": [
    {
     "name": "stdout",
     "output_type": "stream",
     "text": [
      "<class 'pandas.core.frame.DataFrame'>\n",
      "RangeIndex: 4086 entries, 0 to 4085\n",
      "Data columns (total 7 columns):\n",
      " #   Column    Non-Null Count  Dtype  \n",
      "---  ------    --------------  -----  \n",
      " 0   genetic   4086 non-null   float64\n",
      " 1   exercise  4086 non-null   float64\n",
      " 2   smoking   4086 non-null   float64\n",
      " 3   alcohol   4086 non-null   float64\n",
      " 4   sugar     4086 non-null   float64\n",
      " 5   lifespan  4086 non-null   float64\n",
      " 6   bmi       4086 non-null   float64\n",
      "dtypes: float64(7)\n",
      "memory usage: 223.6 KB\n"
     ]
    }
   ],
   "source": [
    "df = pd.read_csv('./data/df_bmi.csv')\n",
    "\n",
    "df.info()"
   ]
  },
  {
   "cell_type": "code",
   "execution_count": 135,
   "id": "47dee0bc-d6f5-4c92-a7af-33aac0b1f08a",
   "metadata": {},
   "outputs": [],
   "source": [
    "# Verschillende dataframes benoemen die aangroepen kunnen worden\n",
    "\n",
    "# Default\n",
    "v1 = ['genetic','exercise','smoking','alcohol','sugar','bmi']\n",
    "\n",
    "# Default without genetic 'lifestyle'\n",
    "v2 = ['exercise','smoking','alcohol','sugar','bmi']\n",
    "\n",
    "# Default without bmi\n",
    "v3 = ['genetic','exercise','smoking','alcohol','sugar']\n",
    "\n",
    "# Only lifestyle (not genetic and bmi)\n",
    "v4 = ['exercise','smoking','alcohol','sugar']\n",
    "\n",
    "# Only genetic > negatieve intercept\n",
    "v5 = ['genetic']\n",
    "\n",
    "# Only BMI\n",
    "\n",
    "v6 = ['bmi']\n",
    "\n",
    "version_list = [v1,v2,v3,v4,v5]"
   ]
  },
  {
   "cell_type": "code",
   "execution_count": 144,
   "id": "f3c576d0-9374-4b8b-ad92-ddcfb6e69b05",
   "metadata": {
    "tags": []
   },
   "outputs": [
    {
     "data": {
      "text/plain": [
       "([('exercise', 0.49126608070442573),\n",
       "  ('smoking', -0.2869705926518016),\n",
       "  ('alcohol', -0.24269267396162464),\n",
       "  ('sugar', -0.04852407331946559)],\n",
       " 0.06963992667387653,\n",
       " 82.49807356676824)"
      ]
     },
     "execution_count": 144,
     "metadata": {},
     "output_type": "execute_result"
    }
   ],
   "source": [
    "def calculateModel(dataframe, version):\n",
    "    x = dataframe[version]\n",
    "    y = dataframe.loc[:, 'lifespan']\n",
    "    \n",
    "    x_train, x_test, y_train, y_test = train_test_split(x, y, test_size= 0.3, random_state = 42)\n",
    "    \n",
    "    model = LinearRegression()\n",
    "    model.fit(x_train,y_train)\n",
    "    predictions = model.predict(x_test)\n",
    "\n",
    "    ms_error =  mean_squared_error(y_test, predictions)\n",
    "    ma_error = mean_absolute_error(y_test, predictions)\n",
    "    \n",
    "    coefs = list(zip(x.columns, model.coef_))\n",
    "    \n",
    "    r2 = r2_score(y_test, predictions)\n",
    "\n",
    "    intercept = model.intercept_\n",
    "    \n",
    "    return (coefs, r2, intercept)\n",
    "\n",
    "calculateModel(df, v4)\n",
    "\n",
    "    "
   ]
  },
  {
   "cell_type": "code",
   "execution_count": null,
   "id": "3bbb68e0-0a6d-4ca0-9790-35e0e8b0bbc9",
   "metadata": {},
   "outputs": [],
   "source": []
  }
 ],
 "metadata": {
  "kernelspec": {
   "display_name": "Python 3 (ipykernel)",
   "language": "python",
   "name": "python3"
  },
  "language_info": {
   "codemirror_mode": {
    "name": "ipython",
    "version": 3
   },
   "file_extension": ".py",
   "mimetype": "text/x-python",
   "name": "python",
   "nbconvert_exporter": "python",
   "pygments_lexer": "ipython3",
   "version": "3.11.1"
  }
 },
 "nbformat": 4,
 "nbformat_minor": 5
}
