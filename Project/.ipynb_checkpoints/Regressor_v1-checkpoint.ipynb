{
 "cells": [
  {
   "cell_type": "code",
   "execution_count": null,
   "id": "9aad710a-6908-4631-a759-2289d4b4c506",
   "metadata": {
    "tags": []
   },
   "outputs": [],
   "source": [
    "import csv\n",
    "import pandas as pd\n",
    "import seaborn as sns"
   ]
  },
  {
   "cell_type": "code",
   "execution_count": null,
   "id": "f9dba4a8-2dd3-44fb-83bc-1d64953e8038",
   "metadata": {
    "tags": []
   },
   "outputs": [],
   "source": [
    "import pandas as pd\n",
    "import numpy as np\n",
    "import matplotlib.pyplot as plt\n",
    "import seaborn as sns\n",
    "from sklearn.model_selection import train_test_split\n",
    "from sklearn.linear_model import LinearRegression\n",
    "from sklearn.metrics import mean_squared_error, mean_absolute_error, r2_score\n",
    "from sklearn import preprocessing, linear_model"
   ]
  },
  {
   "cell_type": "markdown",
   "id": "ee10a7d7-e5d0-499b-87d0-044dc2369988",
   "metadata": {
    "tags": []
   },
   "source": [
    "Beoordelingsformulier\n",
    "\n",
    "De cursist kent het verschil tussen regressie en clustering\n",
    "De cursist kan een onderbouwde keuze maken welke techniek het best passend is voor de betreffende casus\n",
    "De cursist kan de gekozen techniek op een effectieve manier toepassen om hiermee relevante resultaten te verkrijgen"
   ]
  },
  {
   "cell_type": "markdown",
   "id": "a30c51bf-9554-4839-ae32-2250439dae50",
   "metadata": {},
   "source": [
    "Bouw met deze tools een model om de levensverwachting te voorspellen op basis van genetics, length, mass, exercise, smoking, alcohol en sugar. Dit model kan de arts gebruiken om patiënten te wijzen op het belang van een gezonde levensstijl. Ook kan de arts inzichtelijk maken hoe de levensstijl van invloed is op de verzekeringspremie.\n",
    "\n",
    "De factor voor de premie wordt berekend via de formule:\n",
    "\n",
    "PremieFactor=genetic/lifespan\n",
    "\n",
    "Dus als de genetische leeftijd 75 jaar is en de levensverwachting 80 jaar, dan is de premiefactor gelijk aan 0,9375. Dit betekent een korting van 6,25% op de premie.\n",
    "\n",
    "Houd ook in deze stap rekening dat er nieuwe data beschikbaar kan komen.\n"
   ]
  },
  {
   "cell_type": "markdown",
   "id": "e99cdf83-1871-4a10-badf-a55ca9ba3379",
   "metadata": {},
   "source": [
    "# Waarom kies je voor lineaire regressie\n",
    "\n",
    "Lineaire regressie kan in dit geval toegepast worden omdat we een afhankelijke variabele hebben (lifespan) en een aantal lineaire onafhankelijke variabele. We kiezen voor lineaire regressie omdat het weinig computerkracht kost en makkelijk toe te passen is in een interface. Er zijn ook andere manieren van regressie zoals decision tree of random forest, die kunnen ook toegepast worden.\n",
    "\n",
    "Life span is de afhankelijke variabele (y)\n",
    "De overige kolommen zijn de onafhankelijke variabelen/features(y)\n",
    "\n",
    "formule enkele lineaire regressie <br>\n",
    "y = ax + b <br>\n",
    "\n",
    "formule meervoudige lineaire regressie <br>\n",
    "y = mx + ... + m_5x_5 + b\n",
    "\n",
    "y = afhankelijke variabele [lifespan] <br>\n",
    "a/m = coefficients <br>\n",
    "b = intercept <br>\n",
    "x = onafhankelijke variabelen [columns] <br>\n",
    "\n",
    "lifespan = m1 * genetics + m2 * exercise + m3 * smoking + m4 * sugar + b\n"
   ]
  },
  {
   "cell_type": "markdown",
   "id": "aa2f0692-cb5f-4c0a-86c2-0343f9a9b449",
   "metadata": {},
   "source": [
    "Data inlezen"
   ]
  },
  {
   "cell_type": "markdown",
   "id": "844ecec3-c303-4ef8-b4c7-c608fb9b964d",
   "metadata": {
    "tags": []
   },
   "source": [
    "Scatterplot"
   ]
  },
  {
   "cell_type": "code",
   "execution_count": 20,
   "id": "c8f23aa1-1a75-4a8b-9d07-dbc1ef718268",
   "metadata": {
    "tags": []
   },
   "outputs": [
    {
     "data": {
      "text/html": [
       "<div>\n",
       "<style scoped>\n",
       "    .dataframe tbody tr th:only-of-type {\n",
       "        vertical-align: middle;\n",
       "    }\n",
       "\n",
       "    .dataframe tbody tr th {\n",
       "        vertical-align: top;\n",
       "    }\n",
       "\n",
       "    .dataframe thead th {\n",
       "        text-align: right;\n",
       "    }\n",
       "</style>\n",
       "<table border=\"1\" class=\"dataframe\">\n",
       "  <thead>\n",
       "    <tr style=\"text-align: right;\">\n",
       "      <th></th>\n",
       "      <th>exercise</th>\n",
       "      <th>smoking</th>\n",
       "      <th>alcohol</th>\n",
       "      <th>sugar</th>\n",
       "      <th>lifespan</th>\n",
       "    </tr>\n",
       "  </thead>\n",
       "  <tbody>\n",
       "    <tr>\n",
       "      <th>0</th>\n",
       "      <td>0.9</td>\n",
       "      <td>0.0</td>\n",
       "      <td>2.4</td>\n",
       "      <td>6.9</td>\n",
       "      <td>73.1</td>\n",
       "    </tr>\n",
       "    <tr>\n",
       "      <th>1</th>\n",
       "      <td>1.8</td>\n",
       "      <td>8.1</td>\n",
       "      <td>0.4</td>\n",
       "      <td>4.2</td>\n",
       "      <td>85.0</td>\n",
       "    </tr>\n",
       "    <tr>\n",
       "      <th>2</th>\n",
       "      <td>1.1</td>\n",
       "      <td>0.8</td>\n",
       "      <td>4.6</td>\n",
       "      <td>7.5</td>\n",
       "      <td>81.6</td>\n",
       "    </tr>\n",
       "    <tr>\n",
       "      <th>3</th>\n",
       "      <td>4.7</td>\n",
       "      <td>11.8</td>\n",
       "      <td>1.0</td>\n",
       "      <td>2.9</td>\n",
       "      <td>81.0</td>\n",
       "    </tr>\n",
       "    <tr>\n",
       "      <th>4</th>\n",
       "      <td>1.5</td>\n",
       "      <td>8.3</td>\n",
       "      <td>4.9</td>\n",
       "      <td>5.5</td>\n",
       "      <td>75.0</td>\n",
       "    </tr>\n",
       "  </tbody>\n",
       "</table>\n",
       "</div>"
      ],
      "text/plain": [
       "   exercise  smoking  alcohol  sugar  lifespan\n",
       "0       0.9      0.0      2.4    6.9      73.1\n",
       "1       1.8      8.1      0.4    4.2      85.0\n",
       "2       1.1      0.8      4.6    7.5      81.6\n",
       "3       4.7     11.8      1.0    2.9      81.0\n",
       "4       1.5      8.3      4.9    5.5      75.0"
      ]
     },
     "execution_count": 20,
     "metadata": {},
     "output_type": "execute_result"
    }
   ],
   "source": [
    "\n",
    "lifestyle = pd.read_csv('./data/df_lifestyle.csv')\n",
    "\n",
    "lifestyle.head()"
   ]
  },
  {
   "cell_type": "code",
   "execution_count": 40,
   "id": "77eea2ea-9c0e-4b47-8844-cb3b6fa42566",
   "metadata": {
    "tags": []
   },
   "outputs": [
    {
     "data": {
      "text/html": [
       "<div>\n",
       "<style scoped>\n",
       "    .dataframe tbody tr th:only-of-type {\n",
       "        vertical-align: middle;\n",
       "    }\n",
       "\n",
       "    .dataframe tbody tr th {\n",
       "        vertical-align: top;\n",
       "    }\n",
       "\n",
       "    .dataframe thead th {\n",
       "        text-align: right;\n",
       "    }\n",
       "</style>\n",
       "<table border=\"1\" class=\"dataframe\">\n",
       "  <thead>\n",
       "    <tr style=\"text-align: right;\">\n",
       "      <th></th>\n",
       "      <th>length</th>\n",
       "      <th>mass</th>\n",
       "      <th>exercise</th>\n",
       "      <th>smoking</th>\n",
       "      <th>alcohol</th>\n",
       "      <th>sugar</th>\n",
       "      <th>lifespan</th>\n",
       "    </tr>\n",
       "  </thead>\n",
       "  <tbody>\n",
       "    <tr>\n",
       "      <th>0</th>\n",
       "      <td>185.0</td>\n",
       "      <td>99.7</td>\n",
       "      <td>0.9</td>\n",
       "      <td>0.0</td>\n",
       "      <td>2.4</td>\n",
       "      <td>6.9</td>\n",
       "      <td>73.1</td>\n",
       "    </tr>\n",
       "    <tr>\n",
       "      <th>1</th>\n",
       "      <td>172.0</td>\n",
       "      <td>105.4</td>\n",
       "      <td>1.8</td>\n",
       "      <td>8.1</td>\n",
       "      <td>0.4</td>\n",
       "      <td>4.2</td>\n",
       "      <td>85.0</td>\n",
       "    </tr>\n",
       "    <tr>\n",
       "      <th>2</th>\n",
       "      <td>176.0</td>\n",
       "      <td>111.4</td>\n",
       "      <td>1.1</td>\n",
       "      <td>0.8</td>\n",
       "      <td>4.6</td>\n",
       "      <td>7.5</td>\n",
       "      <td>81.6</td>\n",
       "    </tr>\n",
       "    <tr>\n",
       "      <th>3</th>\n",
       "      <td>164.0</td>\n",
       "      <td>111.4</td>\n",
       "      <td>4.7</td>\n",
       "      <td>11.8</td>\n",
       "      <td>1.0</td>\n",
       "      <td>2.9</td>\n",
       "      <td>81.0</td>\n",
       "    </tr>\n",
       "    <tr>\n",
       "      <th>4</th>\n",
       "      <td>178.0</td>\n",
       "      <td>71.6</td>\n",
       "      <td>1.5</td>\n",
       "      <td>8.3</td>\n",
       "      <td>4.9</td>\n",
       "      <td>5.5</td>\n",
       "      <td>75.0</td>\n",
       "    </tr>\n",
       "  </tbody>\n",
       "</table>\n",
       "</div>"
      ],
      "text/plain": [
       "   length   mass  exercise  smoking  alcohol  sugar  lifespan\n",
       "0   185.0   99.7       0.9      0.0      2.4    6.9      73.1\n",
       "1   172.0  105.4       1.8      8.1      0.4    4.2      85.0\n",
       "2   176.0  111.4       1.1      0.8      4.6    7.5      81.6\n",
       "3   164.0  111.4       4.7     11.8      1.0    2.9      81.0\n",
       "4   178.0   71.6       1.5      8.3      4.9    5.5      75.0"
      ]
     },
     "execution_count": 40,
     "metadata": {},
     "output_type": "execute_result"
    }
   ],
   "source": [
    "ng = pd.read_csv('./data/df_ng.csv')\n",
    "\n",
    "ng.head("
   ]
  },
  {
   "cell_type": "code",
   "execution_count": 21,
   "id": "4aa3c766-4c42-4211-8f6b-64c5427ab6da",
   "metadata": {
    "tags": []
   },
   "outputs": [
    {
     "data": {
      "text/html": [
       "<div>\n",
       "<style scoped>\n",
       "    .dataframe tbody tr th:only-of-type {\n",
       "        vertical-align: middle;\n",
       "    }\n",
       "\n",
       "    .dataframe tbody tr th {\n",
       "        vertical-align: top;\n",
       "    }\n",
       "\n",
       "    .dataframe thead th {\n",
       "        text-align: right;\n",
       "    }\n",
       "</style>\n",
       "<table border=\"1\" class=\"dataframe\">\n",
       "  <thead>\n",
       "    <tr style=\"text-align: right;\">\n",
       "      <th></th>\n",
       "      <th>genetic</th>\n",
       "      <th>exercise</th>\n",
       "      <th>smoking</th>\n",
       "      <th>alcohol</th>\n",
       "      <th>sugar</th>\n",
       "      <th>lifespan</th>\n",
       "      <th>bmi</th>\n",
       "    </tr>\n",
       "  </thead>\n",
       "  <tbody>\n",
       "    <tr>\n",
       "      <th>0</th>\n",
       "      <td>73.9</td>\n",
       "      <td>0.9</td>\n",
       "      <td>0.0</td>\n",
       "      <td>2.4</td>\n",
       "      <td>6.9</td>\n",
       "      <td>73.1</td>\n",
       "      <td>29.130752</td>\n",
       "    </tr>\n",
       "    <tr>\n",
       "      <th>1</th>\n",
       "      <td>86.0</td>\n",
       "      <td>1.8</td>\n",
       "      <td>8.1</td>\n",
       "      <td>0.4</td>\n",
       "      <td>4.2</td>\n",
       "      <td>85.0</td>\n",
       "      <td>35.627366</td>\n",
       "    </tr>\n",
       "    <tr>\n",
       "      <th>2</th>\n",
       "      <td>83.3</td>\n",
       "      <td>1.1</td>\n",
       "      <td>0.8</td>\n",
       "      <td>4.6</td>\n",
       "      <td>7.5</td>\n",
       "      <td>81.6</td>\n",
       "      <td>35.963326</td>\n",
       "    </tr>\n",
       "    <tr>\n",
       "      <th>3</th>\n",
       "      <td>82.8</td>\n",
       "      <td>4.7</td>\n",
       "      <td>11.8</td>\n",
       "      <td>1.0</td>\n",
       "      <td>2.9</td>\n",
       "      <td>81.0</td>\n",
       "      <td>41.418798</td>\n",
       "    </tr>\n",
       "    <tr>\n",
       "      <th>4</th>\n",
       "      <td>78.7</td>\n",
       "      <td>1.5</td>\n",
       "      <td>8.3</td>\n",
       "      <td>4.9</td>\n",
       "      <td>5.5</td>\n",
       "      <td>75.0</td>\n",
       "      <td>22.598157</td>\n",
       "    </tr>\n",
       "  </tbody>\n",
       "</table>\n",
       "</div>"
      ],
      "text/plain": [
       "   genetic  exercise  smoking  alcohol  sugar  lifespan        bmi\n",
       "0     73.9       0.9      0.0      2.4    6.9      73.1  29.130752\n",
       "1     86.0       1.8      8.1      0.4    4.2      85.0  35.627366\n",
       "2     83.3       1.1      0.8      4.6    7.5      81.6  35.963326\n",
       "3     82.8       4.7     11.8      1.0    2.9      81.0  41.418798\n",
       "4     78.7       1.5      8.3      4.9    5.5      75.0  22.598157"
      ]
     },
     "execution_count": 21,
     "metadata": {},
     "output_type": "execute_result"
    }
   ],
   "source": [
    "bmi = pd.read_csv('./data/df_bmi.csv')\n",
    "\n",
    "bmi.head()\n"
   ]
  },
  {
   "cell_type": "code",
   "execution_count": 22,
   "id": "d4664d15-a16d-48ba-853d-039d33662c89",
   "metadata": {
    "tags": []
   },
   "outputs": [
    {
     "data": {
      "text/html": [
       "<div>\n",
       "<style scoped>\n",
       "    .dataframe tbody tr th:only-of-type {\n",
       "        vertical-align: middle;\n",
       "    }\n",
       "\n",
       "    .dataframe tbody tr th {\n",
       "        vertical-align: top;\n",
       "    }\n",
       "\n",
       "    .dataframe thead th {\n",
       "        text-align: right;\n",
       "    }\n",
       "</style>\n",
       "<table border=\"1\" class=\"dataframe\">\n",
       "  <thead>\n",
       "    <tr style=\"text-align: right;\">\n",
       "      <th></th>\n",
       "      <th>genetic</th>\n",
       "      <th>exercise</th>\n",
       "      <th>smoking</th>\n",
       "      <th>alcohol</th>\n",
       "      <th>sugar</th>\n",
       "      <th>lifespan</th>\n",
       "      <th>bmi</th>\n",
       "    </tr>\n",
       "  </thead>\n",
       "  <tbody>\n",
       "    <tr>\n",
       "      <th>4081</th>\n",
       "      <td>80.3</td>\n",
       "      <td>3.7</td>\n",
       "      <td>0.1</td>\n",
       "      <td>5.6</td>\n",
       "      <td>5.8</td>\n",
       "      <td>80.7</td>\n",
       "      <td>37.416064</td>\n",
       "    </tr>\n",
       "    <tr>\n",
       "      <th>4082</th>\n",
       "      <td>75.3</td>\n",
       "      <td>3.6</td>\n",
       "      <td>6.2</td>\n",
       "      <td>5.6</td>\n",
       "      <td>7.6</td>\n",
       "      <td>71.1</td>\n",
       "      <td>49.382716</td>\n",
       "    </tr>\n",
       "    <tr>\n",
       "      <th>4083</th>\n",
       "      <td>93.1</td>\n",
       "      <td>2.7</td>\n",
       "      <td>9.4</td>\n",
       "      <td>4.9</td>\n",
       "      <td>6.6</td>\n",
       "      <td>90.0</td>\n",
       "      <td>32.277932</td>\n",
       "    </tr>\n",
       "    <tr>\n",
       "      <th>4084</th>\n",
       "      <td>77.9</td>\n",
       "      <td>2.3</td>\n",
       "      <td>13.2</td>\n",
       "      <td>0.8</td>\n",
       "      <td>6.2</td>\n",
       "      <td>75.9</td>\n",
       "      <td>31.418685</td>\n",
       "    </tr>\n",
       "    <tr>\n",
       "      <th>4085</th>\n",
       "      <td>101.3</td>\n",
       "      <td>1.2</td>\n",
       "      <td>8.2</td>\n",
       "      <td>6.0</td>\n",
       "      <td>6.2</td>\n",
       "      <td>96.9</td>\n",
       "      <td>36.555002</td>\n",
       "    </tr>\n",
       "  </tbody>\n",
       "</table>\n",
       "</div>"
      ],
      "text/plain": [
       "      genetic  exercise  smoking  alcohol  sugar  lifespan        bmi\n",
       "4081     80.3       3.7      0.1      5.6    5.8      80.7  37.416064\n",
       "4082     75.3       3.6      6.2      5.6    7.6      71.1  49.382716\n",
       "4083     93.1       2.7      9.4      4.9    6.6      90.0  32.277932\n",
       "4084     77.9       2.3     13.2      0.8    6.2      75.9  31.418685\n",
       "4085    101.3       1.2      8.2      6.0    6.2      96.9  36.555002"
      ]
     },
     "execution_count": 22,
     "metadata": {},
     "output_type": "execute_result"
    }
   ],
   "source": [
    "bmi.tail()"
   ]
  },
  {
   "cell_type": "code",
   "execution_count": 23,
   "id": "285b0f6f-9e7b-4c3f-8adb-5a1860e5c44d",
   "metadata": {
    "tags": []
   },
   "outputs": [],
   "source": [
    "# Creating train and test sets"
   ]
  },
  {
   "cell_type": "code",
   "execution_count": 24,
   "id": "035574b8-d41d-426a-8fcf-70572d4e4e45",
   "metadata": {
    "tags": []
   },
   "outputs": [
    {
     "data": {
      "text/plain": [
       "4086"
      ]
     },
     "metadata": {},
     "output_type": "display_data"
    },
    {
     "data": {
      "text/html": [
       "<div>\n",
       "<style scoped>\n",
       "    .dataframe tbody tr th:only-of-type {\n",
       "        vertical-align: middle;\n",
       "    }\n",
       "\n",
       "    .dataframe tbody tr th {\n",
       "        vertical-align: top;\n",
       "    }\n",
       "\n",
       "    .dataframe thead th {\n",
       "        text-align: right;\n",
       "    }\n",
       "</style>\n",
       "<table border=\"1\" class=\"dataframe\">\n",
       "  <thead>\n",
       "    <tr style=\"text-align: right;\">\n",
       "      <th></th>\n",
       "      <th>lifespan</th>\n",
       "    </tr>\n",
       "  </thead>\n",
       "  <tbody>\n",
       "    <tr>\n",
       "      <th>0</th>\n",
       "      <td>73.1</td>\n",
       "    </tr>\n",
       "    <tr>\n",
       "      <th>1</th>\n",
       "      <td>85.0</td>\n",
       "    </tr>\n",
       "    <tr>\n",
       "      <th>2</th>\n",
       "      <td>81.6</td>\n",
       "    </tr>\n",
       "    <tr>\n",
       "      <th>3</th>\n",
       "      <td>81.0</td>\n",
       "    </tr>\n",
       "    <tr>\n",
       "      <th>4</th>\n",
       "      <td>75.0</td>\n",
       "    </tr>\n",
       "  </tbody>\n",
       "</table>\n",
       "</div>"
      ],
      "text/plain": [
       "   lifespan\n",
       "0      73.1\n",
       "1      85.0\n",
       "2      81.6\n",
       "3      81.0\n",
       "4      75.0"
      ]
     },
     "execution_count": 24,
     "metadata": {},
     "output_type": "execute_result"
    }
   ],
   "source": [
    "x = bmi[['genetic','exercise','smoking','alcohol','sugar','bmi']]\n",
    "n_samples = x.shape[0]\n",
    "y = bmi[['lifespan']]\n",
    "\n",
    "x_train, x_test, y_train, y_test = train_test_split(x, y, test_size= 0.3, random_state = 42)\n",
    "\n",
    "display(n_samples)\n",
    "x.head()\n",
    "y.head()"
   ]
  },
  {
   "cell_type": "code",
   "execution_count": 41,
   "id": "26bc390d-44b9-4fa2-be80-6d8929ae5b0d",
   "metadata": {
    "tags": []
   },
   "outputs": [
    {
     "data": {
      "text/plain": [
       "4086"
      ]
     },
     "metadata": {},
     "output_type": "display_data"
    },
    {
     "data": {
      "text/html": [
       "<div>\n",
       "<style scoped>\n",
       "    .dataframe tbody tr th:only-of-type {\n",
       "        vertical-align: middle;\n",
       "    }\n",
       "\n",
       "    .dataframe tbody tr th {\n",
       "        vertical-align: top;\n",
       "    }\n",
       "\n",
       "    .dataframe thead th {\n",
       "        text-align: right;\n",
       "    }\n",
       "</style>\n",
       "<table border=\"1\" class=\"dataframe\">\n",
       "  <thead>\n",
       "    <tr style=\"text-align: right;\">\n",
       "      <th></th>\n",
       "      <th>lifespan</th>\n",
       "    </tr>\n",
       "  </thead>\n",
       "  <tbody>\n",
       "    <tr>\n",
       "      <th>0</th>\n",
       "      <td>73.1</td>\n",
       "    </tr>\n",
       "    <tr>\n",
       "      <th>1</th>\n",
       "      <td>85.0</td>\n",
       "    </tr>\n",
       "    <tr>\n",
       "      <th>2</th>\n",
       "      <td>81.6</td>\n",
       "    </tr>\n",
       "    <tr>\n",
       "      <th>3</th>\n",
       "      <td>81.0</td>\n",
       "    </tr>\n",
       "    <tr>\n",
       "      <th>4</th>\n",
       "      <td>75.0</td>\n",
       "    </tr>\n",
       "  </tbody>\n",
       "</table>\n",
       "</div>"
      ],
      "text/plain": [
       "   lifespan\n",
       "0      73.1\n",
       "1      85.0\n",
       "2      81.6\n",
       "3      81.0\n",
       "4      75.0"
      ]
     },
     "execution_count": 41,
     "metadata": {},
     "output_type": "execute_result"
    }
   ],
   "source": [
    "x1 = lifestyle[['exercise','smoking','alcohol','sugar']]\n",
    "n1_samples = x.shape[0]\n",
    "y1 = bmi[['lifespan']]\n",
    "\n",
    "x1_train, x1_test, y1_train, y1_test = train_test_split(x1, y1, test_size= 0.3, random_state = 42)\n",
    "\n",
    "display(n1_samples)\n",
    "x.head()\n",
    "y.head()"
   ]
  },
  {
   "cell_type": "code",
   "execution_count": 45,
   "id": "996bb4d4-df28-4110-9ff6-c606506fad39",
   "metadata": {
    "tags": []
   },
   "outputs": [
    {
     "data": {
      "text/plain": [
       "4086"
      ]
     },
     "metadata": {},
     "output_type": "display_data"
    },
    {
     "data": {
      "text/html": [
       "<div>\n",
       "<style scoped>\n",
       "    .dataframe tbody tr th:only-of-type {\n",
       "        vertical-align: middle;\n",
       "    }\n",
       "\n",
       "    .dataframe tbody tr th {\n",
       "        vertical-align: top;\n",
       "    }\n",
       "\n",
       "    .dataframe thead th {\n",
       "        text-align: right;\n",
       "    }\n",
       "</style>\n",
       "<table border=\"1\" class=\"dataframe\">\n",
       "  <thead>\n",
       "    <tr style=\"text-align: right;\">\n",
       "      <th></th>\n",
       "      <th>lifespan</th>\n",
       "    </tr>\n",
       "  </thead>\n",
       "  <tbody>\n",
       "    <tr>\n",
       "      <th>0</th>\n",
       "      <td>73.1</td>\n",
       "    </tr>\n",
       "    <tr>\n",
       "      <th>1</th>\n",
       "      <td>85.0</td>\n",
       "    </tr>\n",
       "    <tr>\n",
       "      <th>2</th>\n",
       "      <td>81.6</td>\n",
       "    </tr>\n",
       "    <tr>\n",
       "      <th>3</th>\n",
       "      <td>81.0</td>\n",
       "    </tr>\n",
       "    <tr>\n",
       "      <th>4</th>\n",
       "      <td>75.0</td>\n",
       "    </tr>\n",
       "  </tbody>\n",
       "</table>\n",
       "</div>"
      ],
      "text/plain": [
       "   lifespan\n",
       "0      73.1\n",
       "1      85.0\n",
       "2      81.6\n",
       "3      81.0\n",
       "4      75.0"
      ]
     },
     "execution_count": 45,
     "metadata": {},
     "output_type": "execute_result"
    }
   ],
   "source": [
    "x2 = ng[['length','mass','exercise','smoking','alcohol','sugar']]\n",
    "n2_samples = x2.shape[0]\n",
    "y2 = bmi[['lifespan']]\n",
    "\n",
    "x2_train, x2_test, y2_train, y2_test = train_test_split(x2, y2, test_size= 0.3, random_state = 42)\n",
    "\n",
    "display(n_samples)\n",
    "x2.head()\n",
    "y2.head()"
   ]
  },
  {
   "cell_type": "code",
   "execution_count": 46,
   "id": "c8397b11-329c-4f3f-92b7-d380d10aa80f",
   "metadata": {
    "tags": []
   },
   "outputs": [],
   "source": [
    "# Creating a regression model\n",
    "\n",
    "model = LinearRegression()"
   ]
  },
  {
   "cell_type": "code",
   "execution_count": 47,
   "id": "9853d99f-a10c-4799-909c-91886d76ca6d",
   "metadata": {
    "tags": []
   },
   "outputs": [],
   "source": [
    "# Fit the model with training"
   ]
  },
  {
   "cell_type": "code",
   "execution_count": 48,
   "id": "82bd43cb-dc98-4b5a-a547-9c5e404183dd",
   "metadata": {
    "tags": []
   },
   "outputs": [
    {
     "data": {
      "text/html": [
       "<style>#sk-container-id-4 {color: black;background-color: white;}#sk-container-id-4 pre{padding: 0;}#sk-container-id-4 div.sk-toggleable {background-color: white;}#sk-container-id-4 label.sk-toggleable__label {cursor: pointer;display: block;width: 100%;margin-bottom: 0;padding: 0.3em;box-sizing: border-box;text-align: center;}#sk-container-id-4 label.sk-toggleable__label-arrow:before {content: \"▸\";float: left;margin-right: 0.25em;color: #696969;}#sk-container-id-4 label.sk-toggleable__label-arrow:hover:before {color: black;}#sk-container-id-4 div.sk-estimator:hover label.sk-toggleable__label-arrow:before {color: black;}#sk-container-id-4 div.sk-toggleable__content {max-height: 0;max-width: 0;overflow: hidden;text-align: left;background-color: #f0f8ff;}#sk-container-id-4 div.sk-toggleable__content pre {margin: 0.2em;color: black;border-radius: 0.25em;background-color: #f0f8ff;}#sk-container-id-4 input.sk-toggleable__control:checked~div.sk-toggleable__content {max-height: 200px;max-width: 100%;overflow: auto;}#sk-container-id-4 input.sk-toggleable__control:checked~label.sk-toggleable__label-arrow:before {content: \"▾\";}#sk-container-id-4 div.sk-estimator input.sk-toggleable__control:checked~label.sk-toggleable__label {background-color: #d4ebff;}#sk-container-id-4 div.sk-label input.sk-toggleable__control:checked~label.sk-toggleable__label {background-color: #d4ebff;}#sk-container-id-4 input.sk-hidden--visually {border: 0;clip: rect(1px 1px 1px 1px);clip: rect(1px, 1px, 1px, 1px);height: 1px;margin: -1px;overflow: hidden;padding: 0;position: absolute;width: 1px;}#sk-container-id-4 div.sk-estimator {font-family: monospace;background-color: #f0f8ff;border: 1px dotted black;border-radius: 0.25em;box-sizing: border-box;margin-bottom: 0.5em;}#sk-container-id-4 div.sk-estimator:hover {background-color: #d4ebff;}#sk-container-id-4 div.sk-parallel-item::after {content: \"\";width: 100%;border-bottom: 1px solid gray;flex-grow: 1;}#sk-container-id-4 div.sk-label:hover label.sk-toggleable__label {background-color: #d4ebff;}#sk-container-id-4 div.sk-serial::before {content: \"\";position: absolute;border-left: 1px solid gray;box-sizing: border-box;top: 0;bottom: 0;left: 50%;z-index: 0;}#sk-container-id-4 div.sk-serial {display: flex;flex-direction: column;align-items: center;background-color: white;padding-right: 0.2em;padding-left: 0.2em;position: relative;}#sk-container-id-4 div.sk-item {position: relative;z-index: 1;}#sk-container-id-4 div.sk-parallel {display: flex;align-items: stretch;justify-content: center;background-color: white;position: relative;}#sk-container-id-4 div.sk-item::before, #sk-container-id-4 div.sk-parallel-item::before {content: \"\";position: absolute;border-left: 1px solid gray;box-sizing: border-box;top: 0;bottom: 0;left: 50%;z-index: -1;}#sk-container-id-4 div.sk-parallel-item {display: flex;flex-direction: column;z-index: 1;position: relative;background-color: white;}#sk-container-id-4 div.sk-parallel-item:first-child::after {align-self: flex-end;width: 50%;}#sk-container-id-4 div.sk-parallel-item:last-child::after {align-self: flex-start;width: 50%;}#sk-container-id-4 div.sk-parallel-item:only-child::after {width: 0;}#sk-container-id-4 div.sk-dashed-wrapped {border: 1px dashed gray;margin: 0 0.4em 0.5em 0.4em;box-sizing: border-box;padding-bottom: 0.4em;background-color: white;}#sk-container-id-4 div.sk-label label {font-family: monospace;font-weight: bold;display: inline-block;line-height: 1.2em;}#sk-container-id-4 div.sk-label-container {text-align: center;}#sk-container-id-4 div.sk-container {/* jupyter's `normalize.less` sets `[hidden] { display: none; }` but bootstrap.min.css set `[hidden] { display: none !important; }` so we also need the `!important` here to be able to override the default hidden behavior on the sphinx rendered scikit-learn.org. See: https://github.com/scikit-learn/scikit-learn/issues/21755 */display: inline-block !important;position: relative;}#sk-container-id-4 div.sk-text-repr-fallback {display: none;}</style><div id=\"sk-container-id-4\" class=\"sk-top-container\"><div class=\"sk-text-repr-fallback\"><pre>LinearRegression()</pre><b>In a Jupyter environment, please rerun this cell to show the HTML representation or trust the notebook. <br />On GitHub, the HTML representation is unable to render, please try loading this page with nbviewer.org.</b></div><div class=\"sk-container\" hidden><div class=\"sk-item\"><div class=\"sk-estimator sk-toggleable\"><input class=\"sk-toggleable__control sk-hidden--visually\" id=\"sk-estimator-id-4\" type=\"checkbox\" checked><label for=\"sk-estimator-id-4\" class=\"sk-toggleable__label sk-toggleable__label-arrow\">LinearRegression</label><div class=\"sk-toggleable__content\"><pre>LinearRegression()</pre></div></div></div></div></div>"
      ],
      "text/plain": [
       "LinearRegression()"
      ]
     },
     "execution_count": 48,
     "metadata": {},
     "output_type": "execute_result"
    }
   ],
   "source": [
    "model.fit(x_train,y_train)"
   ]
  },
  {
   "cell_type": "code",
   "execution_count": 49,
   "id": "bd79d866-4b9e-4747-9ab8-3615ec44b059",
   "metadata": {
    "tags": []
   },
   "outputs": [
    {
     "data": {
      "text/plain": [
       "array([[78.66685184],\n",
       "       [67.96534074],\n",
       "       [87.68937681],\n",
       "       ...,\n",
       "       [79.14496249],\n",
       "       [68.92817118],\n",
       "       [75.89440913]])"
      ]
     },
     "metadata": {},
     "output_type": "display_data"
    }
   ],
   "source": [
    "# Make predictions\n",
    "\n",
    "predictions = model.predict(x_test)\n",
    "\n",
    "display(predictions)"
   ]
  },
  {
   "cell_type": "code",
   "execution_count": 50,
   "id": "cd2ecba3-4a58-4cd9-a4fc-245d152f5cf6",
   "metadata": {
    "tags": []
   },
   "outputs": [
    {
     "name": "stdout",
     "output_type": "stream",
     "text": [
      "mean_squared_error :  6.693212594542584\n",
      "mean_absolute_error :  0.8749815106030503\n"
     ]
    }
   ],
   "source": [
    "# x berekenen\n",
    "print(\n",
    "  'mean_squared_error : ', mean_squared_error(y_test, predictions))\n",
    "print(\n",
    "  'mean_absolute_error : ', mean_absolute_error(y_test, predictions))"
   ]
  },
  {
   "cell_type": "code",
   "execution_count": 53,
   "id": "d0ed5ff2-a340-4992-80b8-e5d6b82a97f6",
   "metadata": {
    "tags": []
   },
   "outputs": [
    {
     "name": "stdout",
     "output_type": "stream",
     "text": [
      "[('genetic', array([ 1.00097045,  0.77769851, -0.26863618, -0.19752552, -0.0544587 ,\n",
      "       -0.07155026]))]\n"
     ]
    }
   ],
   "source": [
    "coefs = list(zip(x.columns, model.coef_))\n",
    "print(coefs)"
   ]
  },
  {
   "cell_type": "code",
   "execution_count": 54,
   "id": "5c057ba5-fbca-47f6-bdc3-587a03687a31",
   "metadata": {
    "tags": []
   },
   "outputs": [
    {
     "data": {
      "text/plain": [
       "0.9036393025342597"
      ]
     },
     "execution_count": 54,
     "metadata": {},
     "output_type": "execute_result"
    }
   ],
   "source": [
    "r2_score(y_test, predictions)"
   ]
  },
  {
   "cell_type": "markdown",
   "id": "2ba33f0f-8403-472e-af64-669440a8ce0f",
   "metadata": {},
   "source": [
    "## Intercept"
   ]
  },
  {
   "cell_type": "code",
   "execution_count": null,
   "id": "a79d243a-5f2f-4607-b882-6145ab0f2a5f",
   "metadata": {
    "tags": []
   },
   "outputs": [],
   "source": [
    "b1 = model.intercept_\n",
    "display(b)\n"
   ]
  },
  {
   "cell_type": "code",
   "execution_count": null,
   "id": "7f67d2a6-ee3d-426a-b06b-9f392159ef47",
   "metadata": {
    "tags": []
   },
   "outputs": [],
   "source": [
    "# interesting: "
   ]
  },
  {
   "cell_type": "code",
   "execution_count": null,
   "id": "516ad2a7-e9b3-4c81-b28c-3d989cf65498",
   "metadata": {
    "tags": []
   },
   "outputs": [],
   "source": [
    "# Verbeterpunten\n",
    "# 1. BMI indexeren als een a laatste kolom in analyse"
   ]
  },
  {
   "cell_type": "code",
   "execution_count": null,
   "id": "e858ef27-f19a-4fda-8168-3c18f6238937",
   "metadata": {
    "tags": []
   },
   "outputs": [],
   "source": [
    "# Creating lineair regression class object\n",
    "\n",
    "m = linear_model.LinearRegression()\n",
    "# reg.fit(x,y). Dus bij x alle onafhankelijke variabelen en bij y de afhankelijke variabelen.\n",
    "m.fit(bmi[['genetic','exercise','smoking','alcohol','sugar','bmi']], bmi.lifespan) # bij fit vul je de onafhankelijke variabelen in"
   ]
  },
  {
   "cell_type": "code",
   "execution_count": null,
   "id": "3e062e4e-297a-403e-9bea-f6eab3d7049e",
   "metadata": {
    "tags": []
   },
   "outputs": [],
   "source": [
    "# Wat zijn de m-waarden/coefficienten?\n",
    "\n",
    "m.coef_"
   ]
  },
  {
   "cell_type": "code",
   "execution_count": null,
   "id": "62ab7400-6c65-4271-af88-d50c6f263a31",
   "metadata": {
    "tags": []
   },
   "outputs": [],
   "source": [
    "# intercept\n",
    "\n",
    "b2 = m.intercept_\n",
    "\n",
    "print(b2)"
   ]
  },
  {
   "cell_type": "code",
   "execution_count": null,
   "id": "45aca60b-999a-4a96-aff0-ab6f97a5140f",
   "metadata": {
    "tags": []
   },
   "outputs": [],
   "source": [
    "reg.predict([[73.9, 0.9, 0.0, 2.4, 6.9, 29.13]])"
   ]
  },
  {
   "cell_type": "code",
   "execution_count": null,
   "id": "3752acee-6e41-409d-8707-6373529f079a",
   "metadata": {
    "tags": []
   },
   "outputs": [],
   "source": [
    "0.99967882 * 73.9 +  0.81292276 * 0.9 + 0.27144087 * 0 + -0.19925092 * 2.4 + -0.04837325 * 6.9 + -0.07649345 * 29.13 + 1.4769415857268626"
   ]
  },
  {
   "cell_type": "code",
   "execution_count": null,
   "id": "95824499-a8b1-48c6-9c8e-79cd37d938a4",
   "metadata": {
    "tags": []
   },
   "outputs": [],
   "source": [
    "73.04460503622687 / 73.04460522 * 100"
   ]
  },
  {
   "cell_type": "code",
   "execution_count": null,
   "id": "0934f42d-2402-47aa-8c69-6f79d22893e9",
   "metadata": {
    "tags": []
   },
   "outputs": [],
   "source": [
    "# Tips\n",
    "# Bloeddruk"
   ]
  },
  {
   "cell_type": "code",
   "execution_count": null,
   "id": "1c302716-fd53-4cad-bae3-72f1f7ebd177",
   "metadata": {},
   "outputs": [],
   "source": [
    "def determineLifespan():\n",
    "    \n",
    "    genetic = f'{gen_coef} * {input()}'\n",
    "    exercise = f'{exe_coef} * {input()}'\n",
    "    smoking = f'{smo_coef} * {input()}'\n",
    "    alcohol = f'{alc_coef} * {input()}'\n",
    "    sugar = f'{sug_coef} * {input()}'\n",
    "    bmi = f'{bmi_coef} * {input()}'\n",
    "    b = reg.intercept_\n",
    "    lifespan = \n",
    "    print(f'Lifespan"
   ]
  },
  {
   "cell_type": "code",
   "execution_count": null,
   "id": "f9436bb3-5f68-431a-8a32-154ee8dd2523",
   "metadata": {
    "tags": []
   },
   "outputs": [],
   "source": [
    "genetic = f'{input()} * 0.99967882'\n"
   ]
  },
  {
   "cell_type": "code",
   "execution_count": null,
   "id": "e9a83a27-5eb7-4dd2-85f6-3d69e3888fc8",
   "metadata": {
    "tags": []
   },
   "outputs": [],
   "source": [
    "gen_coef = 0.99967882\n",
    "exe_coef = 0.81292276\n",
    "smo_coef = -0.27144087\n",
    "alc_coef = -0.19925092\n",
    "sug_coef = -0.04837325\n",
    "bmi_coef = -0.07649345\n"
   ]
  },
  {
   "cell_type": "code",
   "execution_count": null,
   "id": "383ce375-ccda-42be-a2d2-94a68115a292",
   "metadata": {},
   "outputs": [],
   "source": [
    "def determineLifespan(): \n",
    "    \n",
    "genetic = f'{gen_coef} * {input()}'\n",
    "exercise = f'{exe_coef} * {input()}'\n",
    "smoking = f'{smo_coef} * {input()}'\n",
    "alcohol = f'{alc_coef} * {input()}'\n",
    "sugar = f'{sug_coef} * {input()}'\n",
    "bmi = f'{bmi_coef} * {input()}'"
   ]
  },
  {
   "cell_type": "code",
   "execution_count": null,
   "id": "0b8f0716-e59c-41a3-8109-35787928f9da",
   "metadata": {},
   "outputs": [],
   "source": [
    "def determineLifespan(genetic, exercise, smoking, alcohol, sugar, bmi):\n",
    "    \n",
    "    genetic = f'{gen_coef} * {input()}'\n",
    "    exercise = f'{exe_coef} * {input()}'\n",
    "    smoking = f'{smo_coef} * {input()}'\n",
    "    alcohol = f'{alc_coef} * {input()}'\n",
    "    sugar = f'{sug_coef} * {input()}'\n",
    "    bmi = f'{bmi_coef} * {input()}'\n",
    "    b = reg.intercept_\n",
    "    lifespan = genetic + exercise + smoking + alcohol + sugar + bmi + b\n",
    "    \n",
    "    return determineLifespan\n"
   ]
  },
  {
   "cell_type": "code",
   "execution_count": null,
   "id": "04ae9827-6864-4e32-a9ff-e58f6e51b937",
   "metadata": {
    "tags": []
   },
   "outputs": [],
   "source": [
    "def determineLifespan(genetic, exercise, smoking, alcohol, sugar, bmi):\n",
    "    \n",
    "    genetic *= gen_coef\n",
    "    exercise *= exe_coef\n",
    "    smoking *= smo_coef\n",
    "    alcohol *= alc_coef\n",
    "    sugar *= sug_coef\n",
    "    bmi *= bmi_coef\n",
    "    b = 1.4769415857268626\n",
    "    lifespan = genetic + exercise + smoking + alcohol + sugar + bmi + b\n",
    "    \n",
    "    return lifespan\n",
    "\n",
    "determineLifespan(73.9, 0.9, 0, 2.4, 6.9, 29)"
   ]
  },
  {
   "cell_type": "code",
   "execution_count": null,
   "id": "58318244-dabb-4fe1-858e-10c28b7ecb80",
   "metadata": {
    "tags": []
   },
   "outputs": [],
   "source": [
    "def determineLifespan(genetic, exercise, smoking, alcohol, sugar, bmi):\n",
    "    \n",
    "    genetic *= gen_coef\n",
    "    pass"
   ]
  },
  {
   "cell_type": "code",
   "execution_count": 55,
   "id": "9d6e974f-a782-428c-9c09-a445fdba37ec",
   "metadata": {},
   "outputs": [],
   "source": [
    "# Lifestyle en genetic geeft 90% R2 waarde\n",
    "# bmi geeft 99% r2 waarde\n",
    "\n",
    "#  Conclusie genetic is leidend voor het bepalen van de lifespan op basis van deze data. Genetic age een moeilijke waarde om in te vullen en maakt het hoogdrempeliger. Impact lijkt lager. "
   ]
  },
  {
   "cell_type": "code",
   "execution_count": null,
   "id": "83723c1f-c83d-499a-9502-cd032bbde28f",
   "metadata": {},
   "outputs": [],
   "source": []
  }
 ],
 "metadata": {
  "kernelspec": {
   "display_name": "Python 3 (ipykernel)",
   "language": "python",
   "name": "python3"
  },
  "language_info": {
   "codemirror_mode": {
    "name": "ipython",
    "version": 3
   },
   "file_extension": ".py",
   "mimetype": "text/x-python",
   "name": "python",
   "nbconvert_exporter": "python",
   "pygments_lexer": "ipython3",
   "version": "3.11.1"
  }
 },
 "nbformat": 4,
 "nbformat_minor": 5
}
