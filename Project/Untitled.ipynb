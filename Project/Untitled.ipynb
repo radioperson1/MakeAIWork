{
 "cells": [
  {
   "cell_type": "code",
   "execution_count": 1,
   "id": "ab435086-e335-41c1-9e07-b7b570c916ac",
   "metadata": {
    "tags": []
   },
   "outputs": [],
   "source": [
    "## Dinsdag 07/03/2023 EDA\n",
    "# Theorie: \n",
    "# Toepassing: "
   ]
  },
  {
   "cell_type": "code",
   "execution_count": 12,
   "id": "8dceae9a-a1a7-4225-b0e4-6a99098aa0f6",
   "metadata": {
    "tags": []
   },
   "outputs": [],
   "source": [
    "### Dinsdag 07/03/2023"
   ]
  },
  {
   "cell_type": "code",
   "execution_count": null,
   "id": "29526e84-ffd0-4b5b-878f-f8201c3729df",
   "metadata": {},
   "outputs": [],
   "source": [
    "# Healthcare Lifespan Exploratory Data Analysis\n",
    "\n",
    "# TO - tlk about EDA\n",
    "# TO DO - talk about dataset (source, what it contains, how it will be usefull)\n",
    "    # - vvMedisch centrum Randstad\n",
    "    # - Information about lifespan\n",
    "    # - Can be useful for doctors to support there advice regarding the patient"
   ]
  },
  {
   "cell_type": "code",
   "execution_count": null,
   "id": "29b202bd-ef7d-46d9-804e-2609758e1ea5",
   "metadata": {},
   "outputs": [],
   "source": [
    "## Stap 1 Data download"
   ]
  },
  {
   "cell_type": "code",
   "execution_count": 4,
   "id": "5d4910d7-24a3-41fc-ac15-c18aa0c3bc02",
   "metadata": {
    "tags": []
   },
   "outputs": [],
   "source": [
    "# import csv library\n",
    "\n",
    "import csv"
   ]
  },
  {
   "cell_type": "code",
   "execution_count": 7,
   "id": "adf111fb-b9a0-481d-a3c9-6be9e494fd64",
   "metadata": {
    "tags": []
   },
   "outputs": [
    {
     "name": "stdout",
     "output_type": "stream",
     "text": [
      "<_io.TextIOWrapper name='./data/data_dinsdag.csv' mode='r' encoding='cp1252'>\n"
     ]
    }
   ],
   "source": [
    "# open csv file\n",
    "file = open('./data/data_dinsdag.csv')\n",
    "print(file)"
   ]
  },
  {
   "cell_type": "code",
   "execution_count": 9,
   "id": "ed354b8c-ac49-4f0a-8f34-8fe341f38381",
   "metadata": {
    "tags": []
   },
   "outputs": [
    {
     "name": "stdout",
     "output_type": "stream",
     "text": [
      "<_csv.reader object at 0x0000021842E4A680>\n"
     ]
    }
   ],
   "source": [
    "# use csv reader object to read csv file\n",
    "file1 = csv.reader(file)\n",
    "print(file1)"
   ]
  },
  {
   "cell_type": "code",
   "execution_count": 10,
   "id": "ce36ead3-8b38-4052-a67e-984a2ca77c39",
   "metadata": {
    "tags": []
   },
   "outputs": [
    {
     "data": {
      "text/plain": [
       "['genetic',\n",
       " 'length',\n",
       " 'mass',\n",
       " 'exercise',\n",
       " 'smoking',\n",
       " 'alcohol',\n",
       " 'sugar',\n",
       " 'lifespan']"
      ]
     },
     "execution_count": 10,
     "metadata": {},
     "output_type": "execute_result"
    }
   ],
   "source": [
    "# extract field names\n",
    "\n",
    "header = []\n",
    "header = next(file1)\n",
    "header"
   ]
  },
  {
   "cell_type": "code",
   "execution_count": null,
   "id": "70e67695-c4e3-4b07-ac73-0b2719cb241a",
   "metadata": {
    "tags": []
   },
   "outputs": [],
   "source": [
    "# Extract the rows/records\n",
    "\n",
    "rows = []\n",
    "for row in file1:\n",
    "    rows.append(row)\n",
    "rows"
   ]
  },
  {
   "cell_type": "code",
   "execution_count": null,
   "id": "8781e5ff-7e85-49f1-8b2e-c5b67e2d51d3",
   "metadata": {},
   "outputs": [],
   "source": [
    "## Stap 2 Data preparation and cleaning "
   ]
  },
  {
   "cell_type": "code",
   "execution_count": null,
   "id": "02089dcd-1557-4119-b2ec-45acb9d63200",
   "metadata": {},
   "outputs": [],
   "source": []
  },
  {
   "cell_type": "code",
   "execution_count": null,
   "id": "0c3c7a46-aa25-4517-881a-4de366696d6a",
   "metadata": {},
   "outputs": [],
   "source": []
  },
  {
   "cell_type": "code",
   "execution_count": null,
   "id": "a35b3560-7044-4fdb-9299-e64f84d829b5",
   "metadata": {},
   "outputs": [],
   "source": [
    "## Stap 3 Exploratary analysis and Visualization"
   ]
  },
  {
   "cell_type": "code",
   "execution_count": null,
   "id": "da36d27e-ce0f-49a8-9354-e0654c9e91e7",
   "metadata": {},
   "outputs": [],
   "source": []
  },
  {
   "cell_type": "code",
   "execution_count": null,
   "id": "2106f1ba-0f7d-4b2c-ae5a-9fa4c3c48b0a",
   "metadata": {},
   "outputs": [],
   "source": []
  },
  {
   "cell_type": "code",
   "execution_count": null,
   "id": "2f1aa918-0bd2-43de-9df8-a065864bcec9",
   "metadata": {},
   "outputs": [],
   "source": []
  },
  {
   "cell_type": "code",
   "execution_count": null,
   "id": "4841ecdc-dd84-4cff-bd81-fa7494075b5d",
   "metadata": {},
   "outputs": [],
   "source": [
    "## Stap 4 Ask & Answer questions"
   ]
  },
  {
   "cell_type": "code",
   "execution_count": null,
   "id": "2f84340e-ccbd-4768-8e3b-576d14567377",
   "metadata": {},
   "outputs": [],
   "source": []
  },
  {
   "cell_type": "code",
   "execution_count": null,
   "id": "030fa323-c492-45bd-8894-417912510648",
   "metadata": {},
   "outputs": [],
   "source": []
  },
  {
   "cell_type": "code",
   "execution_count": null,
   "id": "e6c2582c-c99e-4e6c-bd1c-a856372a39db",
   "metadata": {},
   "outputs": [],
   "source": []
  },
  {
   "cell_type": "code",
   "execution_count": null,
   "id": "c819d86b-ee9f-4806-91fd-a83fdeaad968",
   "metadata": {},
   "outputs": [],
   "source": [
    "## Summary & Conclusion"
   ]
  },
  {
   "cell_type": "code",
   "execution_count": null,
   "id": "4e0e3873-a3c4-44e8-bc32-b46431011cca",
   "metadata": {},
   "outputs": [],
   "source": []
  },
  {
   "cell_type": "code",
   "execution_count": null,
   "id": "950bc003-1d82-4572-a37a-41963a9e5347",
   "metadata": {},
   "outputs": [],
   "source": []
  },
  {
   "cell_type": "code",
   "execution_count": null,
   "id": "da5a8488-df60-461a-bdb6-53e9e32682e1",
   "metadata": {},
   "outputs": [],
   "source": []
  },
  {
   "cell_type": "code",
   "execution_count": null,
   "id": "33f1f4a1-d334-40f5-a6af-6a82bb803426",
   "metadata": {},
   "outputs": [],
   "source": [
    "# importeer de juiste librairies\n",
    "\n",
    "# For preparation and cleaning\n",
    "import pandas as pd\n",
    "import numpy as np\n",
    "\n",
    "# For exploration analysis and visualisation \n"
   ]
  }
 ],
 "metadata": {
  "kernelspec": {
   "display_name": "Python 3 (ipykernel)",
   "language": "python",
   "name": "python3"
  },
  "language_info": {
   "codemirror_mode": {
    "name": "ipython",
    "version": 3
   },
   "file_extension": ".py",
   "mimetype": "text/x-python",
   "name": "python",
   "nbconvert_exporter": "python",
   "pygments_lexer": "ipython3",
   "version": "3.11.1"
  }
 },
 "nbformat": 4,
 "nbformat_minor": 5
}
