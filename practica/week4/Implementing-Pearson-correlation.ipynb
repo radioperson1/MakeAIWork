{
 "cells": [
  {
   "cell_type": "markdown",
   "id": "d4334e7a",
   "metadata": {},
   "source": [
    "# Bron\n",
    "\n",
    "https://en.wikipedia.org/wiki/Correlation"
   ]
  },
  {
   "cell_type": "code",
   "execution_count": 42,
   "id": "ff9ebb2d",
   "metadata": {
    "tags": []
   },
   "outputs": [],
   "source": [
    "import numpy as np\n",
    "import pandas as pd\n",
    "import math"
   ]
  },
  {
   "cell_type": "code",
   "execution_count": null,
   "id": "d0490f02",
   "metadata": {},
   "outputs": [],
   "source": [
    "# According to the formula we need:\n",
    "\n",
    "# 1. Compute the average of X (avgX)\n",
    "# 2. Compute the average of Y (avgY)\n",
    "# 3. Compute the variation of X (stdX)\n",
    "# 4. Compute the variation of Y (stdY)\n",
    "\n",
    "# Once we have computed the ingredients above\n",
    "# we must compute the sum of (Xi - avgX) * (Yi - avgY) and divide by stdX * stdY"
   ]
  },
  {
   "cell_type": "code",
   "execution_count": 4,
   "id": "fdd9c6a7",
   "metadata": {
    "tags": []
   },
   "outputs": [],
   "source": [
    "# Let's define our linear dataset\n",
    "X = np.array([0, 1, 2, 3, 4])\n",
    "Y = np.array([1, 2, 3, 4, 5])"
   ]
  },
  {
   "cell_type": "code",
   "execution_count": 31,
   "id": "afcd5a72-6f0d-4992-989a-0e46e3aa3ceb",
   "metadata": {
    "tags": []
   },
   "outputs": [],
   "source": [
    "X1 = [0,1,2,3,4]\n",
    "Y1 = [1,2,3,4,5]"
   ]
  },
  {
   "cell_type": "code",
   "execution_count": 15,
   "id": "9acff2f8",
   "metadata": {
    "tags": []
   },
   "outputs": [
    {
     "name": "stdout",
     "output_type": "stream",
     "text": [
      "2.0, 3.0\n"
     ]
    }
   ],
   "source": [
    "# 1. Compute the average of X (avgX)\n",
    " \n",
    "avgX = np.average(X)\n",
    "\n",
    "# 2. Compute the average of Y (avgY)\n",
    "\n",
    "avgY = np.average(Y)\n",
    "\n",
    "print(f'{avgX}, {avgY}')"
   ]
  },
  {
   "cell_type": "code",
   "execution_count": 9,
   "id": "fe95f6b3-96aa-4854-a7de-06ae127a7c1a",
   "metadata": {
    "tags": []
   },
   "outputs": [
    {
     "name": "stdout",
     "output_type": "stream",
     "text": [
      "2.0, 3.0\n"
     ]
    }
   ],
   "source": [
    "# 1. Compute the average of X (avgX)\n",
    "\n",
    "X_mean = X.mean()\n",
    "\n",
    "# 2. Compute the average of Y (avgY)\n",
    "\n",
    "Y_mean = Y.mean()\n",
    "\n",
    "print(f'{X_mean}, {Y_mean}')"
   ]
  },
  {
   "cell_type": "code",
   "execution_count": null,
   "id": "5f47da18-6ac2-43af-a1b5-0c792709df90",
   "metadata": {},
   "outputs": [],
   "source": [
    "total = 0\n",
    "\n",
    "for x in X1 :\n",
    "    total = total + x #we loopen door de waardes heen en tellen die bij elkaar op\n",
    "    \n",
    "avg = total / len(X1)\n",
    "    "
   ]
  },
  {
   "cell_type": "code",
   "execution_count": 38,
   "id": "1fb57db2-da3f-4cc8-9bf3-96c4084ddf7e",
   "metadata": {
    "tags": []
   },
   "outputs": [
    {
     "data": {
      "text/plain": [
       "2.0"
      ]
     },
     "metadata": {},
     "output_type": "display_data"
    },
    {
     "data": {
      "text/plain": [
       "3.0"
      ]
     },
     "metadata": {},
     "output_type": "display_data"
    }
   ],
   "source": [
    "# define function # Xen vervangen door Nen\n",
    "\n",
    "def average(N):\n",
    "    total = 0\n",
    "    for n in N:\n",
    "        total = total + n\n",
    "    return total / len(N)\n",
    "\n",
    "display(average(X1))\n",
    "display(average(Y1))"
   ]
  },
  {
   "cell_type": "code",
   "execution_count": 39,
   "id": "aae3f093-d03d-41cf-ac7b-845fa7cfc708",
   "metadata": {
    "tags": []
   },
   "outputs": [],
   "source": [
    "avgX1 = average(X1)\n",
    "avgY1 = average(Y1)"
   ]
  },
  {
   "cell_type": "code",
   "execution_count": null,
   "id": "a6092e95-7e8c-495d-8f52-bd106ec58eae",
   "metadata": {},
   "outputs": [],
   "source": [
    "total = 0\n",
    "\n",
    "for x in X1:\n",
    "    a = (x - avgX)\n",
    "    b = np.square\n",
    "    c = 0 + b"
   ]
  },
  {
   "cell_type": "code",
   "execution_count": null,
   "id": "1bddf70b-9758-4cd5-bd86-6a5d45685ce7",
   "metadata": {},
   "outputs": [],
   "source": [
    "total = 0\n",
    "\n",
    "for x in X1:\n",
    "    total += (x - avgX1)**2 \n",
    "\n",
    "    total "
   ]
  },
  {
   "cell_type": "code",
   "execution_count": 60,
   "id": "d813a746-ad93-401f-83a7-12ce2aa724f9",
   "metadata": {
    "tags": []
   },
   "outputs": [],
   "source": [
    "def variation1(N, avgN):\n",
    "    total = 0\n",
    "    for n in N:\n",
    "        total += (n - avgX1) ** 2\n",
    "        \n",
    "    return math.sqrt(total/len(N))\n",
    "\n",
    "def variation2(N):\n",
    "    avgN = average(N)\n",
    "    total = 0\n",
    "    for n in N:\n",
    "        total += (n - avgN)**2\n",
    "        \n",
    "    return math.sqrt(total/len(N)) "
   ]
  },
  {
   "cell_type": "code",
   "execution_count": 58,
   "id": "f3b40435-9257-4e27-b5cd-3694f39ce25d",
   "metadata": {
    "tags": []
   },
   "outputs": [
    {
     "name": "stdout",
     "output_type": "stream",
     "text": [
      "1.4142135623730951\n"
     ]
    }
   ],
   "source": [
    "total1 = 0\n",
    "for x in X1:\n",
    "    total1 += (x - avgX1) ** 2\n",
    "    \n",
    "print(math.sqrt(total1/len(X1))) #let op verschil print hieronder. Wanneer je print in de loop zet dan print hij elke stap."
   ]
  },
  {
   "cell_type": "code",
   "execution_count": 49,
   "id": "b0b7faaf-b72a-4102-ac19-09e63c35208f",
   "metadata": {
    "tags": []
   },
   "outputs": [
    {
     "name": "stdout",
     "output_type": "stream",
     "text": [
      "0.8944271909999159\n",
      "0.4472135954999579\n",
      "0.0\n",
      "0.4472135954999579\n",
      "0.8944271909999159\n"
     ]
    }
   ],
   "source": [
    "total = 0\n",
    "\n",
    "for x in X1:\n",
    "    total = 0 + math.sqrt(((x - avgX1)**2) / len(X1))\n",
    "    \n",
    "    print(total)\n",
    "    "
   ]
  },
  {
   "cell_type": "code",
   "execution_count": 18,
   "id": "6028b2a9",
   "metadata": {
    "tags": []
   },
   "outputs": [
    {
     "data": {
      "text/plain": [
       "'1.4142135623730951, 1.4142135623730951'"
      ]
     },
     "metadata": {},
     "output_type": "display_data"
    }
   ],
   "source": [
    "# 3. Compute the variation of X (stdX)\n",
    "\n",
    "stdX = np.std(X)\n",
    "\n",
    "# 4. Compute the variation of Y (stdY)\n",
    "\n",
    "stdY = np.std(Y)\n",
    "\n",
    "display(f'{stdX}, {stdY}')"
   ]
  },
  {
   "cell_type": "code",
   "execution_count": 65,
   "id": "f005bc57-b211-44a8-944c-fe3fdbcd3eda",
   "metadata": {
    "tags": []
   },
   "outputs": [
    {
     "ename": "TypeError",
     "evalue": "variation2() takes 1 positional argument but 2 were given",
     "output_type": "error",
     "traceback": [
      "\u001b[1;31m---------------------------------------------------------------------------\u001b[0m",
      "\u001b[1;31mTypeError\u001b[0m                                 Traceback (most recent call last)",
      "Cell \u001b[1;32mIn[65], line 1\u001b[0m\n\u001b[1;32m----> 1\u001b[0m stdX1 \u001b[38;5;241m=\u001b[39m \u001b[43mvariation2\u001b[49m\u001b[43m(\u001b[49m\u001b[43mX1\u001b[49m\u001b[43m,\u001b[49m\u001b[43m \u001b[49m\u001b[43mavgX1\u001b[49m\u001b[43m)\u001b[49m\n\u001b[0;32m      3\u001b[0m display(stdX1)\n\u001b[0;32m      5\u001b[0m stdY1 \u001b[38;5;241m=\u001b[39m variation2(Y1, avgY1)\n",
      "\u001b[1;31mTypeError\u001b[0m: variation2() takes 1 positional argument but 2 were given"
     ]
    }
   ],
   "source": [
    "stdX1 = variation2(X1, avgX1)\n",
    "\n",
    "display(stdX1)\n",
    "\n",
    "stdY1 = variation2(Y1, avgY1)\n",
    "\n",
    "display(stdY1)\n"
   ]
  },
  {
   "cell_type": "code",
   "execution_count": 69,
   "id": "3d2a24f1",
   "metadata": {
    "tags": []
   },
   "outputs": [
    {
     "name": "stdout",
     "output_type": "stream",
     "text": [
      "0.9999999999999998\n"
     ]
    }
   ],
   "source": [
    "# Once we have computed the ingredients above\n",
    "# we must compute the sum of (Xi - avgX) * (Yi - avgY) and divide by stdX * stdY\n",
    "# len() door wortel N die er niet in zit moet binnen 0 en 1 zijn \n",
    "\n",
    "np_sum = np.sum((X - avgX) * (Y - avgY))\n",
    "std_sum = len(X) * stdX * stdY\n",
    "\n",
    "r = np_sum / std_sum\n",
    "\n",
    "print(r)"
   ]
  },
  {
   "cell_type": "code",
   "execution_count": 82,
   "id": "dba797a5-9533-42eb-824b-e4e99c486382",
   "metadata": {
    "tags": []
   },
   "outputs": [
    {
     "data": {
      "text/plain": [
       "numpy.float64"
      ]
     },
     "execution_count": 82,
     "metadata": {},
     "output_type": "execute_result"
    }
   ],
   "source": [
    "type(std_sum)"
   ]
  },
  {
   "cell_type": "code",
   "execution_count": 68,
   "id": "7afc1521-5097-4fb8-ba16-d340865af72d",
   "metadata": {
    "tags": []
   },
   "outputs": [
    {
     "data": {
      "text/plain": [
       "19.999999999999996"
      ]
     },
     "metadata": {},
     "output_type": "display_data"
    }
   ],
   "source": [
    "\n",
    "for x,y in zip(X,Y): #ritsen\n",
    "    total += (x - avgX) * (y - avgY)\n",
    "\n",
    "display(total / (stdX * stdY))"
   ]
  },
  {
   "cell_type": "code",
   "execution_count": 23,
   "id": "18aa182e-653c-42b8-a028-5cec46004f9f",
   "metadata": {
    "tags": []
   },
   "outputs": [
    {
     "name": "stdout",
     "output_type": "stream",
     "text": [
      "4.999999999999999\n"
     ]
    }
   ],
   "source": [
    "r1 = np.sum((X - avgX) * (Y - avgY)) / ( stdX * stdY)\n",
    "print(r1)"
   ]
  },
  {
   "cell_type": "code",
   "execution_count": 29,
   "id": "2ff0774b",
   "metadata": {
    "tags": []
   },
   "outputs": [
    {
     "data": {
      "text/plain": [
       "0.9999999999999998"
      ]
     },
     "execution_count": 29,
     "metadata": {},
     "output_type": "execute_result"
    }
   ],
   "source": [
    "# Let's define the pearson correlation as a function\n",
    "\n",
    "def pearsonsCorrelation(X, Y): \n",
    "    avgX = np.average(X)\n",
    "    avgY = np.average(Y)\n",
    "    stdX = np.std(X)\n",
    "    stdU = np.std(Y)\n",
    "    return np.sum((X - avgX) * (Y - avgY)) / (len(X) * stdX * stdY)\n",
    "\n",
    "pearsonsCorrelation(X,Y)"
   ]
  },
  {
   "cell_type": "code",
   "execution_count": 79,
   "id": "24796767-6020-4a02-b829-23bd9734ea88",
   "metadata": {
    "tags": []
   },
   "outputs": [
    {
     "data": {
      "text/plain": [
       "0.9999999999999998"
      ]
     },
     "execution_count": 79,
     "metadata": {},
     "output_type": "execute_result"
    }
   ],
   "source": [
    "# Let's define the pearson correlation as a function\n",
    "\n",
    "def pearsonsCorrelation(N, M): \n",
    "    avgX = np.average(N)\n",
    "    avgY = np.average(M)\n",
    "    stdX = np.std(N)\n",
    "    stdU = np.std(M)\n",
    "    total = 0\n",
    "    \n",
    "    for n,m in zip(N,M):\n",
    "        total += (n-avgN) * (m - avgM)\n",
    "        \n",
    "    return np.sum((n - avgN) * (m - avgM)) / (len(N) * stdN * stdM)\n",
    "\n",
    "personsCorrelation(X1,Y1)"
   ]
  },
  {
   "cell_type": "code",
   "execution_count": null,
   "id": "ce3d731f",
   "metadata": {},
   "outputs": [],
   "source": [
    "# Let's use the dataset of project 1\n",
    "df = pd.read_csv(\"\") "
   ]
  },
  {
   "cell_type": "code",
   "execution_count": 30,
   "id": "624b17b7",
   "metadata": {
    "tags": []
   },
   "outputs": [
    {
     "ename": "NameError",
     "evalue": "name 'df' is not defined",
     "output_type": "error",
     "traceback": [
      "\u001b[1;31m---------------------------------------------------------------------------\u001b[0m",
      "\u001b[1;31mNameError\u001b[0m                                 Traceback (most recent call last)",
      "Cell \u001b[1;32mIn[30], line 2\u001b[0m\n\u001b[0;32m      1\u001b[0m \u001b[38;5;66;03m# Look at the correlations\u001b[39;00m\n\u001b[1;32m----> 2\u001b[0m \u001b[43mdf\u001b[49m\u001b[38;5;241m.\u001b[39mcorr()\n",
      "\u001b[1;31mNameError\u001b[0m: name 'df' is not defined"
     ]
    }
   ],
   "source": [
    "# Look at the correlations\n",
    "df.corr()"
   ]
  },
  {
   "cell_type": "code",
   "execution_count": null,
   "id": "f413b160",
   "metadata": {},
   "outputs": [],
   "source": [
    "# Let's check\n",
    "\n",
    "pc = display(pearsonsCorrelation(df['genetic'], df['lifespan']))\n",
    "type(pc)"
   ]
  },
  {
   "cell_type": "code",
   "execution_count": null,
   "id": "42a89452-9cdc-4f15-8ca0-30602e1aa063",
   "metadata": {},
   "outputs": [],
   "source": []
  },
  {
   "cell_type": "code",
   "execution_count": null,
   "id": "b1831cd8",
   "metadata": {},
   "outputs": [],
   "source": [
    "# Let's double check\n",
    "# Geeft twee waarden terug omdat het dus cohorent is. (Heft elkaar op tov 0)\n",
    "\n",
    "display(np.corrcoef(df['genetic'], df['lifespan']))"
   ]
  },
  {
   "cell_type": "code",
   "execution_count": null,
   "id": "4293a3cc-c20c-4582-8923-a4e8278d89ed",
   "metadata": {},
   "outputs": [],
   "source": [
    "# Wiskunde verdieping\n",
    "# Anscombe's quartet\n",
    "# Pearsons coefficient > 0 hypothese\n",
    "# Spearman correlation"
   ]
  }
 ],
 "metadata": {
  "kernelspec": {
   "display_name": "Python 3 (ipykernel)",
   "language": "python",
   "name": "python3"
  },
  "language_info": {
   "codemirror_mode": {
    "name": "ipython",
    "version": 3
   },
   "file_extension": ".py",
   "mimetype": "text/x-python",
   "name": "python",
   "nbconvert_exporter": "python",
   "pygments_lexer": "ipython3",
   "version": "3.11.1"
  }
 },
 "nbformat": 4,
 "nbformat_minor": 5
}
