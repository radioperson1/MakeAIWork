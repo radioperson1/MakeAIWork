{
 "cells": [
  {
   "cell_type": "code",
   "execution_count": 1,
   "id": "e2241ae4-02de-4e34-a015-5e2f78a714e5",
   "metadata": {
    "tags": []
   },
   "outputs": [],
   "source": [
    "# importeren librairies > inlezen ( df = pd.read_csv) > head (check of set nog oke is) > tail > describe > duplicates en drop cols (data exploratie en bewerking) > missing values (df.isnull) , why or random, impute (machine learning) or delete (df.dropna) > Outliers? (IQR, Inter Quartile Range) > Feature selection > Feature engineering"
   ]
  },
  {
   "cell_type": "code",
   "execution_count": null,
   "id": "668af3aa-873d-4a75-a732-70670ecb5cae",
   "metadata": {},
   "outputs": [],
   "source": [
    "# STAP 1 EDA"
   ]
  },
  {
   "cell_type": "code",
   "execution_count": 5,
   "id": "ef525f54-8aa0-4d4c-ac88-c949082f5467",
   "metadata": {
    "tags": []
   },
   "outputs": [
    {
     "name": "stdout",
     "output_type": "stream",
     "text": [
      "Using matplotlib backend: TkAgg\n"
     ]
    }
   ],
   "source": [
    "# Bepaal en importeer benodigde librairies\n",
    "\n",
    "import json \n",
    "import pandas as pd\n",
    "import requests\n",
    "import numpy as np\n",
    "import seaborn as sb\n",
    "\n",
    "%matplotlib \n"
   ]
  },
  {
   "cell_type": "code",
   "execution_count": 6,
   "id": "fc657b44-775b-4522-a7ad-36c10baa11f9",
   "metadata": {
    "tags": []
   },
   "outputs": [],
   "source": [
    "# We doen een \"aanvraag\" bij de API. Deze url werkt alleen als de rest server gestart is. \n",
    "\n",
    "response = requests.get('http://localhost:8080/medish_centrum_randstad/api/netlify?page=1')"
   ]
  },
  {
   "cell_type": "code",
   "execution_count": 7,
   "id": "ffff6bff-b24f-4c6b-b35d-91953c767908",
   "metadata": {
    "tags": []
   },
   "outputs": [
    {
     "data": {
      "text/plain": [
       "'application/json'"
      ]
     },
     "execution_count": 7,
     "metadata": {},
     "output_type": "execute_result"
    }
   ],
   "source": [
    "# Checken wat voor data/type we binnen hebben gekregen\n",
    "\n",
    "response.headers['content-type']"
   ]
  },
  {
   "cell_type": "code",
   "execution_count": 8,
   "id": "72419965-2b7f-4492-8173-919504fce492",
   "metadata": {
    "tags": []
   },
   "outputs": [
    {
     "data": {
      "text/html": [
       "<div>\n",
       "<style scoped>\n",
       "    .dataframe tbody tr th:only-of-type {\n",
       "        vertical-align: middle;\n",
       "    }\n",
       "\n",
       "    .dataframe tbody tr th {\n",
       "        vertical-align: top;\n",
       "    }\n",
       "\n",
       "    .dataframe thead th {\n",
       "        text-align: right;\n",
       "    }\n",
       "</style>\n",
       "<table border=\"1\" class=\"dataframe\">\n",
       "  <thead>\n",
       "    <tr style=\"text-align: right;\">\n",
       "      <th></th>\n",
       "      <th>status</th>\n",
       "      <th>total_nr_of_records</th>\n",
       "      <th>nr_of_pages</th>\n",
       "      <th>page_size</th>\n",
       "      <th>next</th>\n",
       "      <th>data</th>\n",
       "    </tr>\n",
       "  </thead>\n",
       "  <tbody>\n",
       "    <tr>\n",
       "      <th>0</th>\n",
       "      <td>200</td>\n",
       "      <td>8192</td>\n",
       "      <td>82</td>\n",
       "      <td>100</td>\n",
       "      <td>http://localhost:8080/medish_centrum_randstad/...</td>\n",
       "      <td>{'genetic': 84, 'length': 180, 'mass': 90, 'ex...</td>\n",
       "    </tr>\n",
       "    <tr>\n",
       "      <th>1</th>\n",
       "      <td>200</td>\n",
       "      <td>8192</td>\n",
       "      <td>82</td>\n",
       "      <td>100</td>\n",
       "      <td>http://localhost:8080/medish_centrum_randstad/...</td>\n",
       "      <td>{'genetic': 84, 'length': 204, 'mass': 79, 'ex...</td>\n",
       "    </tr>\n",
       "    <tr>\n",
       "      <th>2</th>\n",
       "      <td>200</td>\n",
       "      <td>8192</td>\n",
       "      <td>82</td>\n",
       "      <td>100</td>\n",
       "      <td>http://localhost:8080/medish_centrum_randstad/...</td>\n",
       "      <td>{'genetic': 84, 'length': 174, 'mass': 74, 'ex...</td>\n",
       "    </tr>\n",
       "    <tr>\n",
       "      <th>3</th>\n",
       "      <td>200</td>\n",
       "      <td>8192</td>\n",
       "      <td>82</td>\n",
       "      <td>100</td>\n",
       "      <td>http://localhost:8080/medish_centrum_randstad/...</td>\n",
       "      <td>{'genetic': 84, 'length': 187, 'mass': 78, 'ex...</td>\n",
       "    </tr>\n",
       "    <tr>\n",
       "      <th>4</th>\n",
       "      <td>200</td>\n",
       "      <td>8192</td>\n",
       "      <td>82</td>\n",
       "      <td>100</td>\n",
       "      <td>http://localhost:8080/medish_centrum_randstad/...</td>\n",
       "      <td>{'genetic': 84, 'length': 187, 'mass': 89, 'ex...</td>\n",
       "    </tr>\n",
       "  </tbody>\n",
       "</table>\n",
       "</div>"
      ],
      "text/plain": [
       "   status  total_nr_of_records  nr_of_pages  page_size  \\\n",
       "0     200                 8192           82        100   \n",
       "1     200                 8192           82        100   \n",
       "2     200                 8192           82        100   \n",
       "3     200                 8192           82        100   \n",
       "4     200                 8192           82        100   \n",
       "\n",
       "                                                next  \\\n",
       "0  http://localhost:8080/medish_centrum_randstad/...   \n",
       "1  http://localhost:8080/medish_centrum_randstad/...   \n",
       "2  http://localhost:8080/medish_centrum_randstad/...   \n",
       "3  http://localhost:8080/medish_centrum_randstad/...   \n",
       "4  http://localhost:8080/medish_centrum_randstad/...   \n",
       "\n",
       "                                                data  \n",
       "0  {'genetic': 84, 'length': 180, 'mass': 90, 'ex...  \n",
       "1  {'genetic': 84, 'length': 204, 'mass': 79, 'ex...  \n",
       "2  {'genetic': 84, 'length': 174, 'mass': 74, 'ex...  \n",
       "3  {'genetic': 84, 'length': 187, 'mass': 78, 'ex...  \n",
       "4  {'genetic': 84, 'length': 187, 'mass': 89, 'ex...  "
      ]
     },
     "execution_count": 8,
     "metadata": {},
     "output_type": "execute_result"
    }
   ],
   "source": [
    "# Van de teruggekregen data maken we een pandas dataframe\n",
    "df = pd.read_json(response.text)\n",
    "df.head()"
   ]
  },
  {
   "cell_type": "code",
   "execution_count": null,
   "id": "ed20df81-84bc-42f9-a87b-c98c914ac4dd",
   "metadata": {},
   "outputs": [],
   "source": [
    "# De ruwe data van de website is op zichzelf onbruikbaar: de data bevat fouten en hiaten. Aan jullie de taak om dit om te zetten naar een bruikbare set. Bedenk ook hoe deze stap past in je data pipeline en hoe je dit kunt automatiseren."
   ]
  }
 ],
 "metadata": {
  "kernelspec": {
   "display_name": "Python 3 (ipykernel)",
   "language": "python",
   "name": "python3"
  },
  "language_info": {
   "codemirror_mode": {
    "name": "ipython",
    "version": 3
   },
   "file_extension": ".py",
   "mimetype": "text/x-python",
   "name": "python",
   "nbconvert_exporter": "python",
   "pygments_lexer": "ipython3",
   "version": "3.11.1"
  }
 },
 "nbformat": 4,
 "nbformat_minor": 5
}
