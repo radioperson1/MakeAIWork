{
 "cells": [
  {
   "cell_type": "markdown",
   "id": "6e93d43b",
   "metadata": {},
   "source": [
    "# Beslissen en herhalen"
   ]
  },
  {
   "cell_type": "markdown",
   "id": "a4f6c97b",
   "metadata": {
    "jp-MarkdownHeadingCollapsed": true,
    "tags": []
   },
   "source": [
    "Om effectief te kunnen programmeren moet je:\n",
    "\n",
    "#### 1. Weten welke basisinstructies je tot je beschikking hebt\n",
    "Een mooi startpunt is [W3Schools over Python](https://www.w3schools.com/python/default.asp).\n",
    "\n",
    "\n",
    "#### 2. Weten hoe je de juiste instructies kunt vinden\n",
    "De zoektermen volgen uit je literate programming beschrijving en je pseudo code.\n",
    "\n",
    "### Let op!\n",
    "Het kan verleidelijk zijn om de OPLOSSING te googlen, zeker in het begin.\n",
    "\n",
    "##### Als je merkt dat je dit aan het doen bent, dan heb je de literate programming steps niet precies genoeg uitgewerkt.\n",
    "De opdracht is dan te groot en te complex."
   ]
  },
  {
   "cell_type": "markdown",
   "id": "92ed6127",
   "metadata": {},
   "source": [
    "## Basics: beslissen"
   ]
  },
  {
   "cell_type": "markdown",
   "id": "e0b00e53",
   "metadata": {},
   "source": [
    "Bestudeer [if else statements](https://www.w3schools.com/python/python_conditions.asp)\n",
    "\n",
    "(de voorbeelden zijn interactief)"
   ]
  },
  {
   "cell_type": "markdown",
   "id": "eb320abd",
   "metadata": {},
   "source": [
    "### 1. Vergelijken**"
   ]
  },
  {
   "cell_type": "markdown",
   "id": "f522b9d8",
   "metadata": {},
   "source": [
    "- Laat de gebruiker twee woorden invoeren\n",
    "- Geef aan welk woord het langs is\n",
    "- Neem ook het geval dat ze gelijk zijn mee\n",
    "- Print het resultaat\n",
    "\n",
    "Hint: je mag in dit geval [de functie len()](https://www.w3schools.com/python/python_strings.asp) gebruiken"
   ]
  },
  {
   "cell_type": "code",
   "execution_count": 33,
   "id": "0e2aedfa",
   "metadata": {
    "tags": []
   },
   "outputs": [
    {
     "name": "stdout",
     "output_type": "stream",
     "text": [
      "Welcome to the Word counting game. Please insert two words en press ENTER\n"
     ]
    },
    {
     "name": "stdin",
     "output_type": "stream",
     "text": [
      " hee\n",
      " hee\n"
     ]
    },
    {
     "name": "stdout",
     "output_type": "stream",
     "text": [
      "Equality yay\n"
     ]
    }
   ],
   "source": [
    "# 1. Formulate a solution\n",
    "# Count the amount of characters in each word\n",
    "\n",
    "# 2. Implement the solution\n",
    "\n",
    "print(\"Welcome to the Word counting game. Please insert two words en press ENTER\")\n",
    "\n",
    "firstWord = input()\n",
    "secondWord = input()\n",
    "\n",
    "if(len(firstWord)) > (len(secondWord)):\n",
    "    print(\"First is longer\")\n",
    "elif(len(firstWord)) == (len(secondWord)):\n",
    "    print(\"Equality yay\")\n",
    "elif(len(secondWord)) > (len(firstWord)):\n",
    "    print(\"Second is longer\")\n",
    "\n",
    "   "
   ]
  },
  {
   "cell_type": "markdown",
   "id": "0b5a8819",
   "metadata": {},
   "source": [
    "### 2. Categoriseren**"
   ]
  },
  {
   "cell_type": "markdown",
   "id": "49270585",
   "metadata": {},
   "source": [
    "- Vraag de gebruiker om een getal\n",
    "- Bepaal of dit getal even is\n",
    "- Print het resultaat\n",
    "\n",
    "Hint: je mag in dit geval de [operatoren '/' en '%'](https://www.w3schools.com/python/python_operators.asp) gebruiken"
   ]
  },
  {
   "cell_type": "code",
   "execution_count": 6,
   "id": "98a288c9",
   "metadata": {
    "tags": []
   },
   "outputs": [
    {
     "name": "stdin",
     "output_type": "stream",
     "text": [
      " 5\n"
     ]
    },
    {
     "name": "stdout",
     "output_type": "stream",
     "text": [
      "Your number is uneven\n"
     ]
    }
   ],
   "source": [
    "# 1. Formulate a solution\n",
    "# Check if input is divisble by 2 or steeds -2 tot de counter op 0 staat of -1\n",
    "\n",
    "# 2. Implement the solution\n",
    "\n",
    "# Ask user for a number\n",
    "\n",
    "# Determine whether it is even or uneven \n",
    "\n",
    "# Print result\n",
    "\n",
    "number = int(input())\n",
    "\n",
    "if number%2 == 0:\n",
    "    print(\"Your number is even\")\n",
    "elif number%2 != 0:\n",
    "    print(\"Your number is uneven\")\n",
    "\n",
    "\n",
    "\n"
   ]
  },
  {
   "cell_type": "markdown",
   "id": "2be34655",
   "metadata": {},
   "source": [
    "## Basics: herhalen"
   ]
  },
  {
   "cell_type": "markdown",
   "id": "8491ff0e",
   "metadata": {},
   "source": [
    "Bestudeer [for loops](https://www.w3schools.com/python/python_for_loops.asp)\n",
    "\n",
    "Bestudeer [while loops](https://www.w3schools.com/python/python_while_loops.asp)\n",
    "\n",
    "(de voorbeelden zijn interactief)"
   ]
  },
  {
   "cell_type": "markdown",
   "id": "af980848",
   "metadata": {},
   "source": [
    "### 1. Printen*"
   ]
  },
  {
   "cell_type": "markdown",
   "id": "120a2dd8",
   "metadata": {},
   "source": [
    "- Print je naam 23 keer uit\n",
    "\n",
    "Extra: kun je het er ook een nummer voor zetten?\n",
    "\n",
    "    1. Ruud\n",
    "    2. Ruud\n",
    "    3. Ruud\n",
    "\n",
    "    ...\n",
    "\n",
    "Hint: kijk nog eens naar de les van Jeroen over strings"
   ]
  },
  {
   "cell_type": "code",
   "execution_count": 26,
   "id": "0403e338-a997-4332-9bb0-e9ab124253a8",
   "metadata": {
    "tags": []
   },
   "outputs": [
    {
     "name": "stdout",
     "output_type": "stream",
     "text": [
      "1. Christie\n",
      "2. Christie\n",
      "3. Christie\n",
      "4. Christie\n",
      "5. Christie\n",
      "6. Christie\n",
      "7. Christie\n",
      "8. Christie\n",
      "9. Christie\n",
      "10. Christie\n",
      "11. Christie\n",
      "12. Christie\n",
      "13. Christie\n",
      "14. Christie\n",
      "15. Christie\n",
      "16. Christie\n",
      "17. Christie\n",
      "18. Christie\n",
      "19. Christie\n",
      "20. Christie\n",
      "21. Christie\n",
      "22. Christie\n",
      "23. Christie\n"
     ]
    }
   ],
   "source": [
    "\n",
    "\n",
    "for x in range(1, 24):\n",
    "    fStr = f'{x}. Christie'\n",
    "    print(fStr)\n",
    "    "
   ]
  },
  {
   "cell_type": "markdown",
   "id": "379ec167",
   "metadata": {},
   "source": [
    "### 2. Optellen*"
   ]
  },
  {
   "cell_type": "markdown",
   "id": "d21d8212",
   "metadata": {},
   "source": [
    "- Tel de getallen 0, 1, 2, ... t/m 100 op\n",
    "- Print het resultaat"
   ]
  },
  {
   "cell_type": "code",
   "execution_count": 3,
   "id": "7e665da2-bef0-4190-8551-bf0031fcbae8",
   "metadata": {
    "tags": []
   },
   "outputs": [
    {
     "data": {
      "text/plain": [
       "5050"
      ]
     },
     "execution_count": 3,
     "metadata": {},
     "output_type": "execute_result"
    }
   ],
   "source": [
    "sum(range(0,101))"
   ]
  },
  {
   "cell_type": "markdown",
   "id": "9d394ec4",
   "metadata": {},
   "source": [
    "### 3. Print een specifieke som**"
   ]
  },
  {
   "cell_type": "markdown",
   "id": "894c9c7e",
   "metadata": {},
   "source": [
    "- Print de som van een getal en het vorige getal\n",
    "- Doe dit van nul tot aan een getal dat de gebruiker invoert"
   ]
  },
  {
   "cell_type": "code",
   "execution_count": null,
   "id": "d6274b0a",
   "metadata": {},
   "outputs": [],
   "source": [
    "# 1. Formulate a solution: Loop\n",
    "\n",
    "# start met counter op 0, start met een if loop een variabele die vraagt om input, maak een nieuwe varabiale -1, maak een derde variabele die de som neemt van dit getal, maar en while loop tot 0 \n",
    "\n",
    "# 2. Implement the solution\n",
    "\n",
    "number = int(input())\n",
    "\n",
    "while number >= 0:\n",
    "print((number - 1) + number)\n",
    "\n"
   ]
  },
  {
   "cell_type": "code",
   "execution_count": null,
   "id": "253048e6-110a-438f-a9b1-21f02d5d9e30",
   "metadata": {},
   "outputs": [],
   "source": [
    "# 1. Formulate a solution\n",
    "\n",
    "# 2. Implement the solution\n",
    "\n",
    "number = int(input())\n",
    "\n",
    "counter = number - (number - 1)\n",
    "number_sum = number + (number - 1)\n",
    "\n",
    "while counter >= 0:\n",
    "    print(number_sum)\n"
   ]
  },
  {
   "cell_type": "code",
   "execution_count": null,
   "id": "c93043f2-b98a-41ec-bf42-8ada699d1f9e",
   "metadata": {
    "tags": []
   },
   "outputs": [],
   "source": [
    "number = int(input(\"please input number: \"))\n",
    "\n",
    "counter = number - 1\n",
    "\n",
    "while counter >= 0:\n",
    "    \n",
    "        print(counter + counter + 1)\n",
    "        \n",
    "        counter = counter - 1\n",
    "        \n",
    "pass\n"
   ]
  },
  {
   "cell_type": "markdown",
   "id": "9e30cf7d",
   "metadata": {
    "tags": []
   },
   "source": [
    "## Gecombineerd"
   ]
  },
  {
   "cell_type": "markdown",
   "id": "d728ef64",
   "metadata": {},
   "source": [
    "### 1. Print alle medeklinkers van een woord of zin***"
   ]
  },
  {
   "cell_type": "markdown",
   "id": "0cfcd436",
   "metadata": {},
   "source": [
    "- Vraag de gebruiker om een woord of zin in te voeren\n",
    "- Print vervolgens alle medeklinkers\n",
    "- Als de invoer een zin is, print dan ook alle spaties en leestekens"
   ]
  },
  {
   "cell_type": "code",
   "execution_count": null,
   "id": "0112311d",
   "metadata": {},
   "outputs": [],
   "source": [
    "# 1. Start simple: take the word \"simpel\"\n",
    "\n",
    "# 2. Explain your solution in words only\n",
    "\n",
    "# 3. Write down your solution in pseudo code\n",
    "\n",
    "# 4. Implement your pseudo code in Python\n",
    "\n",
    "# 5. Extend your solution to the general case"
   ]
  },
  {
   "cell_type": "code",
   "execution_count": null,
   "id": "17ae58d8-92c3-41d3-86bd-2759d38bfa29",
   "metadata": {
    "tags": []
   },
   "outputs": [
    {
     "name": "stdout",
     "output_type": "stream",
     "text": [
      "Good Evening, May I Count Your Vowels?\n"
     ]
    }
   ],
   "source": [
    "# Ask for input\n",
    "\n",
    "print(\"Good Evening, May I Count Your Vowels?\")\n",
    "word = input()\n",
    "\n",
    "# character count\n",
    "counter = 0\n",
    "\n",
    "# Determine the vowels (what to count)\n",
    "for char in word: \n",
    "    \n",
    "    if char == \"a\" or char == \"e\" or char == \"i\" or char == \"o\" or char == \"u\":\n",
    "        \n",
    "        print(counter = counter + 1)\n",
    "        \n",
    "# Maak een lijst van de geprinte klinkers\n",
    "\n",
    "print(f\"{word} contains {counter} vowels. The vowels are . Have a nice evening\")\n",
    "# print\n"
   ]
  },
  {
   "cell_type": "code",
   "execution_count": 41,
   "id": "19ebaadb-0ebc-4d98-aeaf-e64f8e191caf",
   "metadata": {
    "tags": []
   },
   "outputs": [
    {
     "name": "stdout",
     "output_type": "stream",
     "text": [
      "Good Evening, May I Count Your Vowels?\n"
     ]
    },
    {
     "name": "stdin",
     "output_type": "stream",
     "text": [
      " simpel\n"
     ]
    },
    {
     "name": "stdout",
     "output_type": "stream",
     "text": [
      "l\n"
     ]
    }
   ],
   "source": [
    "\n",
    "# tel de klinkers en print\n",
    "\n",
    "print(\"Good Evening, May I Count Your Vowels?\")\n",
    "word = input()\n",
    "\n",
    "for char in word: \n",
    "    \n",
    "    if char == \"a\" or char == \"e\" or char == \"i\" or char == \"o\" or char == \"u\":\n",
    "        continue\n",
    "print(char)"
   ]
  },
  {
   "cell_type": "code",
   "execution_count": null,
   "id": "f7cd0cb1-15b0-4b33-95e7-4fb7379697c7",
   "metadata": {},
   "outputs": [],
   "source": [
    "# Maak een lijst van alle klinkers en voeg daarna spatie toe\n",
    " \n",
    "klinkers = [ "
   ]
  },
  {
   "cell_type": "code",
   "execution_count": 39,
   "id": "612250ca-9415-49de-89f7-947c813cc773",
   "metadata": {
    "tags": []
   },
   "outputs": [
    {
     "name": "stdout",
     "output_type": "stream",
     "text": [
      "c\n",
      "e\n",
      "e\n",
      "e\n",
      "e\n"
     ]
    }
   ],
   "source": [
    "# oplossing: maak van woord of zin een lijst en print de klinkers en spaties\n",
    "\n",
    "# notVowel = \"b\"\n",
    "\n",
    "# for char in \"bceeee\":\n",
    "#     if char == notVowel:\n",
    "#         continue\n",
    "#     print(char)\n"
   ]
  },
  {
   "cell_type": "code",
   "execution_count": null,
   "id": "759fe05f-57b8-4e9e-a618-65664d2d90e8",
   "metadata": {},
   "outputs": [],
   "source": [
    "counter = 0\n",
    "\n",
    "for char in \"simpel\"\n",
    "    count"
   ]
  },
  {
   "cell_type": "markdown",
   "id": "ed2dd7e2",
   "metadata": {},
   "source": [
    "### 2. Print een diamant vorm***"
   ]
  },
  {
   "cell_type": "markdown",
   "id": "d8438e85",
   "metadata": {},
   "source": [
    "- Vraag de gebruiker om een hoogte\n",
    "- Print vervolgens een diamant van die hoogte\n",
    "\n",
    "Hint: zijn er hoogtes waarvoor dit niet lukt? Zo ja, laat de gebruiker dit dan weten."
   ]
  },
  {
   "cell_type": "code",
   "execution_count": null,
   "id": "8c5501e3",
   "metadata": {},
   "outputs": [],
   "source": [
    "3\n",
    "# An example with height 7\n",
    "\n",
    "#    *\n",
    "#   ***\n",
    "#  *****\n",
    "# *******\n",
    "#  *****\n",
    "#   ***\n",
    "#    *\n",
    "\n",
    "# 1. Start simple: take the example above\n",
    "\n",
    "# 2. Explain your solution in words only\n",
    "\n",
    "# 3. Write down your solution in pseudo code\n",
    "\n",
    "# 4. Implement your pseudo code in Python\n",
    "\n",
    "# 5. Extend your solution to the general case"
   ]
  }
 ],
 "metadata": {
  "kernelspec": {
   "display_name": "Python 3 (ipykernel)",
   "language": "python",
   "name": "python3"
  },
  "language_info": {
   "codemirror_mode": {
    "name": "ipython",
    "version": 3
   },
   "file_extension": ".py",
   "mimetype": "text/x-python",
   "name": "python",
   "nbconvert_exporter": "python",
   "pygments_lexer": "ipython3",
   "version": "3.11.1"
  }
 },
 "nbformat": 4,
 "nbformat_minor": 5
}
