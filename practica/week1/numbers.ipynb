{
 "cells": [
  {
   "cell_type": "markdown",
   "id": "e9707e7f-ea3f-4ca0-b763-48d6b9de1b41",
   "metadata": {},
   "source": [
    "<a href=\"https://it-omscholing.nl/locaties/hogeschool-rotterdam/\">\n",
    "<div>\n",
    "<a><img src='../pics/banner.PNG'/></a>\n",
    "</div>\n",
    "<div>\n",
    "<a href=''><img src='../pics/miw.PNG'/></a>\n",
    "<em>Author: Jeroen Boogaard</em>\n",
    "</div>\n",
    "</a>"
   ]
  },
  {
   "cell_type": "markdown",
   "id": "657cd66d-31d9-4efd-a6d7-ca2fa44899c4",
   "metadata": {},
   "source": [
    "---"
   ]
  },
  {
   "cell_type": "markdown",
   "id": "0d22d051-fb13-4bd3-b766-dc4440082fe3",
   "metadata": {},
   "source": [
    "<h1>Enkelvoudige variabelen - Integers en Floats</h1>"
   ]
  },
  {
   "cell_type": "markdown",
   "id": "74d6a93a",
   "metadata": {},
   "source": [
    "<h3>Numerieke variabelen aanmaken en afdrukken</h3>"
   ]
  },
  {
   "cell_type": "code",
   "execution_count": null,
   "id": "7dcb3c82",
   "metadata": {},
   "outputs": [],
   "source": [
    "# integer\n",
    "craters = 190\n",
    "# Numbers can be injected into a String\n",
    "print(f\"Today, we know of about {craters} impact craters on Earth.\")"
   ]
  },
  {
   "cell_type": "code",
   "execution_count": null,
   "id": "3aa4bb80-8b55-4979-bee5-0fab4eca1067",
   "metadata": {},
   "outputs": [],
   "source": [
    "# Voeg underscores toe om de leesbaarheid te vergroten\n",
    "meteoritesFound = 50_000\n",
    "# float\n",
    "ateroidsPercentage = 99.8"
   ]
  },
  {
   "cell_type": "code",
   "execution_count": null,
   "id": "58b57719-afe6-4dcf-a153-184dc168b280",
   "metadata": {},
   "outputs": [],
   "source": [
    "print(f\"More than {meteoritesFound} meteorites have been found on Earth. Of these, {ateroidsPercentage} percent come from asteroids\")"
   ]
  },
  {
   "cell_type": "markdown",
   "id": "0776fbd2",
   "metadata": {},
   "source": [
    "<h3>Rekenkundige bewerkingen</h3>"
   ]
  },
  {
   "cell_type": "code",
   "execution_count": null,
   "id": "9b672530",
   "metadata": {},
   "outputs": [],
   "source": [
    "meteorWeight = 100 * 10**3\n",
    "print(format(meteorWeight, '_d'))"
   ]
  },
  {
   "cell_type": "code",
   "execution_count": null,
   "id": "83a9b161-6b4d-4426-9a07-c578e9013e39",
   "metadata": {},
   "outputs": [],
   "source": [
    "a = 70\n",
    "b = 50\n",
    "a + b"
   ]
  },
  {
   "cell_type": "raw",
   "id": "52a8711e-a579-443a-8258-b0db17ce459f",
   "metadata": {},
   "source": [
    "Blijf positief.."
   ]
  },
  {
   "cell_type": "code",
   "execution_count": null,
   "id": "ffbf37d4-4e77-4238-94dc-f43656c3fb19",
   "metadata": {},
   "outputs": [],
   "source": [
    "print(\"The distance between a and b is %s km\" %abs(b-a) )"
   ]
  },
  {
   "cell_type": "code",
   "execution_count": null,
   "id": "bf3a78d1-d953-47f4-9089-af79e285225d",
   "metadata": {},
   "outputs": [],
   "source": [
    "a * b"
   ]
  },
  {
   "cell_type": "markdown",
   "id": "35d5f2a9-1f8d-4ca6-8b88-21d16e1931f9",
   "metadata": {},
   "source": [
    "<h4>Variabelen kunnen op verschillende manieren door elkaar gedeeld worden</h4>\n",
    "<ol>"
   ]
  },
  {
   "cell_type": "markdown",
   "id": "fd24becd-420d-4e1a-b04a-c9ad23d5d87d",
   "metadata": {},
   "source": [
    "<li>division: /</li>"
   ]
  },
  {
   "cell_type": "code",
   "execution_count": null,
   "id": "3e7d9698-d034-4427-8c82-599597027f68",
   "metadata": {},
   "outputs": [],
   "source": [
    "a / b"
   ]
  },
  {
   "cell_type": "markdown",
   "id": "bf2e0f0a-5e6d-4ce6-949f-8fa8d709bcc8",
   "metadata": {},
   "source": [
    "<li>floor division: //</li>"
   ]
  },
  {
   "cell_type": "code",
   "execution_count": null,
   "id": "475803e1-5cb0-4e01-8148-c9ca26f8f0c2",
   "metadata": {},
   "outputs": [],
   "source": [
    "a // b"
   ]
  },
  {
   "cell_type": "markdown",
   "id": "f029cba1-cd5a-42e0-9150-f4f168a880fd",
   "metadata": {},
   "source": [
    "<li>modulo: %</li>"
   ]
  },
  {
   "cell_type": "code",
   "execution_count": null,
   "id": "a90e787f-42ea-41d1-85e3-55844e7bfefe",
   "metadata": {},
   "outputs": [],
   "source": [
    "(a % b) / b"
   ]
  },
  {
   "cell_type": "code",
   "execution_count": null,
   "id": "183e72f2-62b0-4a13-b1bf-336393e0edab",
   "metadata": {},
   "outputs": [],
   "source": [
    "(a // b) + ((a % b) / b) == a /b"
   ]
  },
  {
   "cell_type": "raw",
   "id": "85e55613-e7fb-452d-a670-1221eb5f1d93",
   "metadata": {},
   "source": [
    "Een positieve draairichting is tegen de klok in"
   ]
  },
  {
   "cell_type": "code",
   "execution_count": null,
   "id": "c47e6012-2a51-4719-9f5d-c25b26375860",
   "metadata": {},
   "outputs": [],
   "source": [
    "rotation = -800\n",
    "spins = abs(rotation) // 360\n",
    "degrees = abs(rotation) % 360\n",
    "print(f\"After {spins} clockwise turnarounds, the angle is {degrees} degrees to the right\")"
   ]
  },
  {
   "cell_type": "markdown",
   "id": "25154a61-d3f0-46c1-b512-0a632706d61d",
   "metadata": {},
   "source": [
    "<h3>Exercise 1</h3>"
   ]
  },
  {
   "cell_type": "code",
   "execution_count": null,
   "id": "f2197985-95c6-4864-929f-f8f8e8f97995",
   "metadata": {},
   "outputs": [],
   "source": [
    "durationInMinutes = 140"
   ]
  },
  {
   "cell_type": "markdown",
   "id": "aa8a2605-0a88-49df-935d-d996c59b414a",
   "metadata": {},
   "source": [
    "<p>Print de volgende String met gebruik van de variabelen <i>durationInMinutes</i>, <i>durationInHours</i> en <i>minutesLeft</i> <u>zonder de variabelen te veranderen</u>:<br>\n",
    "\"If there are 2 hours passed from 140 minutes, there are 20 minutes left\"\n",
    "</p>"
   ]
  },
  {
   "cell_type": "code",
   "execution_count": null,
   "id": "260f3b99-3b4c-4d08-852a-09f268b1d335",
   "metadata": {},
   "outputs": [],
   "source": [
    "# Oplossing"
   ]
  },
  {
   "cell_type": "markdown",
   "id": "d1623e47-4b05-40af-a27a-d2daad15946b",
   "metadata": {},
   "source": [
    "**Built-in Python module math**"
   ]
  },
  {
   "cell_type": "code",
   "execution_count": null,
   "id": "da2b4860-f028-4716-907d-60efc875d649",
   "metadata": {},
   "outputs": [],
   "source": [
    "import math\n",
    "\n",
    "meteorWeight = 100 * math.pow(10,3)\n",
    "print(meteorWeight)"
   ]
  },
  {
   "cell_type": "raw",
   "id": "3e7c9c3b-e4d2-4458-afb7-6c0db5b83415",
   "metadata": {},
   "source": [
    "De output is een float. Je kunt dit weer omzetten in een integer. "
   ]
  },
  {
   "cell_type": "code",
   "execution_count": null,
   "id": "30b1a7bb",
   "metadata": {},
   "outputs": [],
   "source": [
    "type(meteorWeight)\n",
    "int(meteorWeight)"
   ]
  },
  {
   "cell_type": "code",
   "execution_count": null,
   "id": "d9e1b5b4-45eb-43ec-ba20-82bfe5f1bb66",
   "metadata": {},
   "outputs": [],
   "source": [
    "def radiansToDegrees(radians):\n",
    "    return (radians*180) / math.pi\n",
    "\n",
    "rotationInRadians = 1.5 * math.pi\n",
    "rotationInDegrees = radiansToDegrees(rotationInRadians)\n",
    "\n",
    "print(\"The rotation in degrees is : {}\".format( round(rotationInDegrees), 0) )"
   ]
  },
  {
   "cell_type": "markdown",
   "id": "ead8af10-0e7d-466b-97e2-402df06449c2",
   "metadata": {},
   "source": [
    "<h3>Andertallige stelsels</h3>"
   ]
  },
  {
   "cell_type": "raw",
   "id": "6bd99486-92d8-421a-8875-ca5f7dca85ab",
   "metadata": {},
   "source": [
    "Een binary digit heeft de waarde 0 of 1"
   ]
  },
  {
   "cell_type": "code",
   "execution_count": null,
   "id": "bcc232e8-0aa9-48e6-a9b6-f2f04f28f4b3",
   "metadata": {},
   "outputs": [],
   "source": [
    "a = bin(1)\n",
    "print(a)\n",
    "print(a[2:])"
   ]
  },
  {
   "cell_type": "raw",
   "id": "b7d54104-305d-4784-b8f1-4fb9c5fbc954",
   "metadata": {},
   "source": [
    "Rekenen met binaire getallen"
   ]
  },
  {
   "cell_type": "code",
   "execution_count": null,
   "id": "70e70e99-4b26-4891-956a-ba029e9eb62c",
   "metadata": {},
   "outputs": [],
   "source": [
    "sum = bin(int(a, 2) + int(a, 2))\n",
    "c = int(sum[2:])\n",
    "print(f\"{a[2:]} + {a[2:]} = {c}\")"
   ]
  },
  {
   "cell_type": "code",
   "execution_count": null,
   "id": "fee282af-d4cd-47f3-a756-4cc6a179c0a7",
   "metadata": {},
   "outputs": [],
   "source": [
    "base = 2\n",
    "d = '11'\n",
    "d1 = int(d[:1])\n",
    "d0 = int(d[1:])\n",
    "d1 * math.pow(base,1) + d0 * math.pow(base,0)"
   ]
  }
 ],
 "metadata": {
  "kernelspec": {
   "display_name": "Python 3 (ipykernel)",
   "language": "python",
   "name": "python3"
  },
  "language_info": {
   "codemirror_mode": {
    "name": "ipython",
    "version": 3
   },
   "file_extension": ".py",
   "mimetype": "text/x-python",
   "name": "python",
   "nbconvert_exporter": "python",
   "pygments_lexer": "ipython3",
   "version": "3.10.8"
  },
  "vscode": {
   "interpreter": {
    "hash": "916dbcbb3f70747c44a77c7bcd40155683ae19c65e1c03b4aa3499c5328201f1"
   }
  }
 },
 "nbformat": 4,
 "nbformat_minor": 5
}
