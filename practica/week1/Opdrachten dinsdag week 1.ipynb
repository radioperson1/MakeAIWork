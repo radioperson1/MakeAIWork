{
 "cells": [
  {
   "cell_type": "code",
   "execution_count": null,
   "id": "47ffd415-6bef-467b-96c3-9bb225a2d28e",
   "metadata": {
    "tags": []
   },
   "outputs": [],
   "source": [
    "# Opdracht dinsdag week 1 - 1.8.4\n",
    "\n",
    "# Write a program that computes and prints the result of the following expression. It is roughly .1017.\n",
    "# 512-282\n",
    "# 47·48+5\n",
    "\n",
    "x = 512 - 282\n",
    "y = 47 * 48 + 5\n",
    "\n",
    "total = (x/y)\n",
    "\n",
    "print(total)\n"
   ]
  },
  {
   "cell_type": "code",
   "execution_count": null,
   "id": "be5cac84-9456-4a4b-9d60-2fb26634514c",
   "metadata": {
    "tags": []
   },
   "outputs": [],
   "source": [
    "# Opdracht dinsdag week 1 - 1.8.5\n",
    "\n",
    "# Ask the user to enter a number. Print out the square of the number, but use the sep optional argument to print it out in a full sentence that ends in a period. Sample output is shown below.\n",
    "\n",
    "number = int(input(\"Enter a number:\"))\n",
    "square_number = int(input()) * int(input())\n",
    "\n",
    "print(square_number)"
   ]
  },
  {
   "cell_type": "code",
   "execution_count": 63,
   "id": "4f10c7ad-c625-4e76-88c7-55f68bcf22df",
   "metadata": {
    "tags": []
   },
   "outputs": [
    {
     "name": "stdout",
     "output_type": "stream",
     "text": [
      "64\n"
     ]
    }
   ],
   "source": [
    "# Opdracht dinsdag week 1 - 3.8.2\n",
    "\n",
    "# Write a program that generates a random number, x, between 1 and 50, a random number y between 2 and 5, and computes xy.\n",
    "\n",
    "import random\n",
    "\n",
    "x = random.randrange(1,50) \n",
    "y = random.randrange(2,5)\n",
    "\n",
    "xy = x ** y\n",
    "print(xy)"
   ]
  },
  {
   "cell_type": "code",
   "execution_count": 145,
   "id": "e882aab9-5acc-43e6-99ad-cc794461af08",
   "metadata": {},
   "outputs": [
    {
     "name": "stdout",
     "output_type": "stream",
     "text": [
      "0.6666666666666666\n"
     ]
    }
   ],
   "source": [
    "# Opdracht dinsdag week 1 - 3.8.6\n",
    "\n",
    "# Write a program that asks the user to enter two numbers, x and y, and computes |x-y|/(x+y).\n",
    "\n",
    "x = 50 # moet zijn x = input(\"Enter your first number: \")\n",
    "y = 10 # moet zijn y = input(\"Enter your second number: \")\n",
    "\n",
    "xy = ( x - y ) / ( x + y )\n",
    "\n",
    "print(xy)"
   ]
  },
  {
   "cell_type": "code",
   "execution_count": 144,
   "id": "282cad24-be0d-4bf0-9b27-db82dd8d3c3a",
   "metadata": {
    "tags": []
   },
   "outputs": [
    {
     "name": "stdout",
     "output_type": "stream",
     "text": [
      "13\n",
      "10\n",
      "H\n",
      "Haa\n",
      "rld\n",
      "dlroW ollaaaH\n",
      "String not long enough\n",
      "aaallo Worl \n",
      "HAAALLO WORLD\n",
      "Heeello World\n",
      "H   llo World\n"
     ]
    }
   ],
   "source": [
    "# Opdracht dinsdag week 1 - 6.11.1\n",
    "\n",
    "# Write a program that asks the user to enter a string. The program should then print the following:\n",
    "input = \"Haaallo World\" \n",
    "\n",
    "# The total number of characters in the string\n",
    "print(len(input))\n",
    "\n",
    "# The string repeated 10 times\n",
    "if input == \"Haaallo World\": \n",
    "    print(10)\n",
    "    \n",
    "# The first character of the string (remember that string indices start at 0)\n",
    "print(input[0])\n",
    "\n",
    "# The first three characters of the string\n",
    "print(input[:3])\n",
    "\n",
    "# The last three characters of the string\n",
    "print(input[-3:])\n",
    "\n",
    "# The string backwards\n",
    "print(input[-1::-1])\n",
    "\n",
    "# The seventh character of the string if the string is long enough and a message otherwise\n",
    "input_short = \"Hello\"\n",
    "\n",
    "if len(input_short) < 7:\n",
    "    print(\"String not long enough\")\n",
    "else:\n",
    "    print(input_short[7])\n",
    "    \n",
    "# The string with its first and last characters remove\n",
    "print(input.replace(\"H\", \"\").replace(\"d\", \" \"))\n",
    "\n",
    "# The string in all caps\n",
    "print(input.upper())\n",
    "\n",
    "# The string with every a replaced with an e\n",
    "print(input.replace(\"a\", \"e\"))\n",
    "\n",
    "# The string with every letter replaced by a space\n",
    "print(input.replace(\"a\", \" \"))\n",
    "\n",
    "\n",
    " \n"
   ]
  },
  {
   "cell_type": "code",
   "execution_count": 148,
   "id": "a8254a2b-4598-4cf8-8f19-c58d5e7b57ab",
   "metadata": {
    "tags": []
   },
   "outputs": [
    {
     "ename": "TypeError",
     "evalue": "'str' object is not callable",
     "output_type": "error",
     "traceback": [
      "\u001b[1;31m---------------------------------------------------------------------------\u001b[0m",
      "\u001b[1;31mTypeError\u001b[0m                                 Traceback (most recent call last)",
      "Cell \u001b[1;32mIn[148], line 5\u001b[0m\n\u001b[0;32m      1\u001b[0m \u001b[38;5;66;03m# Opdracht dinsdag week 1 - 6.11.1\u001b[39;00m\n\u001b[0;32m      2\u001b[0m \u001b[38;5;66;03m# VRAAG: Waarom werkt dit niet \u001b[39;00m\n\u001b[0;32m      3\u001b[0m \n\u001b[0;32m      4\u001b[0m \u001b[38;5;66;03m# Write a program that asks the user to enter a string. The program should then print the following:\u001b[39;00m\n\u001b[1;32m----> 5\u001b[0m output \u001b[38;5;241m=\u001b[39m \u001b[38;5;28mstr\u001b[39m(\u001b[38;5;28;43minput\u001b[39;49m\u001b[43m(\u001b[49m\u001b[43m)\u001b[49m)\n\u001b[0;32m      7\u001b[0m \u001b[38;5;66;03m# The total number of characters in the string\u001b[39;00m\n\u001b[0;32m      8\u001b[0m \u001b[38;5;28mprint\u001b[39m(\u001b[38;5;28mlen\u001b[39m(output))\n",
      "\u001b[1;31mTypeError\u001b[0m: 'str' object is not callable"
     ]
    }
   ],
   "source": [
    "# Opdracht dinsdag week 1 - 6.11.1\n",
    "# VRAAG: Waarom werkt dit niet \n",
    "\n",
    "# Write a program that asks the user to enter a string. The program should then print the following:\n",
    "output = str(input())\n",
    "\n",
    "# The total number of characters in the string\n",
    "print(len(output))\n",
    "\n",
    "# The string repeated 10 times\n",
    "if output == input(): \n",
    "    print(10)\n",
    "    \n",
    "# The first character of the string (remember that string indices start at 0)\n",
    "print(output[0])\n",
    "\n",
    "# The first three characters of the string\n",
    "print(output[:3])\n",
    "\n",
    "# The last three characters of the string\n",
    "print(output[-3:])\n",
    "\n",
    "# The string backwards\n",
    "print(output[-1::-1])\n",
    "\n",
    "# The seventh character of the string if the string is long enough and a message otherwise\n",
    "\n",
    "if len(output) < 7:\n",
    "    print(\"String not long enough\")\n",
    "else:\n",
    "    print(output[7])\n",
    "    \n",
    "# The string with its first and last characters remove\n",
    "print(output.replace(\"H\", \"\").replace(\"d\", \" \"))\n",
    "\n",
    "# The string in all caps\n",
    "print(output.upper())\n",
    "\n",
    "# The string with every a replaced with an e\n",
    "print(output.replace(\"a\", \"e\"))\n",
    "\n",
    "# The string with every letter replaced by a space\n",
    "print(output.replace(\"a\", \" \"))\n",
    "\n",
    "\n",
    " \n"
   ]
  },
  {
   "cell_type": "code",
   "execution_count": null,
   "id": "e4e41214-2ed1-4f6b-92ab-5219ba97d81c",
   "metadata": {},
   "outputs": [],
   "source": []
  },
  {
   "cell_type": "code",
   "execution_count": null,
   "id": "4e110c3d-74b7-4ee3-a46f-713e044fc66e",
   "metadata": {},
   "outputs": [],
   "source": []
  }
 ],
 "metadata": {
  "kernelspec": {
   "display_name": "Python 3 (ipykernel)",
   "language": "python",
   "name": "python3"
  },
  "language_info": {
   "codemirror_mode": {
    "name": "ipython",
    "version": 3
   },
   "file_extension": ".py",
   "mimetype": "text/x-python",
   "name": "python",
   "nbconvert_exporter": "python",
   "pygments_lexer": "ipython3",
   "version": "3.11.1"
  }
 },
 "nbformat": 4,
 "nbformat_minor": 5
}
