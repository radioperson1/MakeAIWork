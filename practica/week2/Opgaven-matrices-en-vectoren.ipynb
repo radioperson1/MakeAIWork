{
 "cells": [
  {
   "cell_type": "markdown",
   "id": "2ea724be",
   "metadata": {},
   "source": [
    "# Matrices en vectoren"
   ]
  },
  {
   "cell_type": "markdown",
   "id": "18595eca",
   "metadata": {},
   "source": [
    "Er zijn meerdere manieren om een matrix te representeren.\n",
    "\n",
    "Hier kiezen we voor het volgende datamodel:\n",
    "\n",
    "`matrix_2D :: {rows: int, cols: int, data: []}`\n",
    "\n",
    "Implementeer onderstaande opdrachten in Python."
   ]
  },
  {
   "cell_type": "markdown",
   "id": "42182308",
   "metadata": {},
   "source": [
    "## Vectoren"
   ]
  },
  {
   "cell_type": "markdown",
   "id": "db43ccb1",
   "metadata": {},
   "source": [
    "### 1. Een vector als rij*"
   ]
  },
  {
   "cell_type": "markdown",
   "id": "e9ac731a",
   "metadata": {},
   "source": [
    "Representeer de onderstaande vector in code:\n",
    "\n",
    "$$\n",
    "  \\begin{pmatrix}\n",
    "    1 & 2 & 3\n",
    "  \\end{pmatrix}\n",
    "$$"
   ]
  },
  {
   "cell_type": "code",
   "execution_count": 28,
   "id": "72c55633",
   "metadata": {
    "tags": []
   },
   "outputs": [
    {
     "name": "stdout",
     "output_type": "stream",
     "text": [
      "1\n",
      "3\n",
      "3\n"
     ]
    }
   ],
   "source": [
    "# How many rows and colums does this vector have?\n",
    "\n",
    "# 1 row en 3 colums\n",
    "\n",
    "# Use the definition at the top to implement this vector:\n",
    "\n",
    "vec =  {'rows': 1, 'cols': 3, 'data': [1,2,3]}\n",
    "\n",
    "# Can you print its dimensions? (rows, cols)\n",
    "\n",
    "print(vec[\"rows\"])\n",
    "print(vec[\"cols\"])\n",
    "\n",
    "# Can you print the number of elements?\n",
    "\n",
    "print(len(vec))"
   ]
  },
  {
   "cell_type": "markdown",
   "id": "0abbc0ad",
   "metadata": {},
   "source": [
    "### 2. Een vector als kolom*"
   ]
  },
  {
   "cell_type": "markdown",
   "id": "ac4f647f",
   "metadata": {},
   "source": [
    "Representeer de onderstaande vector in code:\n",
    "\n",
    "$$\n",
    "  \\begin{pmatrix}\n",
    "    1 \\\\\n",
    "    2 \\\\\n",
    "    3\n",
    "  \\end{pmatrix}\n",
    "$$"
   ]
  },
  {
   "cell_type": "code",
   "execution_count": 56,
   "id": "f4f6bfc9",
   "metadata": {
    "tags": []
   },
   "outputs": [
    {
     "name": "stdout",
     "output_type": "stream",
     "text": [
      "3\n",
      "1\n",
      "Number of elements: 3\n"
     ]
    }
   ],
   "source": [
    "# How many rows and colums does this vector have?\n",
    "\n",
    "# 3 rwos and 1 colum\n",
    "\n",
    "# Use the definition at the top to implement this vector:\n",
    "\n",
    "vec =  {'rows': 3, 'cols': 1, 'data': [1,2,3]}\n",
    "\n",
    "# Can you print its dimensions? (rows, cols)\n",
    "\n",
    "print(vec[\"rows\"])\n",
    "print(vec[\"cols\"])\n",
    "\n",
    "# Can you print the number of elements?\n",
    "\n",
    "print(f'Number of elements: {len(vec)}')\n"
   ]
  },
  {
   "cell_type": "markdown",
   "id": "8de02084",
   "metadata": {},
   "source": [
    "### 3. Vectoren optellen**"
   ]
  },
  {
   "cell_type": "markdown",
   "id": "c2edbb39",
   "metadata": {},
   "source": [
    "Tel de onderstaande vectoren bij elkaar op:\n",
    "\n",
    "$$\n",
    "  \\begin{pmatrix}\n",
    "    1 \\\\\n",
    "    2 \\\\\n",
    "    3\n",
    "  \\end{pmatrix}\n",
    "  +\n",
    "    \\begin{pmatrix}\n",
    "    9 \\\\\n",
    "    8 \\\\\n",
    "    7\n",
    "  \\end{pmatrix}\n",
    "  =\n",
    "  ...\n",
    "$$"
   ]
  },
  {
   "cell_type": "code",
   "execution_count": 124,
   "id": "9fd6bc2a",
   "metadata": {
    "tags": []
   },
   "outputs": [
    {
     "name": "stdout",
     "output_type": "stream",
     "text": [
      "True\n",
      "[1, 2, 3, 9, 8, 7]\n",
      "[[9, 8, 7], 1, 2, 3]\n",
      "{'rows': 3, 'cols': 1, 'data': [10, 10, 10]}\n",
      "(10, 10, 14)\n"
     ]
    }
   ],
   "source": [
    "# Implement both vectors:\n",
    "\n",
    "vec_1 = {'rows': 3, 'cols': 1, 'data': [1,2,3]}\n",
    "vec_2 = {'rows': 3, 'cols': 1, 'data': [9,8,7]}\n",
    "\n",
    "# Can we add them? Check if dimensions are the same:\n",
    "\n",
    "addible = vec_1['rows'] + vec_1['cols'] == vec_2['rows'] + vec_2['cols']\n",
    "\n",
    "if addible == True:\n",
    "    print(True)\n",
    "else:\n",
    "    print(False)\n",
    "\n",
    "# How do you add these vectors by hand?\n",
    "\n",
    "# 1+9 = 10\n",
    "# 2+8 = 10\n",
    "# 3+7 = 10\n",
    "\n",
    "# Now add the vectors in code:\n",
    "\n",
    "# vec_1_data = vec_1[\"data\"]\n",
    "# vec_2_data = vec_2[\"data\"] # vec_sum loopt ook zonder nieuwe values\n",
    "\n",
    "vec_total = vec_1_data + vec_2_data\n",
    "print(vec_total)\n",
    "\n",
    "vec_total_redo = sum([vec_1_data], [vec_2_data])\n",
    "print(vec_total_redo)\n",
    "\n",
    "vec_sum = {'rows': 3, 'cols': 1, 'data':[0,0,0]}\n",
    "vec_sum['data'][0] = vec_1['data'][0] + vec_2['data'][0]\n",
    "vec_sum['data'][1] = vec_1['data'][1] + vec_2['data'][1]\n",
    "vec_sum['data'][2] = vec_1['data'][2] + vec_2['data'][2]\n",
    "\n",
    "print(vec_sum)\n",
    "\n",
    " # Het resultaat van m'n proberen en m'n zoeken\n",
    "\n",
    "vec_sum = vec_1_data[0] + vec_2_data[0], vec_1_data[1] + vec_2_data[1], vec_2_data[2] + vec_2_data[2]\n",
    "\n",
    "print(vec_sum)"
   ]
  },
  {
   "cell_type": "code",
   "execution_count": 125,
   "id": "2f41d6b8-d34b-4192-9f63-af7d6f22ba4f",
   "metadata": {
    "tags": []
   },
   "outputs": [
    {
     "name": "stdout",
     "output_type": "stream",
     "text": [
      "True\n",
      "{'rows': 3, 'cols': 1, 'data': [10, 10, 10]}\n"
     ]
    }
   ],
   "source": [
    "# Implement both vectors:\n",
    "\n",
    "vec_1 = {'rows': 3, 'cols': 1, 'data': [1,2,3]}\n",
    "vec_2 = {'rows': 3, 'cols': 1, 'data': [9,8,7]}\n",
    "\n",
    "# Can we add them? Check if dimensions are the same:\n",
    "\n",
    "addible = vec_1['rows'] + vec_1['cols'] == vec_2['rows'] + vec_2['cols']\n",
    "\n",
    "if addible == True:\n",
    "    print(True)\n",
    "else:\n",
    "    print(False)\n",
    "\n",
    "# How do you add these vectors by hand?\n",
    "\n",
    "# 1+9 = 10\n",
    "# 2+8 = 10\n",
    "# 3+7 = 10\n",
    "\n",
    "# Now add the vectors in code:\n",
    "\n",
    "# vec_1_data = vec_1[\"data\"]\n",
    "# vec_2_data = vec_2[\"data\"] # vec_sum loopt ook zonder nieuwe values\n",
    "\n",
    "\n",
    "vec_sum = {'rows': 3, 'cols': 1, 'data':[0,0,0]}\n",
    "vec_sum['data'][0] = vec_1['data'][0] + vec_2['data'][0]\n",
    "vec_sum['data'][1] = vec_1['data'][1] + vec_2['data'][1]\n",
    "vec_sum['data'][2] = vec_1['data'][2] + vec_2['data'][2]\n",
    "\n",
    "print(vec_sum)\n"
   ]
  },
  {
   "cell_type": "markdown",
   "id": "10e3be49",
   "metadata": {},
   "source": [
    "Tel de onderstaande vectoren bij elkaar op:\n",
    "\n",
    "$$\n",
    "  \\begin{pmatrix}\n",
    "    1 & 2 & 3\n",
    "  \\end{pmatrix}\n",
    "  +\n",
    "  \\begin{pmatrix}\n",
    "    9 & 8 & 7\n",
    "  \\end{pmatrix}\n",
    "  =\n",
    "  ...\n",
    "$$"
   ]
  },
  {
   "cell_type": "code",
   "execution_count": 126,
   "id": "3319db0c",
   "metadata": {
    "tags": []
   },
   "outputs": [
    {
     "name": "stdout",
     "output_type": "stream",
     "text": [
      "{'rows': 3, 'cols': 1, 'data': [10, 10, 10]}\n"
     ]
    }
   ],
   "source": [
    "# Implement both vectors:\n",
    "\n",
    "vec1 = {'rows': 1, 'cols': 3, 'data':[1,2,3]}\n",
    "vec2 = {'rows': 1, 'cols': 3, 'data':[9,8,7]}\n",
    "\n",
    "# Can we add them? Check if dimensions are the same:\n",
    "dimension_1 = list['rows','cols']\n",
    "dimension_2 = list['rows', 'cols']\n",
    "\n",
    "dimension_1 == dimension_2\n",
    "\n",
    "# How do you add these vectors by hand?\n",
    "\n",
    "# 1 + 9 = 10\n",
    "# 2 + 8 = 10\n",
    "# 3 + 7 = 10\n",
    "\n",
    "# Now add the vectors in code:\n",
    "vec_sum1 = {'rows': 3, 'cols': 1, 'data':[0,0,0]}\n",
    "\n",
    "vec_sum1['data'][0] = vec_1['data'][0] + vec_2['data'][0]\n",
    "vec_sum1['data'][1] = vec_1['data'][1] + vec_2['data'][1]\n",
    "vec_sum1['data'][2] = vec_1['data'][2] + vec_2['data'][2]\n",
    "\n",
    "print(vec_sum1)"
   ]
  },
  {
   "cell_type": "markdown",
   "id": "ecf7d53a",
   "metadata": {},
   "source": [
    "## Matrices"
   ]
  },
  {
   "cell_type": "markdown",
   "id": "aea58d0c",
   "metadata": {},
   "source": [
    "### 1. Een 3 x 3 matrix*"
   ]
  },
  {
   "cell_type": "markdown",
   "id": "8ecdf748",
   "metadata": {},
   "source": [
    "Representeer de onderstaande matrix in code:\n",
    "\n",
    "$$\n",
    "  \\begin{pmatrix}\n",
    "    1 & 2 & 3\\\\\n",
    "    4 & 5 & 6\\\\\n",
    "    7 & 8 & 9\\\\\n",
    "  \\end{pmatrix}\n",
    "$$"
   ]
  },
  {
   "cell_type": "code",
   "execution_count": 144,
   "id": "744a8d77",
   "metadata": {
    "tags": []
   },
   "outputs": [
    {
     "name": "stdout",
     "output_type": "stream",
     "text": [
      "Answer: This matrix has 3 rows and 3 colums\n",
      "Amount of elements in this matrix: 9\n"
     ]
    }
   ],
   "source": [
    "# How many rows and colums does this matrix have?\n",
    "# This matrix has 3 rows and 3 colums\n",
    "# Use the definition at the top to implement this matrix:\n",
    "# Can you print its dimensions? (rows, cols)\n",
    "\n",
    "mat = {'rows': 3, 'cols': 3, 'data':[1,2,3,4,5,6,7,8,9]}\n",
    "\n",
    "rows = mat['rows']\n",
    "cols = mat['cols']\n",
    "\n",
    "print(f'Answer: This matrix has {rows} rows and {cols} colums') \n",
    "\n",
    "\n",
    "# Can you print the number of elements?\n",
    "\n",
    "len_mat = len(mat['data'])\n",
    "print(f'Amount of elements in this matrix: {len_mat}')\n"
   ]
  },
  {
   "cell_type": "markdown",
   "id": "78d195fb",
   "metadata": {},
   "source": [
    "### 2. Matrices optellen**"
   ]
  },
  {
   "cell_type": "markdown",
   "id": "1554b6d8",
   "metadata": {},
   "source": [
    "Tel de onderstaande matrices op:\n",
    "\n",
    "$$\n",
    "  \\begin{pmatrix}\n",
    "    1 & 2 & 3\\\\\n",
    "    4 & 5 & 6\\\\\n",
    "    7 & 8 & 9\\\\\n",
    "  \\end{pmatrix}\n",
    "  +\n",
    "    \\begin{pmatrix}\n",
    "    9 & 8 & 7\\\\\n",
    "    6 & 5 & 4\\\\\n",
    "    3 & 2 & 1\\\\\n",
    "  \\end{pmatrix}\n",
    "  =\n",
    "  ...\n",
    "$$"
   ]
  },
  {
   "cell_type": "code",
   "execution_count": 15,
   "id": "ac6bd48c",
   "metadata": {
    "tags": []
   },
   "outputs": [
    {
     "name": "stdout",
     "output_type": "stream",
     "text": [
      "Yes we can add the matrixes\n",
      "[10, 10, 10, 10, 10, 10, 10, 10, 10]\n"
     ]
    }
   ],
   "source": [
    "# Implement both matrices:\n",
    "\n",
    "mat1 = {'rows': 3, 'cols': 3, 'data':[1,2,3,4,5,6,7,8,9]}\n",
    "mat2 = {'rows': 3, 'cols': 3, 'data':[9,8,7,6,5,4,3,2,1]}\n",
    "\n",
    "# Can we add them? Check if dimensions are the same:\n",
    "\n",
    "rows = mat1['rows'] == mat2['rows']\n",
    "cols = mat1['cols'] == mat2['cols'] \n",
    "\n",
    "if rows and cols == True:\n",
    "    print('Yes we can add the matrixes')\n",
    "elif rows == True:\n",
    "    print('Only rows have the same dimensions')\n",
    "elif cols == True:\n",
    "    print('Only cols have the same dimensions')\n",
    "else:\n",
    "    print('Please try something else. They do not match')\n",
    "# How do you add these matrices by hand?\n",
    "\n",
    "# 1+9 2+8 3+7\n",
    "# 4+6 5+5 6+4\n",
    "# 7+3 8+2 9+1\n",
    "\n",
    "# Now add the matrices in code:\n",
    "# Vraag: moet je de plekken maken inde lijst?\n",
    "\n",
    "mat_sum = {'rows': 3, 'cols': 3, 'data':[0,0,0,0,0,0,0,0,0]}\n",
    "\n",
    "counter = 0 \n",
    "\n",
    "mat_sum['data'][0] = mat1['data'][0] + mat2['data'][0]\n",
    "mat_sum['data'][1] = mat1['data'][1] + mat2['data'][1]\n",
    "\n",
    "data_mat1 = mat1['data']\n",
    "data_mat2 = mat2['data']\n",
    "\n",
    "data_mat_sum = []\n",
    "\n",
    "for i in range(len(data_mat2)):\n",
    "    data_mat_sum.append(data_mat1[i] + data_mat2[i])\n",
    "               \n",
    "print(data_mat_sum)\n",
    "# for data in mat_sum:\n",
    "# while [] in data <= 9:\n",
    "  #  print(mat_sum)\n",
    "   # index += 1\n",
    "\n",
    "\n",
    "# In case you didn't: can you generalize this algorithm?\n",
    "\n"
   ]
  },
  {
   "cell_type": "markdown",
   "id": "7bff9837",
   "metadata": {},
   "source": [
    "### 3. Matrices vermenigvuldigen***"
   ]
  },
  {
   "cell_type": "markdown",
   "id": "4dba734d",
   "metadata": {},
   "source": [
    "Vermenigvuldig de onderstaande matrices:\n",
    "\n",
    "$$\n",
    "  \\begin{pmatrix}\n",
    "    1 & 2 & 3\\\\\n",
    "    4 & 5 & 6\n",
    "  \\end{pmatrix}\n",
    "  *\n",
    "    \\begin{pmatrix}\n",
    "    9 & 8\\\\\n",
    "    6 & 5\\\\\n",
    "    3 & 2\\\\\n",
    "  \\end{pmatrix}\n",
    "  =\n",
    "  ...\n",
    "$$"
   ]
  },
  {
   "cell_type": "code",
   "execution_count": 43,
   "id": "9895aaab",
   "metadata": {
    "tags": []
   },
   "outputs": [
    {
     "ename": "NameError",
     "evalue": "name 'rows_mat1' is not defined",
     "output_type": "error",
     "traceback": [
      "\u001b[1;31m---------------------------------------------------------------------------\u001b[0m",
      "\u001b[1;31mNameError\u001b[0m                                 Traceback (most recent call last)",
      "Cell \u001b[1;32mIn[43], line 54\u001b[0m\n\u001b[0;32m     50\u001b[0m             result[i][j] \u001b[38;5;241m+\u001b[39m\u001b[38;5;241m=\u001b[39m a[i][k] \u001b[38;5;241m*\u001b[39m b[k][j]\n\u001b[0;32m     52\u001b[0m         \u001b[38;5;28;01mreturn\u001b[39;00m result\n\u001b[1;32m---> 54\u001b[0m \u001b[43mmultiply_matrices\u001b[49m\u001b[43m(\u001b[49m\u001b[43mmat1\u001b[49m\u001b[43m,\u001b[49m\u001b[43m \u001b[49m\u001b[43mmat2\u001b[49m\u001b[43m)\u001b[49m\n\u001b[0;32m     56\u001b[0m \u001b[38;5;66;03m# In case you didn't: can you generalize this algorithm?\u001b[39;00m\n\u001b[0;32m     57\u001b[0m \n\u001b[0;32m     58\u001b[0m \u001b[38;5;66;03m# ...\u001b[39;00m\n",
      "Cell \u001b[1;32mIn[43], line 47\u001b[0m, in \u001b[0;36mmultiply_matrices\u001b[1;34m(mat1, mat2)\u001b[0m\n\u001b[0;32m     45\u001b[0m \u001b[38;5;28;01mdef\u001b[39;00m \u001b[38;5;21mmultiply_matrices\u001b[39m(mat1, mat2):\n\u001b[1;32m---> 47\u001b[0m   \u001b[38;5;28;01mfor\u001b[39;00m i \u001b[38;5;129;01min\u001b[39;00m \u001b[38;5;28mrange\u001b[39m(\u001b[43mrows_mat1\u001b[49m):\n\u001b[0;32m     48\u001b[0m     \u001b[38;5;28;01mfor\u001b[39;00m j \u001b[38;5;129;01min\u001b[39;00m \u001b[38;5;28mrange\u001b[39m(cols_mat2):\n\u001b[0;32m     49\u001b[0m         \u001b[38;5;28;01mfor\u001b[39;00m k \u001b[38;5;129;01min\u001b[39;00m \u001b[38;5;28mrange\u001b[39m(cols_mat1):\n",
      "\u001b[1;31mNameError\u001b[0m: name 'rows_mat1' is not defined"
     ]
    }
   ],
   "source": [
    "# Implement both matrices:\n",
    "\n",
    "mat1 = {'rows': 2, 'cols': 3, 'data':[1,2,3,4,5,6]}\n",
    "mat2 = {'rows': 3, 'cols': 2, 'data':[9,8,6,5,3,2]}\n",
    "\n",
    "# Can we multiply them? Check if dimensions satisfy the (M by N) * (N by K) = (M by K) rule:\n",
    "\n",
    "mat1_dim = mat1['rows'] * mat1['cols']\n",
    "mat2_dim = mat2['rows'] * mat2['cols']\n",
    "\n",
    "mat1_dim * mat2_dim == mat1['rows'] * mat2['cols']\n",
    "\n",
    "# How do you multiply these matrices by hand?\n",
    "\n",
    "# 1*9 + 2*6 + 3*3\n",
    "# 4*9 + 5*6 + 6*3\n",
    "# 1*8 + \n",
    "\n",
    "# Now multiply the matrices in code:\n",
    "\n",
    "data_mat1 = mat1['data']\n",
    "data_mat2 = mat2['data']\n",
    "\n",
    "\n",
    "\n",
    "mat3 = {'rows': 3, 'cols': 3, 'data':[0,0]}\n",
    "\n",
    "counter = 0 \n",
    "\n",
    "mat3['data'][0] = mat1['data'][0] + mat2['data'][0]\n",
    "\n",
    "mat3['data'][1] = mat1['data'][1] + mat2['data'][1]\n",
    "\n",
    "\n",
    "# rows_mat1, cols_mat1 = len(mat1), len(mat1[0])\n",
    "   # rows_mat2, cols_mat2 = len(mat2), len(mat1[0])\n",
    "\n",
    "\n",
    "     #if cols_a != rows_b:\n",
    "         #   print(We cannot multiply)\n",
    "\n",
    "\n",
    "#\n",
    "\n",
    "\n",
    "def multiply_matrices(mat1, mat2):\n",
    "\n",
    "  for i in range(rows_mat1):\n",
    "    for j in range(cols_mat2):\n",
    "        for k in range(cols_mat1):\n",
    "            result[i][j] += a[i][k] * b[k][j]\n",
    "\n",
    "        return result\n",
    "\n",
    "multiply_matrices(mat1, mat2)\n",
    "\n",
    "# In case you didn't: can you generalize this algorithm?\n",
    "\n",
    "# ..."
   ]
  },
  {
   "cell_type": "code",
   "execution_count": 45,
   "id": "dc254cec-aaee-4333-9794-a54c800b7b5c",
   "metadata": {
    "tags": []
   },
   "outputs": [
    {
     "ename": "NameError",
     "evalue": "name 'Hi' is not defined",
     "output_type": "error",
     "traceback": [
      "\u001b[1;31m---------------------------------------------------------------------------\u001b[0m",
      "\u001b[1;31mNameError\u001b[0m                                 Traceback (most recent call last)",
      "Cell \u001b[1;32mIn[49], line 6\u001b[0m\n\u001b[0;32m      3\u001b[0m     last \u001b[38;5;241m=\u001b[39m \u001b[38;5;124m\"\u001b[39m\u001b[38;5;124mHunt\u001b[39m\u001b[38;5;124m\"\u001b[39m\n\u001b[0;32m      4\u001b[0m     \u001b[38;5;28mprint\u001b[39m(first \u001b[38;5;241m+\u001b[39m last)\n\u001b[1;32m----> 6\u001b[0m get_full_name(\u001b[43mHi\u001b[49m)\n",
      "\u001b[1;31mNameError\u001b[0m: name 'Hi' is not defined"
     ]
    }
   ],
   "source": [
    "def get_full_name():\n",
    "    first = \"Hannah \"\n",
    "    last = \"Hunt\"\n",
    "    print(first + last)\n",
    "\n",
    "get_full_name()"
   ]
  },
  {
   "cell_type": "code",
   "execution_count": 46,
   "id": "c05f8f95-0c8c-42dc-a61e-ba16119f6f88",
   "metadata": {
    "tags": []
   },
   "outputs": [],
   "source": [
    "def multiply_matrices(mat1, mat2):\n",
    "    print(mat1[i] * mat2[i])\n",
    "    "
   ]
  },
  {
   "cell_type": "code",
   "execution_count": null,
   "id": "f1041456-09b7-441f-9602-997484e6979b",
   "metadata": {},
   "outputs": [],
   "source": [
    "def check_compatible():\n",
    "    mat1 = len(mat"
   ]
  },
  {
   "cell_type": "code",
   "execution_count": 50,
   "id": "9cfc9e78-0b6d-4bc7-ae60-256f312dd39f",
   "metadata": {
    "tags": []
   },
   "outputs": [],
   "source": [
    "def matrixMultiplication(m0, m1):\n",
    "    \n",
    "    # match\n",
    "    if len(m0) != len(m1):\n",
    "        return m2\n",
    "\n",
    "\n",
    "\n",
    "    \n",
    "\n",
    "m0 = [-1, 1]\n",
    "m1 = [1,1]\n",
    "\n"
   ]
  },
  {
   "cell_type": "code",
   "execution_count": null,
   "id": "06205709-5950-4b94-b189-df302dea1d77",
   "metadata": {},
   "outputs": [],
   "source": []
  }
 ],
 "metadata": {
  "kernelspec": {
   "display_name": "Python 3 (ipykernel)",
   "language": "python",
   "name": "python3"
  },
  "language_info": {
   "codemirror_mode": {
    "name": "ipython",
    "version": 3
   },
   "file_extension": ".py",
   "mimetype": "text/x-python",
   "name": "python",
   "nbconvert_exporter": "python",
   "pygments_lexer": "ipython3",
   "version": "3.11.1"
  }
 },
 "nbformat": 4,
 "nbformat_minor": 5
}
