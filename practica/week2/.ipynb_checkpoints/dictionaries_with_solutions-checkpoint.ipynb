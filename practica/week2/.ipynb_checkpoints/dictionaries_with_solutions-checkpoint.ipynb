{
 "cells": [
  {
   "cell_type": "markdown",
   "id": "5713f5a7-348e-4905-a2dc-b4b750d3eb7b",
   "metadata": {},
   "source": [
    "<div>\n",
    "    <img src='../../pics/banner.PNG'/>\n",
    "</div>\n",
    "<div>\n",
    "    <img width=\"10%\" height=\"10%\" src='../../pics/python-programming.png'/>\n",
    "    <img src='../../pics/miw.PNG'/>\n",
    "</div>\n",
    "<div>\n",
    "    <em>Author: Jeroen Boogaard</em>\n",
    "</div>"
   ]
  },
  {
   "cell_type": "markdown",
   "id": "8c60c67e-7b39-45ac-acd5-54e1013ec115",
   "metadata": {},
   "source": [
    "---"
   ]
  },
  {
   "cell_type": "markdown",
   "id": "d697ae0a-1505-43f5-817d-efeaed6009a4",
   "metadata": {},
   "source": [
    "<h1>Samengestelde variabelen - Dictionaries</h1>"
   ]
  },
  {
   "cell_type": "markdown",
   "id": "5968c213-ab8e-41d5-b245-a23956f3af6f",
   "metadata": {},
   "source": [
    "**Een dictionary is een <u>mutable</u> dataverzameling van <u>key-value pairs</u>**"
   ]
  },
  {
   "cell_type": "markdown",
   "id": "11f5f3d4-8ca8-475f-b552-6ec65b351da0",
   "metadata": {},
   "source": [
    "<h3>Imports</h3>"
   ]
  },
  {
   "cell_type": "code",
   "execution_count": null,
   "id": "8a0fad6b-921c-4066-a0a9-c6a2bdb00549",
   "metadata": {
    "tags": []
   },
   "outputs": [],
   "source": [
    "from PIL import Image\n",
    "import csv\n",
    "import json\n",
    "import pathlib\n",
    "# Pretty Print a Dictionary using pprint\n",
    "import pprint"
   ]
  },
  {
   "cell_type": "markdown",
   "id": "5812a326-b1a7-409e-9b2d-7b2bb5102532",
   "metadata": {},
   "source": [
    "<h3>Dictionary variabelen aanmaken en afdrukken</h3>"
   ]
  },
  {
   "cell_type": "code",
   "execution_count": null,
   "id": "0dabdb25-6ff5-4edc-96fd-7019734055e0",
   "metadata": {},
   "outputs": [],
   "source": [
    "marslanderSpecs = { 'length': 6, 'width': 1.56, 'weight': 360, 'deckHeight': (83, 108), 'robotArmLength': 1.8, 'numberOfSolarPanels': 2}\n",
    "marslanderSpecs.items()"
   ]
  },
  {
   "cell_type": "markdown",
   "id": "839821d9-8d2c-4c18-a55e-c7645cbb3160",
   "metadata": {},
   "source": [
    "De <i>String Formatting Operator</i> maakt gebruik van een <i>tuple</i>"
   ]
  },
  {
   "cell_type": "code",
   "execution_count": null,
   "id": "9fc3a9ee-6b10-41e0-9d45-6d4b85940f7f",
   "metadata": {},
   "outputs": [],
   "source": [
    "print(type(marslanderSpecs.get('deckHeight')))\n",
    "print( 'The Deck Height of the Marslander has a range from %s to %s' %marslanderSpecs.get('deckHeight'))"
   ]
  },
  {
   "cell_type": "markdown",
   "id": "db849391-b9b9-4900-95ba-24d21c65138f",
   "metadata": {},
   "source": [
    "<h3>Elementen toevoegen</h3>"
   ]
  },
  {
   "cell_type": "markdown",
   "id": "7407930c-6949-4c05-97c7-aded1c5b5455",
   "metadata": {},
   "source": [
    "**Voeg elementen toe via een merge met een tweede dictionary**"
   ]
  },
  {
   "cell_type": "code",
   "execution_count": null,
   "id": "9f7810ed-c68f-425f-b88a-f47e0759e355",
   "metadata": {
    "tags": []
   },
   "outputs": [],
   "source": [
    "marslanderSpecs = marslanderSpecs | {'scienceInstruments' : (\"seismometer\", \"heat probe\", \"radio science experiment\")}\n",
    "pprint.pprint(marslanderSpecs)"
   ]
  },
  {
   "cell_type": "markdown",
   "id": "999f816b-0de2-4e19-9faa-12f90ed33d25",
   "metadata": {
    "tags": []
   },
   "source": [
    "<h3>Excercise 1</h3>\n",
    "<h4>Gegeven</h4>"
   ]
  },
  {
   "cell_type": "code",
   "execution_count": null,
   "id": "786be27d-ff7a-496e-9e6a-2da92b0180ba",
   "metadata": {
    "tags": []
   },
   "outputs": [],
   "source": [
    "imgTuple = ('image',\"../../pics/mars.nasa.jpg\")"
   ]
  },
  {
   "cell_type": "markdown",
   "id": "bc1168d3-72a3-4e48-ab08-cbc743ad51a5",
   "metadata": {},
   "source": [
    "<h4>Gevraagd</h4>\n",
    "<p>Voeg het element <i>image</i> toe m.b.v. de variabele <u>imgTuple</u>"
   ]
  },
  {
   "cell_type": "markdown",
   "id": "8610a4a8-ae31-4c2e-aa0f-71dd76d563d9",
   "metadata": {},
   "source": [
    "<h4>Oplossing</h4>"
   ]
  },
  {
   "cell_type": "code",
   "execution_count": null,
   "id": "321b9ef8-559f-4f09-8110-0d07f6091807",
   "metadata": {},
   "outputs": [],
   "source": [
    "# Oplossing\n",
    "\n",
    "# Verwerk de tuple in een nieuwe dictionary\n",
    "newDictItem = dict({imgTuple[0]: imgTuple[1]})\n",
    "\n",
    "# Oplossing m.b.v. update\n",
    "marslanderSpecs.update(newDictItem)\n",
    "pprint.pprint(marslanderSpecs)\n",
    "\n",
    "print(\"\\n\")\n",
    "\n",
    "# Oplossing m.b.v. merge\n",
    "marslanderSpecs = marslanderSpecs | newDictItem\n",
    "pprint.pprint(marslanderSpecs)"
   ]
  },
  {
   "cell_type": "markdown",
   "id": "a046bb7e-a5d0-418b-8028-1f682fee2723",
   "metadata": {},
   "source": [
    "<h3>Visualisatie</h3>"
   ]
  },
  {
   "cell_type": "markdown",
   "id": "0dd8cab6-9c61-4baf-b09f-c37959fc3182",
   "metadata": {},
   "source": [
    "**Gebruik de Python Imaging Library (PIL) voor het renderen van een Image** "
   ]
  },
  {
   "cell_type": "code",
   "execution_count": null,
   "id": "a5c8766a-170a-44a6-b690-02365160786e",
   "metadata": {
    "tags": []
   },
   "outputs": [],
   "source": [
    "img = Image.open(imgTuple[1])\n",
    "percentage = 0.4\n",
    "width, height = img.size\n",
    "resizedDimensions = (int(width * percentage), int(height * percentage))\n",
    "resizedImg = img.resize(resizedDimensions)\n",
    "resizedImg.show()"
   ]
  },
  {
   "cell_type": "markdown",
   "id": "8d7f5afb-dd50-47e3-8df8-87d6c98a1ac4",
   "metadata": {},
   "source": [
    "<h3>Exporteren</h3>"
   ]
  },
  {
   "cell_type": "code",
   "execution_count": null,
   "id": "9d006a57-80f9-4d46-b23f-4c13282abafa",
   "metadata": {
    "tags": []
   },
   "outputs": [],
   "source": [
    "pathlib.Path('../../json').mkdir(parents=True, exist_ok=True)"
   ]
  },
  {
   "cell_type": "markdown",
   "id": "f7975fbd-67bb-423c-ab0e-d500a9075c66",
   "metadata": {},
   "source": [
    "**Gebruik de json library voor het exporteren naar een JSon-file**"
   ]
  },
  {
   "cell_type": "code",
   "execution_count": null,
   "id": "ea94991d-bbc4-4ec3-881e-e0a67282ffd2",
   "metadata": {
    "tags": []
   },
   "outputs": [],
   "source": [
    "with open(\"../../json/marslander.json\", \"w\") as outfile:\n",
    "    json.dump(marslanderSpecs, outfile)"
   ]
  },
  {
   "cell_type": "markdown",
   "id": "ef481205-753b-42ef-858d-84696e760708",
   "metadata": {},
   "source": [
    "<h3>Excercise 2</h3>\n",
    "<p>\n",
    "    <ol>\n",
    "        <li>Maak de directory <i>../../csv</i> aan</li>\n",
    "        <li>Exporteer de dictionary marslanderSpecs naar het bestand <i>../../csv/marslander.csv</i> m.b.v. de library <u>csv</i>\n",
    "    </ol>\n",
    "    <strong>TIP : </strong>Zoek op <a>https://stackoverflow.com/</a> naar geschikte voorbeelden\n",
    "</p> "
   ]
  },
  {
   "cell_type": "code",
   "execution_count": null,
   "id": "3523e1e4-7d33-43d3-bae3-b622b0ac7d34",
   "metadata": {},
   "outputs": [],
   "source": [
    "# Maak directory ../../csv\n",
    "pathlib.Path('../../csv').mkdir(parents=True, exist_ok=True)\n",
    "\n",
    "# Maak exportbestand aan\n",
    "with open(\"../../csv/marslander.csv\", \"w\") as csvFile:\n",
    "    # Gebruik de dictionary keys als kolomnamen\n",
    "    writer = csv.DictWriter(csvFile, fieldnames=marslanderSpecs.keys())\n",
    "    \n",
    "    # Eerste rij is de header met kolomnamen\n",
    "    writer.writeheader()    \n",
    "    \n",
    "    # Tweede rij is een record van de dictionary values \n",
    "    writer.writerow(marslanderSpecs)"
   ]
  },
  {
   "cell_type": "markdown",
   "id": "09a77d13-56a2-4d84-9554-266bac12c8bb",
   "metadata": {},
   "source": [
    "<h3>Mutaties</h3>"
   ]
  },
  {
   "cell_type": "markdown",
   "id": "5c443d17-4f1c-444d-988a-28753319ebe5",
   "metadata": {},
   "source": [
    "**Voorkom information loss door de inhoud van de dictionary eerst naar een ander plaats in het geheugen te kopiëren**"
   ]
  },
  {
   "cell_type": "code",
   "execution_count": null,
   "id": "3756229c-0b16-43b6-a495-c8bce87ff708",
   "metadata": {},
   "outputs": [],
   "source": [
    "marslanderSpecsCopy = marslanderSpecs.copy()"
   ]
  },
  {
   "cell_type": "markdown",
   "id": "0e990d4a-a8e3-4230-8749-a72347ffdb84",
   "metadata": {},
   "source": [
    "<p>De volgorde van waarmee items uit een data colection worden gepopt is Last In First Out (LIFO)</p>"
   ]
  },
  {
   "cell_type": "code",
   "execution_count": null,
   "id": "7fead617-0c2b-47f0-b535-084cde28ef54",
   "metadata": {},
   "outputs": [],
   "source": [
    "lastItem = marslanderSpecsCopy.popitem()\n",
    "print(lastItem) "
   ]
  },
  {
   "cell_type": "markdown",
   "id": "6e5c60aa-5693-4098-bcca-7d9b735c439e",
   "metadata": {},
   "source": [
    "<h3>Exercise 3</h3>\n",
    "<h4>Gegeven</h4>"
   ]
  },
  {
   "cell_type": "code",
   "execution_count": null,
   "id": "b78f2633-5fcd-46ab-a3a0-bcefb541d7e1",
   "metadata": {},
   "outputs": [],
   "source": [
    "moonlanderSpecs = { 'name': \"Apollo Lunar Module\", 'length': 7.04, 'width': 9.4 }\n",
    "moonlanderSpecsCopy = moonlanderSpecs"
   ]
  },
  {
   "cell_type": "markdown",
   "id": "28b30616-b186-4b6e-9d4e-1c307d4e1b0f",
   "metadata": {},
   "source": [
    "<h4>Gevraagd</h4>\n",
    "<p>\n",
    "Toon m.b.v. mutaties aan dat moonlanderSpecs en moonlanderSpecsCopy naar dezelfde plaats in het geheugen refereren. \n",
    "</p>"
   ]
  },
  {
   "cell_type": "markdown",
   "id": "8fefac94-8935-4a0b-94ea-f9ac86e6c1fa",
   "metadata": {},
   "source": [
    "<h4>Oplossing</h4>"
   ]
  },
  {
   "cell_type": "code",
   "execution_count": null,
   "id": "76955594-1a07-4e1a-abff-e77b717a8cf0",
   "metadata": {},
   "outputs": [],
   "source": [
    "# Oplossing\n",
    "\n",
    "# Toon aan dat een wijziging aan moonlanderSpecs ook wordt doorgevoerd in moonlanderSpecsCopy\n",
    "moonlanderSpecs.update({'target': \"moon\"})\n",
    "print(moonlanderSpecs == moonlanderSpecsCopy)\n",
    "\n",
    "# Toon aan dat een wijziging aan moonlanderSpecsCopy ook wordt doorgevoerd in moonlanderSpecs\n",
    "moonlanderSpecsCopy.popitem()\n",
    "print(moonlanderSpecs == moonlanderSpecsCopy)"
   ]
  },
  {
   "cell_type": "markdown",
   "id": "141254b3-9a26-4a73-9477-dc5701d8b72c",
   "metadata": {},
   "source": [
    "<h3>Iteratie</h3>"
   ]
  },
  {
   "cell_type": "code",
   "execution_count": null,
   "id": "65af11f0-5de0-40c7-b075-8f930bc27801",
   "metadata": {
    "tags": []
   },
   "outputs": [],
   "source": [
    "for key, value in marslanderSpecs.items():\n",
    "    print(key, value)"
   ]
  },
  {
   "cell_type": "markdown",
   "id": "8d0e34dc-3d69-47c1-9e78-e9b7124c63b7",
   "metadata": {},
   "source": [
    "<h3>Exercise 4</h3>\n",
    "<p>Laat m.b.v. iteratie zien dat <u>alle</u> elementen van een dictionary 2-tuples zijn</p>"
   ]
  },
  {
   "cell_type": "code",
   "execution_count": null,
   "id": "68dc008a-32f0-4b7f-8f9e-fb179dee9e5f",
   "metadata": {},
   "outputs": [],
   "source": [
    "# Oplossing\n",
    "for item in marslanderSpecs.items():\n",
    "    print( f\"{len(item)}-{type(item)}\" )    \n",
    "    \n",
    "print(\"\\n\")    \n",
    "    \n",
    "# Alternatieve oplossing\n",
    "for (key, value) in marslanderSpecs.items():\n",
    "    print( f\"{key}: {value}\" )    "
   ]
  },
  {
   "cell_type": "markdown",
   "id": "a5514288-5623-4f8c-a41e-f4782fddf522",
   "metadata": {},
   "source": [
    "<p><strong>NB : </strong>Zorg ervoor dat je zowel dit notebook als het bij Execercise 1 aangemaakte csv-bestand naar je remote git repository pusht</p>"
   ]
  }
 ],
 "metadata": {
  "kernelspec": {
   "display_name": "Python 3 (ipykernel)",
   "language": "python",
   "name": "python3"
  },
  "language_info": {
   "codemirror_mode": {
    "name": "ipython",
    "version": 3
   },
   "file_extension": ".py",
   "mimetype": "text/x-python",
   "name": "python",
   "nbconvert_exporter": "python",
   "pygments_lexer": "ipython3",
   "version": "3.10.8"
  }
 },
 "nbformat": 4,
 "nbformat_minor": 5
}
