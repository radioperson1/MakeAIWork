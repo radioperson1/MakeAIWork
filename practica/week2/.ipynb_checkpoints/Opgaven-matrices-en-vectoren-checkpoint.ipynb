{
 "cells": [
  {
   "cell_type": "markdown",
   "id": "2ea724be",
   "metadata": {},
   "source": [
    "# Matrices en vectoren"
   ]
  },
  {
   "cell_type": "markdown",
   "id": "18595eca",
   "metadata": {},
   "source": [
    "Er zijn meerdere manieren om een matrix te representeren.\n",
    "\n",
    "Hier kiezen we voor het volgende datamodel:\n",
    "\n",
    "`matrix_2D :: {rows: int, cols: int, data: []}`\n",
    "\n",
    "Implementeer onderstaande opdrachten in Python."
   ]
  },
  {
   "cell_type": "markdown",
   "id": "42182308",
   "metadata": {},
   "source": [
    "## Vectoren"
   ]
  },
  {
   "cell_type": "markdown",
   "id": "db43ccb1",
   "metadata": {},
   "source": [
    "### 1. Een vector als rij*"
   ]
  },
  {
   "cell_type": "markdown",
   "id": "e9ac731a",
   "metadata": {},
   "source": [
    "Representeer de onderstaande vector in code:\n",
    "\n",
    "$$\n",
    "  \\begin{pmatrix}\n",
    "    1 & 2 & 3\n",
    "  \\end{pmatrix}\n",
    "$$"
   ]
  },
  {
   "cell_type": "code",
   "execution_count": 28,
   "id": "72c55633",
   "metadata": {
    "tags": []
   },
   "outputs": [
    {
     "name": "stdout",
     "output_type": "stream",
     "text": [
      "1\n",
      "3\n",
      "3\n"
     ]
    }
   ],
   "source": [
    "# How many rows and colums does this vector have?\n",
    "\n",
    "# 1 row en 3 colums\n",
    "\n",
    "# Use the definition at the top to implement this vector:\n",
    "\n",
    "vec =  {'rows': 1, 'cols': 3, 'data': [1,2,3]}\n",
    "\n",
    "# Can you print its dimensions? (rows, cols)\n",
    "\n",
    "print(vec[\"rows\"])\n",
    "print(vec[\"cols\"])\n",
    "\n",
    "# Can you print the number of elements?\n",
    "\n",
    "print(len(vec))"
   ]
  },
  {
   "cell_type": "markdown",
   "id": "0abbc0ad",
   "metadata": {},
   "source": [
    "### 2. Een vector als kolom*"
   ]
  },
  {
   "cell_type": "markdown",
   "id": "ac4f647f",
   "metadata": {},
   "source": [
    "Representeer de onderstaande vector in code:\n",
    "\n",
    "$$\n",
    "  \\begin{pmatrix}\n",
    "    1 \\\\\n",
    "    2 \\\\\n",
    "    3\n",
    "  \\end{pmatrix}\n",
    "$$"
   ]
  },
  {
   "cell_type": "code",
   "execution_count": 56,
   "id": "f4f6bfc9",
   "metadata": {
    "tags": []
   },
   "outputs": [
    {
     "name": "stdout",
     "output_type": "stream",
     "text": [
      "3\n",
      "1\n",
      "Number of elements: 3\n"
     ]
    }
   ],
   "source": [
    "# How many rows and colums does this vector have?\n",
    "\n",
    "# 3 rwos and 1 colum\n",
    "\n",
    "# Use the definition at the top to implement this vector:\n",
    "\n",
    "vec =  {'rows': 3, 'cols': 1, 'data': [1,2,3]}\n",
    "\n",
    "# Can you print its dimensions? (rows, cols)\n",
    "\n",
    "print(vec[\"rows\"])\n",
    "print(vec[\"cols\"])\n",
    "\n",
    "# Can you print the number of elements?\n",
    "\n",
    "print(f'Number of elements: {len(vec)}')\n"
   ]
  },
  {
   "cell_type": "markdown",
   "id": "8de02084",
   "metadata": {},
   "source": [
    "### 3. Vectoren optellen**"
   ]
  },
  {
   "cell_type": "markdown",
   "id": "c2edbb39",
   "metadata": {},
   "source": [
    "Tel de onderstaande vectoren bij elkaar op:\n",
    "\n",
    "$$\n",
    "  \\begin{pmatrix}\n",
    "    1 \\\\\n",
    "    2 \\\\\n",
    "    3\n",
    "  \\end{pmatrix}\n",
    "  +\n",
    "    \\begin{pmatrix}\n",
    "    9 \\\\\n",
    "    8 \\\\\n",
    "    7\n",
    "  \\end{pmatrix}\n",
    "  =\n",
    "  ...\n",
    "$$"
   ]
  },
  {
   "cell_type": "code",
   "execution_count": 124,
   "id": "9fd6bc2a",
   "metadata": {
    "tags": []
   },
   "outputs": [
    {
     "name": "stdout",
     "output_type": "stream",
     "text": [
      "True\n",
      "[1, 2, 3, 9, 8, 7]\n",
      "[[9, 8, 7], 1, 2, 3]\n",
      "{'rows': 3, 'cols': 1, 'data': [10, 10, 10]}\n",
      "(10, 10, 14)\n"
     ]
    }
   ],
   "source": [
    "# Implement both vectors:\n",
    "\n",
    "vec_1 = {'rows': 3, 'cols': 1, 'data': [1,2,3]}\n",
    "vec_2 = {'rows': 3, 'cols': 1, 'data': [9,8,7]}\n",
    "\n",
    "# Can we add them? Check if dimensions are the same:\n",
    "\n",
    "addible = vec_1['rows'] + vec_1['cols'] == vec_2['rows'] + vec_2['cols']\n",
    "\n",
    "if addible == True:\n",
    "    print(True)\n",
    "else:\n",
    "    print(False)\n",
    "\n",
    "# How do you add these vectors by hand?\n",
    "\n",
    "# 1+9 = 10\n",
    "# 2+8 = 10\n",
    "# 3+7 = 10\n",
    "\n",
    "# Now add the vectors in code:\n",
    "\n",
    "# vec_1_data = vec_1[\"data\"]\n",
    "# vec_2_data = vec_2[\"data\"] # vec_sum loopt ook zonder nieuwe values\n",
    "\n",
    "vec_total = vec_1_data + vec_2_data\n",
    "print(vec_total)\n",
    "\n",
    "vec_total_redo = sum([vec_1_data], [vec_2_data])\n",
    "print(vec_total_redo)\n",
    "\n",
    "vec_sum = {'rows': 3, 'cols': 1, 'data':[0,0,0]}\n",
    "vec_sum['data'][0] = vec_1['data'][0] + vec_2['data'][0]\n",
    "vec_sum['data'][1] = vec_1['data'][1] + vec_2['data'][1]\n",
    "vec_sum['data'][2] = vec_1['data'][2] + vec_2['data'][2]\n",
    "\n",
    "print(vec_sum)\n",
    "\n",
    " # Het resultaat van m'n proberen en m'n zoeken\n",
    "\n",
    "vec_sum = vec_1_data[0] + vec_2_data[0], vec_1_data[1] + vec_2_data[1], vec_2_data[2] + vec_2_data[2]\n",
    "\n",
    "print(vec_sum)"
   ]
  },
  {
   "cell_type": "code",
   "execution_count": 125,
   "id": "2f41d6b8-d34b-4192-9f63-af7d6f22ba4f",
   "metadata": {
    "tags": []
   },
   "outputs": [
    {
     "name": "stdout",
     "output_type": "stream",
     "text": [
      "True\n",
      "{'rows': 3, 'cols': 1, 'data': [10, 10, 10]}\n"
     ]
    }
   ],
   "source": [
    "# Implement both vectors:\n",
    "\n",
    "vec_1 = {'rows': 3, 'cols': 1, 'data': [1,2,3]}\n",
    "vec_2 = {'rows': 3, 'cols': 1, 'data': [9,8,7]}\n",
    "\n",
    "# Can we add them? Check if dimensions are the same:\n",
    "\n",
    "addible = vec_1['rows'] + vec_1['cols'] == vec_2['rows'] + vec_2['cols']\n",
    "\n",
    "if addible == True:\n",
    "    print(True)\n",
    "else:\n",
    "    print(False)\n",
    "\n",
    "# How do you add these vectors by hand?\n",
    "\n",
    "# 1+9 = 10\n",
    "# 2+8 = 10\n",
    "# 3+7 = 10\n",
    "\n",
    "# Now add the vectors in code:\n",
    "\n",
    "# vec_1_data = vec_1[\"data\"]\n",
    "# vec_2_data = vec_2[\"data\"] # vec_sum loopt ook zonder nieuwe values\n",
    "\n",
    "\n",
    "vec_sum = {'rows': 3, 'cols': 1, 'data':[0,0,0]}\n",
    "vec_sum['data'][0] = vec_1['data'][0] + vec_2['data'][0]\n",
    "vec_sum['data'][1] = vec_1['data'][1] + vec_2['data'][1]\n",
    "vec_sum['data'][2] = vec_1['data'][2] + vec_2['data'][2]\n",
    "\n",
    "print(vec_sum)\n"
   ]
  },
  {
   "cell_type": "markdown",
   "id": "10e3be49",
   "metadata": {},
   "source": [
    "Tel de onderstaande vectoren bij elkaar op:\n",
    "\n",
    "$$\n",
    "  \\begin{pmatrix}\n",
    "    1 & 2 & 3\n",
    "  \\end{pmatrix}\n",
    "  +\n",
    "  \\begin{pmatrix}\n",
    "    9 & 8 & 7\n",
    "  \\end{pmatrix}\n",
    "  =\n",
    "  ...\n",
    "$$"
   ]
  },
  {
   "cell_type": "code",
   "execution_count": 126,
   "id": "3319db0c",
   "metadata": {
    "tags": []
   },
   "outputs": [
    {
     "name": "stdout",
     "output_type": "stream",
     "text": [
      "{'rows': 3, 'cols': 1, 'data': [10, 10, 10]}\n"
     ]
    }
   ],
   "source": [
    "# Implement both vectors:\n",
    "\n",
    "vec1 = {'rows': 1, 'cols': 3, 'data':[1,2,3]}\n",
    "vec2 = {'rows': 1, 'cols': 3, 'data':[9,8,7]}\n",
    "\n",
    "# Can we add them? Check if dimensions are the same:\n",
    "dimension_1 = list['rows','cols']\n",
    "dimension_2 = list['rows', 'cols']\n",
    "\n",
    "dimension_1 == dimension_2\n",
    "\n",
    "# How do you add these vectors by hand?\n",
    "\n",
    "# 1 + 9 = 10\n",
    "# 2 + 8 = 10\n",
    "# 3 + 7 = 10\n",
    "\n",
    "# Now add the vectors in code:\n",
    "vec_sum1 = {'rows': 3, 'cols': 1, 'data':[0,0,0]}\n",
    "\n",
    "vec_sum1['data'][0] = vec_1['data'][0] + vec_2['data'][0]\n",
    "vec_sum1['data'][1] = vec_1['data'][1] + vec_2['data'][1]\n",
    "vec_sum1['data'][2] = vec_1['data'][2] + vec_2['data'][2]\n",
    "\n",
    "print(vec_sum1)"
   ]
  },
  {
   "cell_type": "markdown",
   "id": "ecf7d53a",
   "metadata": {},
   "source": [
    "## Matrices"
   ]
  },
  {
   "cell_type": "markdown",
   "id": "aea58d0c",
   "metadata": {},
   "source": [
    "### 1. Een 3 x 3 matrix*"
   ]
  },
  {
   "cell_type": "markdown",
   "id": "8ecdf748",
   "metadata": {},
   "source": [
    "Representeer de onderstaande matrix in code:\n",
    "\n",
    "$$\n",
    "  \\begin{pmatrix}\n",
    "    1 & 2 & 3\\\\\n",
    "    4 & 5 & 6\\\\\n",
    "    7 & 8 & 9\\\\\n",
    "  \\end{pmatrix}\n",
    "$$"
   ]
  },
  {
   "cell_type": "code",
   "execution_count": 144,
   "id": "744a8d77",
   "metadata": {
    "tags": []
   },
   "outputs": [
    {
     "name": "stdout",
     "output_type": "stream",
     "text": [
      "Answer: This matrix has 3 rows and 3 colums\n",
      "Amount of elements in this matrix: 9\n"
     ]
    }
   ],
   "source": [
    "# How many rows and colums does this matrix have?\n",
    "# This matrix has 3 rows and 3 colums\n",
    "# Use the definition at the top to implement this matrix:\n",
    "# Can you print its dimensions? (rows, cols)\n",
    "\n",
    "mat = {'rows': 3, 'cols': 3, 'data':[1,2,3,4,5,6,7,8,9]}\n",
    "\n",
    "rows = mat['rows']\n",
    "cols = mat['cols']\n",
    "\n",
    "print(f'Answer: This matrix has {rows} rows and {cols} colums') \n",
    "\n",
    "\n",
    "# Can you print the number of elements?\n",
    "\n",
    "len_mat = len(mat['data'])\n",
    "print(f'Amount of elements in this matrix: {len_mat}')\n"
   ]
  },
  {
   "cell_type": "markdown",
   "id": "78d195fb",
   "metadata": {},
   "source": [
    "### 2. Matrices optellen**"
   ]
  },
  {
   "cell_type": "markdown",
   "id": "1554b6d8",
   "metadata": {},
   "source": [
    "Tel de onderstaande matrices op:\n",
    "\n",
    "$$\n",
    "  \\begin{pmatrix}\n",
    "    1 & 2 & 3\\\\\n",
    "    4 & 5 & 6\\\\\n",
    "    7 & 8 & 9\\\\\n",
    "  \\end{pmatrix}\n",
    "  +\n",
    "    \\begin{pmatrix}\n",
    "    9 & 8 & 7\\\\\n",
    "    6 & 5 & 4\\\\\n",
    "    3 & 2 & 1\\\\\n",
    "  \\end{pmatrix}\n",
    "  =\n",
    "  ...\n",
    "$$"
   ]
  },
  {
   "cell_type": "code",
   "execution_count": 154,
   "id": "ac6bd48c",
   "metadata": {
    "tags": []
   },
   "outputs": [
    {
     "ename": "SyntaxError",
     "evalue": "incomplete input (3528157845.py, line 40)",
     "output_type": "error",
     "traceback": [
      "\u001b[1;36m  Cell \u001b[1;32mIn[154], line 40\u001b[1;36m\u001b[0m\n\u001b[1;33m    # ...\u001b[0m\n\u001b[1;37m         ^\u001b[0m\n\u001b[1;31mSyntaxError\u001b[0m\u001b[1;31m:\u001b[0m incomplete input\n"
     ]
    }
   ],
   "source": [
    "# Implement both matrices:\n",
    "\n",
    "mat1 = {'rows': 3, 'cols': 3, 'data':[1,2,3,4,5,6,7,8,9]}\n",
    "mat2 = {'rows': 3, 'cols': 3, 'data':[9,8,7,6,5,4,3,2,1]}\n",
    "\n",
    "# Can we add them? Check if dimensions are the same:\n",
    "\n",
    "rows = mat1['rows'] == mat2['rows']\n",
    "cols = mat1['cols'] == mat2['cols'] \n",
    "\n",
    "if rows and cols == True:\n",
    "    print('Yes we can add the matrixes')\n",
    "elif rows == True:\n",
    "    print('Only rows have the same dimensions')\n",
    "elif cols == True:\n",
    "    print('Only cols have the same dimensions')\n",
    "else:\n",
    "    print('Please try something else. They do not match')\n",
    "# How do you add these matrices by hand?\n",
    "\n",
    "# 1+9 2+8 3+7\n",
    "# 4+6 5+5 6+4\n",
    "# 7+3 8+2 9+1\n",
    "\n",
    "# Now add the matrices in code:\n",
    "# Vraag: moet je de plekken maken inde lijst?\n",
    "\n",
    "mat_sum = {'rows': 3, 'cols': 3, 'data':[0,0,0,0,0,0,0,0,0]}\n",
    "\n",
    "counter = 0 \n",
    "\n",
    "mat_sum['data'][0] = mat1['data'][0] + mat2['data'][0]\n",
    "\n",
    "    \n",
    "\n",
    "\n",
    "# In case you didn't: can you generalize this algorithm?\n",
    "\n"
   ]
  },
  {
   "cell_type": "markdown",
   "id": "7bff9837",
   "metadata": {},
   "source": [
    "### 3. Matrices vermenigvuldigen***"
   ]
  },
  {
   "cell_type": "markdown",
   "id": "4dba734d",
   "metadata": {},
   "source": [
    "Vermenigvuldig de onderstaande matrices:\n",
    "\n",
    "$$\n",
    "  \\begin{pmatrix}\n",
    "    1 & 2 & 3\\\\\n",
    "    4 & 5 & 6\n",
    "  \\end{pmatrix}\n",
    "  *\n",
    "    \\begin{pmatrix}\n",
    "    9 & 8\\\\\n",
    "    6 & 5\\\\\n",
    "    3 & 2\\\\\n",
    "  \\end{pmatrix}\n",
    "  =\n",
    "  ...\n",
    "$$"
   ]
  },
  {
   "cell_type": "code",
   "execution_count": 7,
   "id": "9895aaab",
   "metadata": {},
   "outputs": [],
   "source": [
    "# Implement both matrices:\n",
    "\n",
    "# mat1 = ...\n",
    "# mat2 = ...\n",
    "\n",
    "# Can we multiply them? Check if dimensions satisfy the (M by N) * (N by K) = (M by K) rule:\n",
    "\n",
    "# ...\n",
    "\n",
    "# How do you multiply these matrices by hand?\n",
    "\n",
    "# ...\n",
    "\n",
    "# Now multiply the matrices in code:\n",
    "\n",
    "# ...\n",
    "\n",
    "# In case you didn't: can you generalize this algorithm?\n",
    "\n",
    "# ..."
   ]
  }
 ],
 "metadata": {
  "kernelspec": {
   "display_name": "Python 3 (ipykernel)",
   "language": "python",
   "name": "python3"
  },
  "language_info": {
   "codemirror_mode": {
    "name": "ipython",
    "version": 3
   },
   "file_extension": ".py",
   "mimetype": "text/x-python",
   "name": "python",
   "nbconvert_exporter": "python",
   "pygments_lexer": "ipython3",
   "version": "3.11.1"
  }
 },
 "nbformat": 4,
 "nbformat_minor": 5
}
