{
 "cells": [
  {
   "cell_type": "markdown",
   "id": "dea48ef3",
   "metadata": {},
   "source": [
    "Stel, een klant komt naar je toe en vraagt of je overeenkomsten kan vinden tussen klanten. Deze overeenkomsten moeten alle klanten groeperen om zo de groepen beter te kunnen benaderen met bv. gepersonaliseerde reclame of aanbiedingen.\n",
    "\n",
    "Één mogelijke manier is door gebruik te maken van een clustering algoritme. Omdat de dataset klein is en verklaarbaarheid van de data een grote rol speelt, maken we gebruik van hiërarchische clustering analyse.\n",
    "\n",
    "Laten we beginnen met het importeren van de dataset."
   ]
  },
  {
   "cell_type": "code",
   "execution_count": null,
   "id": "d76cc054",
   "metadata": {},
   "outputs": [],
   "source": [
    "import pandas as pd\n",
    "\n",
    "# Substitute the path_to_file content by the path to your shopping-data.csv file \n",
    "path_to_file = 'shopping-data.csv'\n",
    "customer_data = pd.read_csv(path_to_file)"
   ]
  },
  {
   "cell_type": "code",
   "execution_count": null,
   "id": "8104ca47",
   "metadata": {},
   "outputs": [],
   "source": [
    "customer_data.shape"
   ]
  },
  {
   "cell_type": "code",
   "execution_count": null,
   "id": "b02c54bd",
   "metadata": {},
   "outputs": [],
   "source": [
    "customer_data.columns"
   ]
  },
  {
   "cell_type": "markdown",
   "id": "5a4db76b",
   "metadata": {},
   "source": [
    "Laten we even wat verder induiken op de \"spending habits\" van de klanten door de spending score in een histogram te plaatsen."
   ]
  },
  {
   "cell_type": "code",
   "execution_count": null,
   "id": "d7261733",
   "metadata": {},
   "outputs": [],
   "source": [
    "customer_data['Spending Score (1-100)'].hist()"
   ]
  },
  {
   "cell_type": "code",
   "execution_count": null,
   "id": "ac4d9d33",
   "metadata": {},
   "outputs": [],
   "source": [
    "# transpose() transposes the table, making it easier for us to compare values\n",
    "customer_data.describe().transpose()"
   ]
  },
  {
   "cell_type": "code",
   "execution_count": null,
   "id": "86cde312",
   "metadata": {},
   "outputs": [],
   "source": [
    "customer_data.info()"
   ]
  },
  {
   "cell_type": "code",
   "execution_count": null,
   "id": "bb83bffc",
   "metadata": {},
   "outputs": [],
   "source": [
    "customer_data.head() "
   ]
  },
  {
   "cell_type": "code",
   "execution_count": null,
   "id": "824079a0",
   "metadata": {},
   "outputs": [],
   "source": [
    "customer_data['Genre'].unique()"
   ]
  },
  {
   "cell_type": "code",
   "execution_count": null,
   "id": "05b29617",
   "metadata": {},
   "outputs": [],
   "source": [
    "customer_data['Genre'].value_counts(normalize=True)"
   ]
  },
  {
   "cell_type": "code",
   "execution_count": null,
   "id": "db59f291",
   "metadata": {},
   "outputs": [],
   "source": [
    "intervals = [15, 20, 30, 40, 50, 60, 70]\n",
    "col = customer_data['Age']\n",
    "customer_data['Age Groups'] = pd.cut(x=col, bins=intervals)\n",
    "\n",
    "# To be able to look at the result stored in the variable\n",
    "customer_data['Age Groups'] "
   ]
  },
  {
   "cell_type": "code",
   "execution_count": null,
   "id": "f0ce8686",
   "metadata": {},
   "outputs": [],
   "source": [
    "customer_data.groupby('Age Groups')['Age Groups'].count()"
   ]
  },
  {
   "cell_type": "code",
   "execution_count": null,
   "id": "8df43f57",
   "metadata": {},
   "outputs": [],
   "source": [
    "# The _oh means one-hot\n",
    "customer_data_oh = pd.get_dummies(customer_data)\n",
    "# Display the one-hot encoded dataframe\n",
    "customer_data_oh "
   ]
  },
  {
   "cell_type": "code",
   "execution_count": null,
   "id": "632e099b",
   "metadata": {},
   "outputs": [],
   "source": [
    "customer_data_oh = customer_data_oh.drop(['Age'], axis=1)\n",
    "customer_data_oh.shape "
   ]
  },
  {
   "cell_type": "markdown",
   "id": "771533b0",
   "metadata": {},
   "source": [
    "Het voordeel van one-hot-encoding is het versimpelen van het weergeven van kolom waardes. Het is makkelijk te lezen en te begrijpen. Het nadeel is dat er nu 8 EXTRA kolommen aan zijn gemaakt in de dataset. \n",
    "\n",
    "Hiermee kan een dendrogram gemaakt worden, maar eerst is het van belang om te kijken welke oorspronkelijke features tegenover elkaar geplot kunnen worden, waarbij clusters tevoorschijn kunnen komen."
   ]
  },
  {
   "cell_type": "code",
   "execution_count": null,
   "id": "f3d93d90",
   "metadata": {},
   "outputs": [],
   "source": [
    "import seaborn as sns\n",
    "# Seaborn is een data-visualisatie package\n",
    "\n",
    "# Dropping CustomerID column from data \n",
    "customer_data = customer_data.drop('CustomerID', axis=1)\n",
    "\n",
    "sns.pairplot(customer_data)"
   ]
  },
  {
   "cell_type": "code",
   "execution_count": null,
   "id": "0a0c5bd4",
   "metadata": {},
   "outputs": [],
   "source": [
    "sns.scatterplot(x=customer_data['Annual Income (k$)'],\n",
    "                y=customer_data['Spending Score (1-100)'])"
   ]
  },
  {
   "cell_type": "code",
   "execution_count": null,
   "id": "be509191",
   "metadata": {},
   "outputs": [],
   "source": [
    "import scipy.cluster.hierarchy as shc\n",
    "import matplotlib.pyplot as plt\n",
    "\n",
    "plt.figure(figsize=(10, 7))\n",
    "plt.title(\"Customers Dendrogram\")\n",
    "\n",
    "# Selecting Annual Income and Spending Scores by index\n",
    "selected_data = customer_data_oh.iloc[:, 1:3]\n",
    "clusters = shc.linkage(selected_data, \n",
    "            method='ward', \n",
    "            metric=\"euclidean\")\n",
    "shc.dendrogram(Z=clusters)\n",
    "plt.show()"
   ]
  },
  {
   "cell_type": "markdown",
   "id": "a9c5e2a3",
   "metadata": {},
   "source": [
    "Het vinden van het aantal clusters is een beetje puzzelen. Er moet gekeken worden naar de grootste horizontale vlakte in een Dendrogram waar de grootste verticale lijnen door passeren. Twee mogelijke opties hierin zijn of een lijn trekken op een y van 350, of op een y van rond de 125. De lijn die door y = 350 passeert heeft echter niet de grootste verticale lijnen door zich heen lopen. Daarnaast hebben we met de Seaborn plots al een visuele indicatie van 5 clusters gezien. Dit betekent dat we een lijn trekken op y = 125."
   ]
  },
  {
   "cell_type": "code",
   "execution_count": null,
   "id": "b317a308",
   "metadata": {},
   "outputs": [],
   "source": [
    "plt.figure(figsize=(10, 7))\n",
    "plt.title(\"Customers Dendrogram with line\")\n",
    "clusters = shc.linkage(selected_data, \n",
    "            method='ward', \n",
    "            metric=\"euclidean\")\n",
    "shc.dendrogram(clusters)\n",
    "plt.axhline(y = 125, color = 'r', linestyle = '-')\n"
   ]
  },
  {
   "cell_type": "code",
   "execution_count": null,
   "id": "2fc5aa1f",
   "metadata": {},
   "outputs": [],
   "source": [
    "from sklearn.cluster import AgglomerativeClustering\n",
    "\n",
    "clustering_model = AgglomerativeClustering(n_clusters=7, affinity='euclidean', linkage='ward')\n",
    "clustering_model.fit(selected_data)\n",
    "clustering_model.labels_"
   ]
  },
  {
   "cell_type": "code",
   "execution_count": null,
   "id": "78d9d191",
   "metadata": {},
   "outputs": [],
   "source": [
    "data_labels = clustering_model.labels_\n",
    "sns.scatterplot(x='Annual Income (k$)', \n",
    "                y='Spending Score (1-100)', \n",
    "                data=selected_data, \n",
    "                hue=data_labels,\n",
    "                palette=\"rainbow\").set_title('Labeled Customer Data')"
   ]
  },
  {
   "cell_type": "code",
   "execution_count": null,
   "id": "dadc00c4",
   "metadata": {},
   "outputs": [],
   "source": []
  }
 ],
 "metadata": {
  "kernelspec": {
   "display_name": "Python 3 (ipykernel)",
   "language": "python",
   "name": "python3"
  },
  "language_info": {
   "codemirror_mode": {
    "name": "ipython",
    "version": 3
   },
   "file_extension": ".py",
   "mimetype": "text/x-python",
   "name": "python",
   "nbconvert_exporter": "python",
   "pygments_lexer": "ipython3",
   "version": "3.10.8"
  }
 },
 "nbformat": 4,
 "nbformat_minor": 5
}
